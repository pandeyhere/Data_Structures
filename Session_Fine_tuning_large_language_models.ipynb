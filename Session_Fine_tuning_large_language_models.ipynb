{
  "nbformat": 4,
  "nbformat_minor": 0,
  "metadata": {
    "colab": {
      "provenance": [],
      "include_colab_link": true
    },
    "kernelspec": {
      "name": "python3",
      "display_name": "Python 3"
    },
    "language_info": {
      "name": "python"
    },
    "widgets": {
      "application/vnd.jupyter.widget-state+json": {
        "d3bef582a049450caaa156a820c2de47": {
          "model_module": "@jupyter-widgets/controls",
          "model_name": "HBoxModel",
          "model_module_version": "1.5.0",
          "state": {
            "_dom_classes": [],
            "_model_module": "@jupyter-widgets/controls",
            "_model_module_version": "1.5.0",
            "_model_name": "HBoxModel",
            "_view_count": null,
            "_view_module": "@jupyter-widgets/controls",
            "_view_module_version": "1.5.0",
            "_view_name": "HBoxView",
            "box_style": "",
            "children": [
              "IPY_MODEL_ad7c45b8bf4a4d4f99ed65815ea8aff7",
              "IPY_MODEL_e02c41e0a8e54c058cb254417aab683e",
              "IPY_MODEL_010c1f948a2749aa9e9c0af02a5628b6"
            ],
            "layout": "IPY_MODEL_deb487d7748f4f7a90174809964556e9"
          }
        },
        "ad7c45b8bf4a4d4f99ed65815ea8aff7": {
          "model_module": "@jupyter-widgets/controls",
          "model_name": "HTMLModel",
          "model_module_version": "1.5.0",
          "state": {
            "_dom_classes": [],
            "_model_module": "@jupyter-widgets/controls",
            "_model_module_version": "1.5.0",
            "_model_name": "HTMLModel",
            "_view_count": null,
            "_view_module": "@jupyter-widgets/controls",
            "_view_module_version": "1.5.0",
            "_view_name": "HTMLView",
            "description": "",
            "description_tooltip": null,
            "layout": "IPY_MODEL_f10145df43864be39a63ff8368789995",
            "placeholder": "​",
            "style": "IPY_MODEL_77e7f2cf9bc34e01bbacf96176ae0218",
            "value": "tokenizer_config.json: 100%"
          }
        },
        "e02c41e0a8e54c058cb254417aab683e": {
          "model_module": "@jupyter-widgets/controls",
          "model_name": "FloatProgressModel",
          "model_module_version": "1.5.0",
          "state": {
            "_dom_classes": [],
            "_model_module": "@jupyter-widgets/controls",
            "_model_module_version": "1.5.0",
            "_model_name": "FloatProgressModel",
            "_view_count": null,
            "_view_module": "@jupyter-widgets/controls",
            "_view_module_version": "1.5.0",
            "_view_name": "ProgressView",
            "bar_style": "success",
            "description": "",
            "description_tooltip": null,
            "layout": "IPY_MODEL_4683fd06064c490b91da2189c93ec3d4",
            "max": 396,
            "min": 0,
            "orientation": "horizontal",
            "style": "IPY_MODEL_26387eda56354cfe934e3224b3019a95",
            "value": 396
          }
        },
        "010c1f948a2749aa9e9c0af02a5628b6": {
          "model_module": "@jupyter-widgets/controls",
          "model_name": "HTMLModel",
          "model_module_version": "1.5.0",
          "state": {
            "_dom_classes": [],
            "_model_module": "@jupyter-widgets/controls",
            "_model_module_version": "1.5.0",
            "_model_name": "HTMLModel",
            "_view_count": null,
            "_view_module": "@jupyter-widgets/controls",
            "_view_module_version": "1.5.0",
            "_view_name": "HTMLView",
            "description": "",
            "description_tooltip": null,
            "layout": "IPY_MODEL_a0300e3e9cc1485f959e5dcb60799e54",
            "placeholder": "​",
            "style": "IPY_MODEL_d6308b2b23bb46959d8733f116ccd644",
            "value": " 396/396 [00:00&lt;00:00, 14.5kB/s]"
          }
        },
        "deb487d7748f4f7a90174809964556e9": {
          "model_module": "@jupyter-widgets/base",
          "model_name": "LayoutModel",
          "model_module_version": "1.2.0",
          "state": {
            "_model_module": "@jupyter-widgets/base",
            "_model_module_version": "1.2.0",
            "_model_name": "LayoutModel",
            "_view_count": null,
            "_view_module": "@jupyter-widgets/base",
            "_view_module_version": "1.2.0",
            "_view_name": "LayoutView",
            "align_content": null,
            "align_items": null,
            "align_self": null,
            "border": null,
            "bottom": null,
            "display": null,
            "flex": null,
            "flex_flow": null,
            "grid_area": null,
            "grid_auto_columns": null,
            "grid_auto_flow": null,
            "grid_auto_rows": null,
            "grid_column": null,
            "grid_gap": null,
            "grid_row": null,
            "grid_template_areas": null,
            "grid_template_columns": null,
            "grid_template_rows": null,
            "height": null,
            "justify_content": null,
            "justify_items": null,
            "left": null,
            "margin": null,
            "max_height": null,
            "max_width": null,
            "min_height": null,
            "min_width": null,
            "object_fit": null,
            "object_position": null,
            "order": null,
            "overflow": null,
            "overflow_x": null,
            "overflow_y": null,
            "padding": null,
            "right": null,
            "top": null,
            "visibility": null,
            "width": null
          }
        },
        "f10145df43864be39a63ff8368789995": {
          "model_module": "@jupyter-widgets/base",
          "model_name": "LayoutModel",
          "model_module_version": "1.2.0",
          "state": {
            "_model_module": "@jupyter-widgets/base",
            "_model_module_version": "1.2.0",
            "_model_name": "LayoutModel",
            "_view_count": null,
            "_view_module": "@jupyter-widgets/base",
            "_view_module_version": "1.2.0",
            "_view_name": "LayoutView",
            "align_content": null,
            "align_items": null,
            "align_self": null,
            "border": null,
            "bottom": null,
            "display": null,
            "flex": null,
            "flex_flow": null,
            "grid_area": null,
            "grid_auto_columns": null,
            "grid_auto_flow": null,
            "grid_auto_rows": null,
            "grid_column": null,
            "grid_gap": null,
            "grid_row": null,
            "grid_template_areas": null,
            "grid_template_columns": null,
            "grid_template_rows": null,
            "height": null,
            "justify_content": null,
            "justify_items": null,
            "left": null,
            "margin": null,
            "max_height": null,
            "max_width": null,
            "min_height": null,
            "min_width": null,
            "object_fit": null,
            "object_position": null,
            "order": null,
            "overflow": null,
            "overflow_x": null,
            "overflow_y": null,
            "padding": null,
            "right": null,
            "top": null,
            "visibility": null,
            "width": null
          }
        },
        "77e7f2cf9bc34e01bbacf96176ae0218": {
          "model_module": "@jupyter-widgets/controls",
          "model_name": "DescriptionStyleModel",
          "model_module_version": "1.5.0",
          "state": {
            "_model_module": "@jupyter-widgets/controls",
            "_model_module_version": "1.5.0",
            "_model_name": "DescriptionStyleModel",
            "_view_count": null,
            "_view_module": "@jupyter-widgets/base",
            "_view_module_version": "1.2.0",
            "_view_name": "StyleView",
            "description_width": ""
          }
        },
        "4683fd06064c490b91da2189c93ec3d4": {
          "model_module": "@jupyter-widgets/base",
          "model_name": "LayoutModel",
          "model_module_version": "1.2.0",
          "state": {
            "_model_module": "@jupyter-widgets/base",
            "_model_module_version": "1.2.0",
            "_model_name": "LayoutModel",
            "_view_count": null,
            "_view_module": "@jupyter-widgets/base",
            "_view_module_version": "1.2.0",
            "_view_name": "LayoutView",
            "align_content": null,
            "align_items": null,
            "align_self": null,
            "border": null,
            "bottom": null,
            "display": null,
            "flex": null,
            "flex_flow": null,
            "grid_area": null,
            "grid_auto_columns": null,
            "grid_auto_flow": null,
            "grid_auto_rows": null,
            "grid_column": null,
            "grid_gap": null,
            "grid_row": null,
            "grid_template_areas": null,
            "grid_template_columns": null,
            "grid_template_rows": null,
            "height": null,
            "justify_content": null,
            "justify_items": null,
            "left": null,
            "margin": null,
            "max_height": null,
            "max_width": null,
            "min_height": null,
            "min_width": null,
            "object_fit": null,
            "object_position": null,
            "order": null,
            "overflow": null,
            "overflow_x": null,
            "overflow_y": null,
            "padding": null,
            "right": null,
            "top": null,
            "visibility": null,
            "width": null
          }
        },
        "26387eda56354cfe934e3224b3019a95": {
          "model_module": "@jupyter-widgets/controls",
          "model_name": "ProgressStyleModel",
          "model_module_version": "1.5.0",
          "state": {
            "_model_module": "@jupyter-widgets/controls",
            "_model_module_version": "1.5.0",
            "_model_name": "ProgressStyleModel",
            "_view_count": null,
            "_view_module": "@jupyter-widgets/base",
            "_view_module_version": "1.2.0",
            "_view_name": "StyleView",
            "bar_color": null,
            "description_width": ""
          }
        },
        "a0300e3e9cc1485f959e5dcb60799e54": {
          "model_module": "@jupyter-widgets/base",
          "model_name": "LayoutModel",
          "model_module_version": "1.2.0",
          "state": {
            "_model_module": "@jupyter-widgets/base",
            "_model_module_version": "1.2.0",
            "_model_name": "LayoutModel",
            "_view_count": null,
            "_view_module": "@jupyter-widgets/base",
            "_view_module_version": "1.2.0",
            "_view_name": "LayoutView",
            "align_content": null,
            "align_items": null,
            "align_self": null,
            "border": null,
            "bottom": null,
            "display": null,
            "flex": null,
            "flex_flow": null,
            "grid_area": null,
            "grid_auto_columns": null,
            "grid_auto_flow": null,
            "grid_auto_rows": null,
            "grid_column": null,
            "grid_gap": null,
            "grid_row": null,
            "grid_template_areas": null,
            "grid_template_columns": null,
            "grid_template_rows": null,
            "height": null,
            "justify_content": null,
            "justify_items": null,
            "left": null,
            "margin": null,
            "max_height": null,
            "max_width": null,
            "min_height": null,
            "min_width": null,
            "object_fit": null,
            "object_position": null,
            "order": null,
            "overflow": null,
            "overflow_x": null,
            "overflow_y": null,
            "padding": null,
            "right": null,
            "top": null,
            "visibility": null,
            "width": null
          }
        },
        "d6308b2b23bb46959d8733f116ccd644": {
          "model_module": "@jupyter-widgets/controls",
          "model_name": "DescriptionStyleModel",
          "model_module_version": "1.5.0",
          "state": {
            "_model_module": "@jupyter-widgets/controls",
            "_model_module_version": "1.5.0",
            "_model_name": "DescriptionStyleModel",
            "_view_count": null,
            "_view_module": "@jupyter-widgets/base",
            "_view_module_version": "1.2.0",
            "_view_name": "StyleView",
            "description_width": ""
          }
        },
        "0eb338c3a21e4c01b44f6a598ba69687": {
          "model_module": "@jupyter-widgets/controls",
          "model_name": "HBoxModel",
          "model_module_version": "1.5.0",
          "state": {
            "_dom_classes": [],
            "_model_module": "@jupyter-widgets/controls",
            "_model_module_version": "1.5.0",
            "_model_name": "HBoxModel",
            "_view_count": null,
            "_view_module": "@jupyter-widgets/controls",
            "_view_module_version": "1.5.0",
            "_view_name": "HBoxView",
            "box_style": "",
            "children": [
              "IPY_MODEL_fcefc8cf4cc4472691ccbec48dc3cd7a",
              "IPY_MODEL_b595ca100018485386412b67b6829976",
              "IPY_MODEL_a9c29e6feb28403980db59b2f104d112"
            ],
            "layout": "IPY_MODEL_1896e40eec09457fbf687438f11c90fa"
          }
        },
        "fcefc8cf4cc4472691ccbec48dc3cd7a": {
          "model_module": "@jupyter-widgets/controls",
          "model_name": "HTMLModel",
          "model_module_version": "1.5.0",
          "state": {
            "_dom_classes": [],
            "_model_module": "@jupyter-widgets/controls",
            "_model_module_version": "1.5.0",
            "_model_name": "HTMLModel",
            "_view_count": null,
            "_view_module": "@jupyter-widgets/controls",
            "_view_module_version": "1.5.0",
            "_view_name": "HTMLView",
            "description": "",
            "description_tooltip": null,
            "layout": "IPY_MODEL_e04b79c93b1640d2b9972c70dd8966ab",
            "placeholder": "​",
            "style": "IPY_MODEL_c360a7ec859d4accaa55284cc48c399a",
            "value": "tokenizer.json: 100%"
          }
        },
        "b595ca100018485386412b67b6829976": {
          "model_module": "@jupyter-widgets/controls",
          "model_name": "FloatProgressModel",
          "model_module_version": "1.5.0",
          "state": {
            "_dom_classes": [],
            "_model_module": "@jupyter-widgets/controls",
            "_model_module_version": "1.5.0",
            "_model_name": "FloatProgressModel",
            "_view_count": null,
            "_view_module": "@jupyter-widgets/controls",
            "_view_module_version": "1.5.0",
            "_view_name": "ProgressView",
            "bar_style": "success",
            "description": "",
            "description_tooltip": null,
            "layout": "IPY_MODEL_8cd92a0950074133a2a51b856ce4a39a",
            "max": 2113710,
            "min": 0,
            "orientation": "horizontal",
            "style": "IPY_MODEL_16d0f17469744dddb854344d3e8b9968",
            "value": 2113710
          }
        },
        "a9c29e6feb28403980db59b2f104d112": {
          "model_module": "@jupyter-widgets/controls",
          "model_name": "HTMLModel",
          "model_module_version": "1.5.0",
          "state": {
            "_dom_classes": [],
            "_model_module": "@jupyter-widgets/controls",
            "_model_module_version": "1.5.0",
            "_model_name": "HTMLModel",
            "_view_count": null,
            "_view_module": "@jupyter-widgets/controls",
            "_view_module_version": "1.5.0",
            "_view_name": "HTMLView",
            "description": "",
            "description_tooltip": null,
            "layout": "IPY_MODEL_82917133f487486899658caccbeb0657",
            "placeholder": "​",
            "style": "IPY_MODEL_d1b7d613dfc24988a78a8668158c8a99",
            "value": " 2.11M/2.11M [00:00&lt;00:00, 8.19MB/s]"
          }
        },
        "1896e40eec09457fbf687438f11c90fa": {
          "model_module": "@jupyter-widgets/base",
          "model_name": "LayoutModel",
          "model_module_version": "1.2.0",
          "state": {
            "_model_module": "@jupyter-widgets/base",
            "_model_module_version": "1.2.0",
            "_model_name": "LayoutModel",
            "_view_count": null,
            "_view_module": "@jupyter-widgets/base",
            "_view_module_version": "1.2.0",
            "_view_name": "LayoutView",
            "align_content": null,
            "align_items": null,
            "align_self": null,
            "border": null,
            "bottom": null,
            "display": null,
            "flex": null,
            "flex_flow": null,
            "grid_area": null,
            "grid_auto_columns": null,
            "grid_auto_flow": null,
            "grid_auto_rows": null,
            "grid_column": null,
            "grid_gap": null,
            "grid_row": null,
            "grid_template_areas": null,
            "grid_template_columns": null,
            "grid_template_rows": null,
            "height": null,
            "justify_content": null,
            "justify_items": null,
            "left": null,
            "margin": null,
            "max_height": null,
            "max_width": null,
            "min_height": null,
            "min_width": null,
            "object_fit": null,
            "object_position": null,
            "order": null,
            "overflow": null,
            "overflow_x": null,
            "overflow_y": null,
            "padding": null,
            "right": null,
            "top": null,
            "visibility": null,
            "width": null
          }
        },
        "e04b79c93b1640d2b9972c70dd8966ab": {
          "model_module": "@jupyter-widgets/base",
          "model_name": "LayoutModel",
          "model_module_version": "1.2.0",
          "state": {
            "_model_module": "@jupyter-widgets/base",
            "_model_module_version": "1.2.0",
            "_model_name": "LayoutModel",
            "_view_count": null,
            "_view_module": "@jupyter-widgets/base",
            "_view_module_version": "1.2.0",
            "_view_name": "LayoutView",
            "align_content": null,
            "align_items": null,
            "align_self": null,
            "border": null,
            "bottom": null,
            "display": null,
            "flex": null,
            "flex_flow": null,
            "grid_area": null,
            "grid_auto_columns": null,
            "grid_auto_flow": null,
            "grid_auto_rows": null,
            "grid_column": null,
            "grid_gap": null,
            "grid_row": null,
            "grid_template_areas": null,
            "grid_template_columns": null,
            "grid_template_rows": null,
            "height": null,
            "justify_content": null,
            "justify_items": null,
            "left": null,
            "margin": null,
            "max_height": null,
            "max_width": null,
            "min_height": null,
            "min_width": null,
            "object_fit": null,
            "object_position": null,
            "order": null,
            "overflow": null,
            "overflow_x": null,
            "overflow_y": null,
            "padding": null,
            "right": null,
            "top": null,
            "visibility": null,
            "width": null
          }
        },
        "c360a7ec859d4accaa55284cc48c399a": {
          "model_module": "@jupyter-widgets/controls",
          "model_name": "DescriptionStyleModel",
          "model_module_version": "1.5.0",
          "state": {
            "_model_module": "@jupyter-widgets/controls",
            "_model_module_version": "1.5.0",
            "_model_name": "DescriptionStyleModel",
            "_view_count": null,
            "_view_module": "@jupyter-widgets/base",
            "_view_module_version": "1.2.0",
            "_view_name": "StyleView",
            "description_width": ""
          }
        },
        "8cd92a0950074133a2a51b856ce4a39a": {
          "model_module": "@jupyter-widgets/base",
          "model_name": "LayoutModel",
          "model_module_version": "1.2.0",
          "state": {
            "_model_module": "@jupyter-widgets/base",
            "_model_module_version": "1.2.0",
            "_model_name": "LayoutModel",
            "_view_count": null,
            "_view_module": "@jupyter-widgets/base",
            "_view_module_version": "1.2.0",
            "_view_name": "LayoutView",
            "align_content": null,
            "align_items": null,
            "align_self": null,
            "border": null,
            "bottom": null,
            "display": null,
            "flex": null,
            "flex_flow": null,
            "grid_area": null,
            "grid_auto_columns": null,
            "grid_auto_flow": null,
            "grid_auto_rows": null,
            "grid_column": null,
            "grid_gap": null,
            "grid_row": null,
            "grid_template_areas": null,
            "grid_template_columns": null,
            "grid_template_rows": null,
            "height": null,
            "justify_content": null,
            "justify_items": null,
            "left": null,
            "margin": null,
            "max_height": null,
            "max_width": null,
            "min_height": null,
            "min_width": null,
            "object_fit": null,
            "object_position": null,
            "order": null,
            "overflow": null,
            "overflow_x": null,
            "overflow_y": null,
            "padding": null,
            "right": null,
            "top": null,
            "visibility": null,
            "width": null
          }
        },
        "16d0f17469744dddb854344d3e8b9968": {
          "model_module": "@jupyter-widgets/controls",
          "model_name": "ProgressStyleModel",
          "model_module_version": "1.5.0",
          "state": {
            "_model_module": "@jupyter-widgets/controls",
            "_model_module_version": "1.5.0",
            "_model_name": "ProgressStyleModel",
            "_view_count": null,
            "_view_module": "@jupyter-widgets/base",
            "_view_module_version": "1.2.0",
            "_view_name": "StyleView",
            "bar_color": null,
            "description_width": ""
          }
        },
        "82917133f487486899658caccbeb0657": {
          "model_module": "@jupyter-widgets/base",
          "model_name": "LayoutModel",
          "model_module_version": "1.2.0",
          "state": {
            "_model_module": "@jupyter-widgets/base",
            "_model_module_version": "1.2.0",
            "_model_name": "LayoutModel",
            "_view_count": null,
            "_view_module": "@jupyter-widgets/base",
            "_view_module_version": "1.2.0",
            "_view_name": "LayoutView",
            "align_content": null,
            "align_items": null,
            "align_self": null,
            "border": null,
            "bottom": null,
            "display": null,
            "flex": null,
            "flex_flow": null,
            "grid_area": null,
            "grid_auto_columns": null,
            "grid_auto_flow": null,
            "grid_auto_rows": null,
            "grid_column": null,
            "grid_gap": null,
            "grid_row": null,
            "grid_template_areas": null,
            "grid_template_columns": null,
            "grid_template_rows": null,
            "height": null,
            "justify_content": null,
            "justify_items": null,
            "left": null,
            "margin": null,
            "max_height": null,
            "max_width": null,
            "min_height": null,
            "min_width": null,
            "object_fit": null,
            "object_position": null,
            "order": null,
            "overflow": null,
            "overflow_x": null,
            "overflow_y": null,
            "padding": null,
            "right": null,
            "top": null,
            "visibility": null,
            "width": null
          }
        },
        "d1b7d613dfc24988a78a8668158c8a99": {
          "model_module": "@jupyter-widgets/controls",
          "model_name": "DescriptionStyleModel",
          "model_module_version": "1.5.0",
          "state": {
            "_model_module": "@jupyter-widgets/controls",
            "_model_module_version": "1.5.0",
            "_model_name": "DescriptionStyleModel",
            "_view_count": null,
            "_view_module": "@jupyter-widgets/base",
            "_view_module_version": "1.2.0",
            "_view_name": "StyleView",
            "description_width": ""
          }
        },
        "f171c4256bf24db698b7e2b78577e4d0": {
          "model_module": "@jupyter-widgets/controls",
          "model_name": "HBoxModel",
          "model_module_version": "1.5.0",
          "state": {
            "_dom_classes": [],
            "_model_module": "@jupyter-widgets/controls",
            "_model_module_version": "1.5.0",
            "_model_name": "HBoxModel",
            "_view_count": null,
            "_view_module": "@jupyter-widgets/controls",
            "_view_module_version": "1.5.0",
            "_view_name": "HBoxView",
            "box_style": "",
            "children": [
              "IPY_MODEL_fd389a1a220646da9b6716510ec5bd5c",
              "IPY_MODEL_ddb4b0799f594f4d929a7d36f00f29c4",
              "IPY_MODEL_133331ce54644778b7e9c3468069ec63"
            ],
            "layout": "IPY_MODEL_f2d1cef73c5445a68d0cb2271afa2fb6"
          }
        },
        "fd389a1a220646da9b6716510ec5bd5c": {
          "model_module": "@jupyter-widgets/controls",
          "model_name": "HTMLModel",
          "model_module_version": "1.5.0",
          "state": {
            "_dom_classes": [],
            "_model_module": "@jupyter-widgets/controls",
            "_model_module_version": "1.5.0",
            "_model_name": "HTMLModel",
            "_view_count": null,
            "_view_module": "@jupyter-widgets/controls",
            "_view_module_version": "1.5.0",
            "_view_name": "HTMLView",
            "description": "",
            "description_tooltip": null,
            "layout": "IPY_MODEL_f30c92b3f50541a5a585bd203d93a254",
            "placeholder": "​",
            "style": "IPY_MODEL_ebd69b32444e49dab7d49c3453cb8790",
            "value": "special_tokens_map.json: 100%"
          }
        },
        "ddb4b0799f594f4d929a7d36f00f29c4": {
          "model_module": "@jupyter-widgets/controls",
          "model_name": "FloatProgressModel",
          "model_module_version": "1.5.0",
          "state": {
            "_dom_classes": [],
            "_model_module": "@jupyter-widgets/controls",
            "_model_module_version": "1.5.0",
            "_model_name": "FloatProgressModel",
            "_view_count": null,
            "_view_module": "@jupyter-widgets/controls",
            "_view_module_version": "1.5.0",
            "_view_name": "ProgressView",
            "bar_style": "success",
            "description": "",
            "description_tooltip": null,
            "layout": "IPY_MODEL_03ed75d4d28b42f19994a1211f450e81",
            "max": 99,
            "min": 0,
            "orientation": "horizontal",
            "style": "IPY_MODEL_f517fb294d76492db7af05824059a285",
            "value": 99
          }
        },
        "133331ce54644778b7e9c3468069ec63": {
          "model_module": "@jupyter-widgets/controls",
          "model_name": "HTMLModel",
          "model_module_version": "1.5.0",
          "state": {
            "_dom_classes": [],
            "_model_module": "@jupyter-widgets/controls",
            "_model_module_version": "1.5.0",
            "_model_name": "HTMLModel",
            "_view_count": null,
            "_view_module": "@jupyter-widgets/controls",
            "_view_module_version": "1.5.0",
            "_view_name": "HTMLView",
            "description": "",
            "description_tooltip": null,
            "layout": "IPY_MODEL_1edc52fe43684c75ac3a901c8cd373b6",
            "placeholder": "​",
            "style": "IPY_MODEL_e76bf5dff8174915b977b234a48becf4",
            "value": " 99.0/99.0 [00:00&lt;00:00, 7.06kB/s]"
          }
        },
        "f2d1cef73c5445a68d0cb2271afa2fb6": {
          "model_module": "@jupyter-widgets/base",
          "model_name": "LayoutModel",
          "model_module_version": "1.2.0",
          "state": {
            "_model_module": "@jupyter-widgets/base",
            "_model_module_version": "1.2.0",
            "_model_name": "LayoutModel",
            "_view_count": null,
            "_view_module": "@jupyter-widgets/base",
            "_view_module_version": "1.2.0",
            "_view_name": "LayoutView",
            "align_content": null,
            "align_items": null,
            "align_self": null,
            "border": null,
            "bottom": null,
            "display": null,
            "flex": null,
            "flex_flow": null,
            "grid_area": null,
            "grid_auto_columns": null,
            "grid_auto_flow": null,
            "grid_auto_rows": null,
            "grid_column": null,
            "grid_gap": null,
            "grid_row": null,
            "grid_template_areas": null,
            "grid_template_columns": null,
            "grid_template_rows": null,
            "height": null,
            "justify_content": null,
            "justify_items": null,
            "left": null,
            "margin": null,
            "max_height": null,
            "max_width": null,
            "min_height": null,
            "min_width": null,
            "object_fit": null,
            "object_position": null,
            "order": null,
            "overflow": null,
            "overflow_x": null,
            "overflow_y": null,
            "padding": null,
            "right": null,
            "top": null,
            "visibility": null,
            "width": null
          }
        },
        "f30c92b3f50541a5a585bd203d93a254": {
          "model_module": "@jupyter-widgets/base",
          "model_name": "LayoutModel",
          "model_module_version": "1.2.0",
          "state": {
            "_model_module": "@jupyter-widgets/base",
            "_model_module_version": "1.2.0",
            "_model_name": "LayoutModel",
            "_view_count": null,
            "_view_module": "@jupyter-widgets/base",
            "_view_module_version": "1.2.0",
            "_view_name": "LayoutView",
            "align_content": null,
            "align_items": null,
            "align_self": null,
            "border": null,
            "bottom": null,
            "display": null,
            "flex": null,
            "flex_flow": null,
            "grid_area": null,
            "grid_auto_columns": null,
            "grid_auto_flow": null,
            "grid_auto_rows": null,
            "grid_column": null,
            "grid_gap": null,
            "grid_row": null,
            "grid_template_areas": null,
            "grid_template_columns": null,
            "grid_template_rows": null,
            "height": null,
            "justify_content": null,
            "justify_items": null,
            "left": null,
            "margin": null,
            "max_height": null,
            "max_width": null,
            "min_height": null,
            "min_width": null,
            "object_fit": null,
            "object_position": null,
            "order": null,
            "overflow": null,
            "overflow_x": null,
            "overflow_y": null,
            "padding": null,
            "right": null,
            "top": null,
            "visibility": null,
            "width": null
          }
        },
        "ebd69b32444e49dab7d49c3453cb8790": {
          "model_module": "@jupyter-widgets/controls",
          "model_name": "DescriptionStyleModel",
          "model_module_version": "1.5.0",
          "state": {
            "_model_module": "@jupyter-widgets/controls",
            "_model_module_version": "1.5.0",
            "_model_name": "DescriptionStyleModel",
            "_view_count": null,
            "_view_module": "@jupyter-widgets/base",
            "_view_module_version": "1.2.0",
            "_view_name": "StyleView",
            "description_width": ""
          }
        },
        "03ed75d4d28b42f19994a1211f450e81": {
          "model_module": "@jupyter-widgets/base",
          "model_name": "LayoutModel",
          "model_module_version": "1.2.0",
          "state": {
            "_model_module": "@jupyter-widgets/base",
            "_model_module_version": "1.2.0",
            "_model_name": "LayoutModel",
            "_view_count": null,
            "_view_module": "@jupyter-widgets/base",
            "_view_module_version": "1.2.0",
            "_view_name": "LayoutView",
            "align_content": null,
            "align_items": null,
            "align_self": null,
            "border": null,
            "bottom": null,
            "display": null,
            "flex": null,
            "flex_flow": null,
            "grid_area": null,
            "grid_auto_columns": null,
            "grid_auto_flow": null,
            "grid_auto_rows": null,
            "grid_column": null,
            "grid_gap": null,
            "grid_row": null,
            "grid_template_areas": null,
            "grid_template_columns": null,
            "grid_template_rows": null,
            "height": null,
            "justify_content": null,
            "justify_items": null,
            "left": null,
            "margin": null,
            "max_height": null,
            "max_width": null,
            "min_height": null,
            "min_width": null,
            "object_fit": null,
            "object_position": null,
            "order": null,
            "overflow": null,
            "overflow_x": null,
            "overflow_y": null,
            "padding": null,
            "right": null,
            "top": null,
            "visibility": null,
            "width": null
          }
        },
        "f517fb294d76492db7af05824059a285": {
          "model_module": "@jupyter-widgets/controls",
          "model_name": "ProgressStyleModel",
          "model_module_version": "1.5.0",
          "state": {
            "_model_module": "@jupyter-widgets/controls",
            "_model_module_version": "1.5.0",
            "_model_name": "ProgressStyleModel",
            "_view_count": null,
            "_view_module": "@jupyter-widgets/base",
            "_view_module_version": "1.2.0",
            "_view_name": "StyleView",
            "bar_color": null,
            "description_width": ""
          }
        },
        "1edc52fe43684c75ac3a901c8cd373b6": {
          "model_module": "@jupyter-widgets/base",
          "model_name": "LayoutModel",
          "model_module_version": "1.2.0",
          "state": {
            "_model_module": "@jupyter-widgets/base",
            "_model_module_version": "1.2.0",
            "_model_name": "LayoutModel",
            "_view_count": null,
            "_view_module": "@jupyter-widgets/base",
            "_view_module_version": "1.2.0",
            "_view_name": "LayoutView",
            "align_content": null,
            "align_items": null,
            "align_self": null,
            "border": null,
            "bottom": null,
            "display": null,
            "flex": null,
            "flex_flow": null,
            "grid_area": null,
            "grid_auto_columns": null,
            "grid_auto_flow": null,
            "grid_auto_rows": null,
            "grid_column": null,
            "grid_gap": null,
            "grid_row": null,
            "grid_template_areas": null,
            "grid_template_columns": null,
            "grid_template_rows": null,
            "height": null,
            "justify_content": null,
            "justify_items": null,
            "left": null,
            "margin": null,
            "max_height": null,
            "max_width": null,
            "min_height": null,
            "min_width": null,
            "object_fit": null,
            "object_position": null,
            "order": null,
            "overflow": null,
            "overflow_x": null,
            "overflow_y": null,
            "padding": null,
            "right": null,
            "top": null,
            "visibility": null,
            "width": null
          }
        },
        "e76bf5dff8174915b977b234a48becf4": {
          "model_module": "@jupyter-widgets/controls",
          "model_name": "DescriptionStyleModel",
          "model_module_version": "1.5.0",
          "state": {
            "_model_module": "@jupyter-widgets/controls",
            "_model_module_version": "1.5.0",
            "_model_name": "DescriptionStyleModel",
            "_view_count": null,
            "_view_module": "@jupyter-widgets/base",
            "_view_module_version": "1.2.0",
            "_view_name": "StyleView",
            "description_width": ""
          }
        },
        "4b64e23855b74d81ac22494b24c7e48e": {
          "model_module": "@jupyter-widgets/controls",
          "model_name": "HBoxModel",
          "model_module_version": "1.5.0",
          "state": {
            "_dom_classes": [],
            "_model_module": "@jupyter-widgets/controls",
            "_model_module_version": "1.5.0",
            "_model_name": "HBoxModel",
            "_view_count": null,
            "_view_module": "@jupyter-widgets/controls",
            "_view_module_version": "1.5.0",
            "_view_name": "HBoxView",
            "box_style": "",
            "children": [
              "IPY_MODEL_b2d41edcf108482eb6bb481624a3c312",
              "IPY_MODEL_d4da350d7f274baebf0972abe1143e8b",
              "IPY_MODEL_018b3d745c8841aeafa4f89381073ebc"
            ],
            "layout": "IPY_MODEL_17061cd889f54e8f8a34f2dd4d5e65ce"
          }
        },
        "b2d41edcf108482eb6bb481624a3c312": {
          "model_module": "@jupyter-widgets/controls",
          "model_name": "HTMLModel",
          "model_module_version": "1.5.0",
          "state": {
            "_dom_classes": [],
            "_model_module": "@jupyter-widgets/controls",
            "_model_module_version": "1.5.0",
            "_model_name": "HTMLModel",
            "_view_count": null,
            "_view_module": "@jupyter-widgets/controls",
            "_view_module_version": "1.5.0",
            "_view_name": "HTMLView",
            "description": "",
            "description_tooltip": null,
            "layout": "IPY_MODEL_c71d3871382e4d9fb2e42d2f2f670cfb",
            "placeholder": "​",
            "style": "IPY_MODEL_afbe5e3b039e45e6b0f1524b19eede96",
            "value": "Map: 100%"
          }
        },
        "d4da350d7f274baebf0972abe1143e8b": {
          "model_module": "@jupyter-widgets/controls",
          "model_name": "FloatProgressModel",
          "model_module_version": "1.5.0",
          "state": {
            "_dom_classes": [],
            "_model_module": "@jupyter-widgets/controls",
            "_model_module_version": "1.5.0",
            "_model_name": "FloatProgressModel",
            "_view_count": null,
            "_view_module": "@jupyter-widgets/controls",
            "_view_module_version": "1.5.0",
            "_view_name": "ProgressView",
            "bar_style": "success",
            "description": "",
            "description_tooltip": null,
            "layout": "IPY_MODEL_07ca82ab073449e0a9456e4f87a7ac18",
            "max": 998,
            "min": 0,
            "orientation": "horizontal",
            "style": "IPY_MODEL_f5172c6d931441b8aa295563ac2da5c3",
            "value": 998
          }
        },
        "018b3d745c8841aeafa4f89381073ebc": {
          "model_module": "@jupyter-widgets/controls",
          "model_name": "HTMLModel",
          "model_module_version": "1.5.0",
          "state": {
            "_dom_classes": [],
            "_model_module": "@jupyter-widgets/controls",
            "_model_module_version": "1.5.0",
            "_model_name": "HTMLModel",
            "_view_count": null,
            "_view_module": "@jupyter-widgets/controls",
            "_view_module_version": "1.5.0",
            "_view_name": "HTMLView",
            "description": "",
            "description_tooltip": null,
            "layout": "IPY_MODEL_ffce7db949f74c6d95e9b3fa2b306a4a",
            "placeholder": "​",
            "style": "IPY_MODEL_95f857ef50f24ce8975f9e4876dfa308",
            "value": " 998/998 [00:03&lt;00:00, 322.10 examples/s]"
          }
        },
        "17061cd889f54e8f8a34f2dd4d5e65ce": {
          "model_module": "@jupyter-widgets/base",
          "model_name": "LayoutModel",
          "model_module_version": "1.2.0",
          "state": {
            "_model_module": "@jupyter-widgets/base",
            "_model_module_version": "1.2.0",
            "_model_name": "LayoutModel",
            "_view_count": null,
            "_view_module": "@jupyter-widgets/base",
            "_view_module_version": "1.2.0",
            "_view_name": "LayoutView",
            "align_content": null,
            "align_items": null,
            "align_self": null,
            "border": null,
            "bottom": null,
            "display": null,
            "flex": null,
            "flex_flow": null,
            "grid_area": null,
            "grid_auto_columns": null,
            "grid_auto_flow": null,
            "grid_auto_rows": null,
            "grid_column": null,
            "grid_gap": null,
            "grid_row": null,
            "grid_template_areas": null,
            "grid_template_columns": null,
            "grid_template_rows": null,
            "height": null,
            "justify_content": null,
            "justify_items": null,
            "left": null,
            "margin": null,
            "max_height": null,
            "max_width": null,
            "min_height": null,
            "min_width": null,
            "object_fit": null,
            "object_position": null,
            "order": null,
            "overflow": null,
            "overflow_x": null,
            "overflow_y": null,
            "padding": null,
            "right": null,
            "top": null,
            "visibility": null,
            "width": null
          }
        },
        "c71d3871382e4d9fb2e42d2f2f670cfb": {
          "model_module": "@jupyter-widgets/base",
          "model_name": "LayoutModel",
          "model_module_version": "1.2.0",
          "state": {
            "_model_module": "@jupyter-widgets/base",
            "_model_module_version": "1.2.0",
            "_model_name": "LayoutModel",
            "_view_count": null,
            "_view_module": "@jupyter-widgets/base",
            "_view_module_version": "1.2.0",
            "_view_name": "LayoutView",
            "align_content": null,
            "align_items": null,
            "align_self": null,
            "border": null,
            "bottom": null,
            "display": null,
            "flex": null,
            "flex_flow": null,
            "grid_area": null,
            "grid_auto_columns": null,
            "grid_auto_flow": null,
            "grid_auto_rows": null,
            "grid_column": null,
            "grid_gap": null,
            "grid_row": null,
            "grid_template_areas": null,
            "grid_template_columns": null,
            "grid_template_rows": null,
            "height": null,
            "justify_content": null,
            "justify_items": null,
            "left": null,
            "margin": null,
            "max_height": null,
            "max_width": null,
            "min_height": null,
            "min_width": null,
            "object_fit": null,
            "object_position": null,
            "order": null,
            "overflow": null,
            "overflow_x": null,
            "overflow_y": null,
            "padding": null,
            "right": null,
            "top": null,
            "visibility": null,
            "width": null
          }
        },
        "afbe5e3b039e45e6b0f1524b19eede96": {
          "model_module": "@jupyter-widgets/controls",
          "model_name": "DescriptionStyleModel",
          "model_module_version": "1.5.0",
          "state": {
            "_model_module": "@jupyter-widgets/controls",
            "_model_module_version": "1.5.0",
            "_model_name": "DescriptionStyleModel",
            "_view_count": null,
            "_view_module": "@jupyter-widgets/base",
            "_view_module_version": "1.2.0",
            "_view_name": "StyleView",
            "description_width": ""
          }
        },
        "07ca82ab073449e0a9456e4f87a7ac18": {
          "model_module": "@jupyter-widgets/base",
          "model_name": "LayoutModel",
          "model_module_version": "1.2.0",
          "state": {
            "_model_module": "@jupyter-widgets/base",
            "_model_module_version": "1.2.0",
            "_model_name": "LayoutModel",
            "_view_count": null,
            "_view_module": "@jupyter-widgets/base",
            "_view_module_version": "1.2.0",
            "_view_name": "LayoutView",
            "align_content": null,
            "align_items": null,
            "align_self": null,
            "border": null,
            "bottom": null,
            "display": null,
            "flex": null,
            "flex_flow": null,
            "grid_area": null,
            "grid_auto_columns": null,
            "grid_auto_flow": null,
            "grid_auto_rows": null,
            "grid_column": null,
            "grid_gap": null,
            "grid_row": null,
            "grid_template_areas": null,
            "grid_template_columns": null,
            "grid_template_rows": null,
            "height": null,
            "justify_content": null,
            "justify_items": null,
            "left": null,
            "margin": null,
            "max_height": null,
            "max_width": null,
            "min_height": null,
            "min_width": null,
            "object_fit": null,
            "object_position": null,
            "order": null,
            "overflow": null,
            "overflow_x": null,
            "overflow_y": null,
            "padding": null,
            "right": null,
            "top": null,
            "visibility": null,
            "width": null
          }
        },
        "f5172c6d931441b8aa295563ac2da5c3": {
          "model_module": "@jupyter-widgets/controls",
          "model_name": "ProgressStyleModel",
          "model_module_version": "1.5.0",
          "state": {
            "_model_module": "@jupyter-widgets/controls",
            "_model_module_version": "1.5.0",
            "_model_name": "ProgressStyleModel",
            "_view_count": null,
            "_view_module": "@jupyter-widgets/base",
            "_view_module_version": "1.2.0",
            "_view_name": "StyleView",
            "bar_color": null,
            "description_width": ""
          }
        },
        "ffce7db949f74c6d95e9b3fa2b306a4a": {
          "model_module": "@jupyter-widgets/base",
          "model_name": "LayoutModel",
          "model_module_version": "1.2.0",
          "state": {
            "_model_module": "@jupyter-widgets/base",
            "_model_module_version": "1.2.0",
            "_model_name": "LayoutModel",
            "_view_count": null,
            "_view_module": "@jupyter-widgets/base",
            "_view_module_version": "1.2.0",
            "_view_name": "LayoutView",
            "align_content": null,
            "align_items": null,
            "align_self": null,
            "border": null,
            "bottom": null,
            "display": null,
            "flex": null,
            "flex_flow": null,
            "grid_area": null,
            "grid_auto_columns": null,
            "grid_auto_flow": null,
            "grid_auto_rows": null,
            "grid_column": null,
            "grid_gap": null,
            "grid_row": null,
            "grid_template_areas": null,
            "grid_template_columns": null,
            "grid_template_rows": null,
            "height": null,
            "justify_content": null,
            "justify_items": null,
            "left": null,
            "margin": null,
            "max_height": null,
            "max_width": null,
            "min_height": null,
            "min_width": null,
            "object_fit": null,
            "object_position": null,
            "order": null,
            "overflow": null,
            "overflow_x": null,
            "overflow_y": null,
            "padding": null,
            "right": null,
            "top": null,
            "visibility": null,
            "width": null
          }
        },
        "95f857ef50f24ce8975f9e4876dfa308": {
          "model_module": "@jupyter-widgets/controls",
          "model_name": "DescriptionStyleModel",
          "model_module_version": "1.5.0",
          "state": {
            "_model_module": "@jupyter-widgets/controls",
            "_model_module_version": "1.5.0",
            "_model_name": "DescriptionStyleModel",
            "_view_count": null,
            "_view_module": "@jupyter-widgets/base",
            "_view_module_version": "1.2.0",
            "_view_name": "StyleView",
            "description_width": ""
          }
        },
        "d46bded0bf754bd08b8354027a75e012": {
          "model_module": "@jupyter-widgets/controls",
          "model_name": "HBoxModel",
          "model_module_version": "1.5.0",
          "state": {
            "_dom_classes": [],
            "_model_module": "@jupyter-widgets/controls",
            "_model_module_version": "1.5.0",
            "_model_name": "HBoxModel",
            "_view_count": null,
            "_view_module": "@jupyter-widgets/controls",
            "_view_module_version": "1.5.0",
            "_view_name": "HBoxView",
            "box_style": "",
            "children": [
              "IPY_MODEL_2e4e81b9b918483396b1460d9985072d",
              "IPY_MODEL_2426818e62a140c095496c92988a731f",
              "IPY_MODEL_e280818f7c044da987649a072f7d071b"
            ],
            "layout": "IPY_MODEL_65af279b64884d7ea6f509fd90ab23bd"
          }
        },
        "2e4e81b9b918483396b1460d9985072d": {
          "model_module": "@jupyter-widgets/controls",
          "model_name": "HTMLModel",
          "model_module_version": "1.5.0",
          "state": {
            "_dom_classes": [],
            "_model_module": "@jupyter-widgets/controls",
            "_model_module_version": "1.5.0",
            "_model_name": "HTMLModel",
            "_view_count": null,
            "_view_module": "@jupyter-widgets/controls",
            "_view_module_version": "1.5.0",
            "_view_name": "HTMLView",
            "description": "",
            "description_tooltip": null,
            "layout": "IPY_MODEL_ebcb5d31304d49efb7ee5f63800d7b9a",
            "placeholder": "​",
            "style": "IPY_MODEL_6812d5ba6fae4e55b86e3c172da85b30",
            "value": "config.json: 100%"
          }
        },
        "2426818e62a140c095496c92988a731f": {
          "model_module": "@jupyter-widgets/controls",
          "model_name": "FloatProgressModel",
          "model_module_version": "1.5.0",
          "state": {
            "_dom_classes": [],
            "_model_module": "@jupyter-widgets/controls",
            "_model_module_version": "1.5.0",
            "_model_name": "FloatProgressModel",
            "_view_count": null,
            "_view_module": "@jupyter-widgets/controls",
            "_view_module_version": "1.5.0",
            "_view_name": "ProgressView",
            "bar_style": "success",
            "description": "",
            "description_tooltip": null,
            "layout": "IPY_MODEL_4e2447c03b014e658bb3bba66354f44e",
            "max": 567,
            "min": 0,
            "orientation": "horizontal",
            "style": "IPY_MODEL_4c9d946528c04d2d9a49feaa25b306ac",
            "value": 567
          }
        },
        "e280818f7c044da987649a072f7d071b": {
          "model_module": "@jupyter-widgets/controls",
          "model_name": "HTMLModel",
          "model_module_version": "1.5.0",
          "state": {
            "_dom_classes": [],
            "_model_module": "@jupyter-widgets/controls",
            "_model_module_version": "1.5.0",
            "_model_name": "HTMLModel",
            "_view_count": null,
            "_view_module": "@jupyter-widgets/controls",
            "_view_module_version": "1.5.0",
            "_view_name": "HTMLView",
            "description": "",
            "description_tooltip": null,
            "layout": "IPY_MODEL_63438f87f79c4544b8948c27a62bc5ee",
            "placeholder": "​",
            "style": "IPY_MODEL_4c267cdd45094620949f34bd6b40d6fc",
            "value": " 567/567 [00:00&lt;00:00, 17.2kB/s]"
          }
        },
        "65af279b64884d7ea6f509fd90ab23bd": {
          "model_module": "@jupyter-widgets/base",
          "model_name": "LayoutModel",
          "model_module_version": "1.2.0",
          "state": {
            "_model_module": "@jupyter-widgets/base",
            "_model_module_version": "1.2.0",
            "_model_name": "LayoutModel",
            "_view_count": null,
            "_view_module": "@jupyter-widgets/base",
            "_view_module_version": "1.2.0",
            "_view_name": "LayoutView",
            "align_content": null,
            "align_items": null,
            "align_self": null,
            "border": null,
            "bottom": null,
            "display": null,
            "flex": null,
            "flex_flow": null,
            "grid_area": null,
            "grid_auto_columns": null,
            "grid_auto_flow": null,
            "grid_auto_rows": null,
            "grid_column": null,
            "grid_gap": null,
            "grid_row": null,
            "grid_template_areas": null,
            "grid_template_columns": null,
            "grid_template_rows": null,
            "height": null,
            "justify_content": null,
            "justify_items": null,
            "left": null,
            "margin": null,
            "max_height": null,
            "max_width": null,
            "min_height": null,
            "min_width": null,
            "object_fit": null,
            "object_position": null,
            "order": null,
            "overflow": null,
            "overflow_x": null,
            "overflow_y": null,
            "padding": null,
            "right": null,
            "top": null,
            "visibility": null,
            "width": null
          }
        },
        "ebcb5d31304d49efb7ee5f63800d7b9a": {
          "model_module": "@jupyter-widgets/base",
          "model_name": "LayoutModel",
          "model_module_version": "1.2.0",
          "state": {
            "_model_module": "@jupyter-widgets/base",
            "_model_module_version": "1.2.0",
            "_model_name": "LayoutModel",
            "_view_count": null,
            "_view_module": "@jupyter-widgets/base",
            "_view_module_version": "1.2.0",
            "_view_name": "LayoutView",
            "align_content": null,
            "align_items": null,
            "align_self": null,
            "border": null,
            "bottom": null,
            "display": null,
            "flex": null,
            "flex_flow": null,
            "grid_area": null,
            "grid_auto_columns": null,
            "grid_auto_flow": null,
            "grid_auto_rows": null,
            "grid_column": null,
            "grid_gap": null,
            "grid_row": null,
            "grid_template_areas": null,
            "grid_template_columns": null,
            "grid_template_rows": null,
            "height": null,
            "justify_content": null,
            "justify_items": null,
            "left": null,
            "margin": null,
            "max_height": null,
            "max_width": null,
            "min_height": null,
            "min_width": null,
            "object_fit": null,
            "object_position": null,
            "order": null,
            "overflow": null,
            "overflow_x": null,
            "overflow_y": null,
            "padding": null,
            "right": null,
            "top": null,
            "visibility": null,
            "width": null
          }
        },
        "6812d5ba6fae4e55b86e3c172da85b30": {
          "model_module": "@jupyter-widgets/controls",
          "model_name": "DescriptionStyleModel",
          "model_module_version": "1.5.0",
          "state": {
            "_model_module": "@jupyter-widgets/controls",
            "_model_module_version": "1.5.0",
            "_model_name": "DescriptionStyleModel",
            "_view_count": null,
            "_view_module": "@jupyter-widgets/base",
            "_view_module_version": "1.2.0",
            "_view_name": "StyleView",
            "description_width": ""
          }
        },
        "4e2447c03b014e658bb3bba66354f44e": {
          "model_module": "@jupyter-widgets/base",
          "model_name": "LayoutModel",
          "model_module_version": "1.2.0",
          "state": {
            "_model_module": "@jupyter-widgets/base",
            "_model_module_version": "1.2.0",
            "_model_name": "LayoutModel",
            "_view_count": null,
            "_view_module": "@jupyter-widgets/base",
            "_view_module_version": "1.2.0",
            "_view_name": "LayoutView",
            "align_content": null,
            "align_items": null,
            "align_self": null,
            "border": null,
            "bottom": null,
            "display": null,
            "flex": null,
            "flex_flow": null,
            "grid_area": null,
            "grid_auto_columns": null,
            "grid_auto_flow": null,
            "grid_auto_rows": null,
            "grid_column": null,
            "grid_gap": null,
            "grid_row": null,
            "grid_template_areas": null,
            "grid_template_columns": null,
            "grid_template_rows": null,
            "height": null,
            "justify_content": null,
            "justify_items": null,
            "left": null,
            "margin": null,
            "max_height": null,
            "max_width": null,
            "min_height": null,
            "min_width": null,
            "object_fit": null,
            "object_position": null,
            "order": null,
            "overflow": null,
            "overflow_x": null,
            "overflow_y": null,
            "padding": null,
            "right": null,
            "top": null,
            "visibility": null,
            "width": null
          }
        },
        "4c9d946528c04d2d9a49feaa25b306ac": {
          "model_module": "@jupyter-widgets/controls",
          "model_name": "ProgressStyleModel",
          "model_module_version": "1.5.0",
          "state": {
            "_model_module": "@jupyter-widgets/controls",
            "_model_module_version": "1.5.0",
            "_model_name": "ProgressStyleModel",
            "_view_count": null,
            "_view_module": "@jupyter-widgets/base",
            "_view_module_version": "1.2.0",
            "_view_name": "StyleView",
            "bar_color": null,
            "description_width": ""
          }
        },
        "63438f87f79c4544b8948c27a62bc5ee": {
          "model_module": "@jupyter-widgets/base",
          "model_name": "LayoutModel",
          "model_module_version": "1.2.0",
          "state": {
            "_model_module": "@jupyter-widgets/base",
            "_model_module_version": "1.2.0",
            "_model_name": "LayoutModel",
            "_view_count": null,
            "_view_module": "@jupyter-widgets/base",
            "_view_module_version": "1.2.0",
            "_view_name": "LayoutView",
            "align_content": null,
            "align_items": null,
            "align_self": null,
            "border": null,
            "bottom": null,
            "display": null,
            "flex": null,
            "flex_flow": null,
            "grid_area": null,
            "grid_auto_columns": null,
            "grid_auto_flow": null,
            "grid_auto_rows": null,
            "grid_column": null,
            "grid_gap": null,
            "grid_row": null,
            "grid_template_areas": null,
            "grid_template_columns": null,
            "grid_template_rows": null,
            "height": null,
            "justify_content": null,
            "justify_items": null,
            "left": null,
            "margin": null,
            "max_height": null,
            "max_width": null,
            "min_height": null,
            "min_width": null,
            "object_fit": null,
            "object_position": null,
            "order": null,
            "overflow": null,
            "overflow_x": null,
            "overflow_y": null,
            "padding": null,
            "right": null,
            "top": null,
            "visibility": null,
            "width": null
          }
        },
        "4c267cdd45094620949f34bd6b40d6fc": {
          "model_module": "@jupyter-widgets/controls",
          "model_name": "DescriptionStyleModel",
          "model_module_version": "1.5.0",
          "state": {
            "_model_module": "@jupyter-widgets/controls",
            "_model_module_version": "1.5.0",
            "_model_name": "DescriptionStyleModel",
            "_view_count": null,
            "_view_module": "@jupyter-widgets/base",
            "_view_module_version": "1.2.0",
            "_view_name": "StyleView",
            "description_width": ""
          }
        },
        "cf8a649669f245b38db2ba33535c9047": {
          "model_module": "@jupyter-widgets/controls",
          "model_name": "HBoxModel",
          "model_module_version": "1.5.0",
          "state": {
            "_dom_classes": [],
            "_model_module": "@jupyter-widgets/controls",
            "_model_module_version": "1.5.0",
            "_model_name": "HBoxModel",
            "_view_count": null,
            "_view_module": "@jupyter-widgets/controls",
            "_view_module_version": "1.5.0",
            "_view_name": "HBoxView",
            "box_style": "",
            "children": [
              "IPY_MODEL_be37dcd0867d40cabf965295b42a6213",
              "IPY_MODEL_0b459d60c62d4d198066146c94e7619d",
              "IPY_MODEL_df75e3c775024f5f8ce3bf0ab6263219"
            ],
            "layout": "IPY_MODEL_4c3393e771e444229b6d6220bd168be7"
          }
        },
        "be37dcd0867d40cabf965295b42a6213": {
          "model_module": "@jupyter-widgets/controls",
          "model_name": "HTMLModel",
          "model_module_version": "1.5.0",
          "state": {
            "_dom_classes": [],
            "_model_module": "@jupyter-widgets/controls",
            "_model_module_version": "1.5.0",
            "_model_name": "HTMLModel",
            "_view_count": null,
            "_view_module": "@jupyter-widgets/controls",
            "_view_module_version": "1.5.0",
            "_view_name": "HTMLView",
            "description": "",
            "description_tooltip": null,
            "layout": "IPY_MODEL_7a2854ca4a9b4f1c83e8010f5f025f8e",
            "placeholder": "​",
            "style": "IPY_MODEL_1a9905cdf49a418a9d1f197edcc133b6",
            "value": "model.safetensors: 100%"
          }
        },
        "0b459d60c62d4d198066146c94e7619d": {
          "model_module": "@jupyter-widgets/controls",
          "model_name": "FloatProgressModel",
          "model_module_version": "1.5.0",
          "state": {
            "_dom_classes": [],
            "_model_module": "@jupyter-widgets/controls",
            "_model_module_version": "1.5.0",
            "_model_name": "FloatProgressModel",
            "_view_count": null,
            "_view_module": "@jupyter-widgets/controls",
            "_view_module_version": "1.5.0",
            "_view_name": "ProgressView",
            "bar_style": "success",
            "description": "",
            "description_tooltip": null,
            "layout": "IPY_MODEL_3165ce8e97bb43edbe323c7e0d68fa3e",
            "max": 166029852,
            "min": 0,
            "orientation": "horizontal",
            "style": "IPY_MODEL_556b888c23c248108501f6c40a0c975e",
            "value": 166029852
          }
        },
        "df75e3c775024f5f8ce3bf0ab6263219": {
          "model_module": "@jupyter-widgets/controls",
          "model_name": "HTMLModel",
          "model_module_version": "1.5.0",
          "state": {
            "_dom_classes": [],
            "_model_module": "@jupyter-widgets/controls",
            "_model_module_version": "1.5.0",
            "_model_name": "HTMLModel",
            "_view_count": null,
            "_view_module": "@jupyter-widgets/controls",
            "_view_module_version": "1.5.0",
            "_view_name": "HTMLView",
            "description": "",
            "description_tooltip": null,
            "layout": "IPY_MODEL_d82126189c14459a968b4992dfbd6d37",
            "placeholder": "​",
            "style": "IPY_MODEL_2f9b5ef7650a478b8b06b93b2a9c5053",
            "value": " 166M/166M [00:01&lt;00:00, 157MB/s]"
          }
        },
        "4c3393e771e444229b6d6220bd168be7": {
          "model_module": "@jupyter-widgets/base",
          "model_name": "LayoutModel",
          "model_module_version": "1.2.0",
          "state": {
            "_model_module": "@jupyter-widgets/base",
            "_model_module_version": "1.2.0",
            "_model_name": "LayoutModel",
            "_view_count": null,
            "_view_module": "@jupyter-widgets/base",
            "_view_module_version": "1.2.0",
            "_view_name": "LayoutView",
            "align_content": null,
            "align_items": null,
            "align_self": null,
            "border": null,
            "bottom": null,
            "display": null,
            "flex": null,
            "flex_flow": null,
            "grid_area": null,
            "grid_auto_columns": null,
            "grid_auto_flow": null,
            "grid_auto_rows": null,
            "grid_column": null,
            "grid_gap": null,
            "grid_row": null,
            "grid_template_areas": null,
            "grid_template_columns": null,
            "grid_template_rows": null,
            "height": null,
            "justify_content": null,
            "justify_items": null,
            "left": null,
            "margin": null,
            "max_height": null,
            "max_width": null,
            "min_height": null,
            "min_width": null,
            "object_fit": null,
            "object_position": null,
            "order": null,
            "overflow": null,
            "overflow_x": null,
            "overflow_y": null,
            "padding": null,
            "right": null,
            "top": null,
            "visibility": null,
            "width": null
          }
        },
        "7a2854ca4a9b4f1c83e8010f5f025f8e": {
          "model_module": "@jupyter-widgets/base",
          "model_name": "LayoutModel",
          "model_module_version": "1.2.0",
          "state": {
            "_model_module": "@jupyter-widgets/base",
            "_model_module_version": "1.2.0",
            "_model_name": "LayoutModel",
            "_view_count": null,
            "_view_module": "@jupyter-widgets/base",
            "_view_module_version": "1.2.0",
            "_view_name": "LayoutView",
            "align_content": null,
            "align_items": null,
            "align_self": null,
            "border": null,
            "bottom": null,
            "display": null,
            "flex": null,
            "flex_flow": null,
            "grid_area": null,
            "grid_auto_columns": null,
            "grid_auto_flow": null,
            "grid_auto_rows": null,
            "grid_column": null,
            "grid_gap": null,
            "grid_row": null,
            "grid_template_areas": null,
            "grid_template_columns": null,
            "grid_template_rows": null,
            "height": null,
            "justify_content": null,
            "justify_items": null,
            "left": null,
            "margin": null,
            "max_height": null,
            "max_width": null,
            "min_height": null,
            "min_width": null,
            "object_fit": null,
            "object_position": null,
            "order": null,
            "overflow": null,
            "overflow_x": null,
            "overflow_y": null,
            "padding": null,
            "right": null,
            "top": null,
            "visibility": null,
            "width": null
          }
        },
        "1a9905cdf49a418a9d1f197edcc133b6": {
          "model_module": "@jupyter-widgets/controls",
          "model_name": "DescriptionStyleModel",
          "model_module_version": "1.5.0",
          "state": {
            "_model_module": "@jupyter-widgets/controls",
            "_model_module_version": "1.5.0",
            "_model_name": "DescriptionStyleModel",
            "_view_count": null,
            "_view_module": "@jupyter-widgets/base",
            "_view_module_version": "1.2.0",
            "_view_name": "StyleView",
            "description_width": ""
          }
        },
        "3165ce8e97bb43edbe323c7e0d68fa3e": {
          "model_module": "@jupyter-widgets/base",
          "model_name": "LayoutModel",
          "model_module_version": "1.2.0",
          "state": {
            "_model_module": "@jupyter-widgets/base",
            "_model_module_version": "1.2.0",
            "_model_name": "LayoutModel",
            "_view_count": null,
            "_view_module": "@jupyter-widgets/base",
            "_view_module_version": "1.2.0",
            "_view_name": "LayoutView",
            "align_content": null,
            "align_items": null,
            "align_self": null,
            "border": null,
            "bottom": null,
            "display": null,
            "flex": null,
            "flex_flow": null,
            "grid_area": null,
            "grid_auto_columns": null,
            "grid_auto_flow": null,
            "grid_auto_rows": null,
            "grid_column": null,
            "grid_gap": null,
            "grid_row": null,
            "grid_template_areas": null,
            "grid_template_columns": null,
            "grid_template_rows": null,
            "height": null,
            "justify_content": null,
            "justify_items": null,
            "left": null,
            "margin": null,
            "max_height": null,
            "max_width": null,
            "min_height": null,
            "min_width": null,
            "object_fit": null,
            "object_position": null,
            "order": null,
            "overflow": null,
            "overflow_x": null,
            "overflow_y": null,
            "padding": null,
            "right": null,
            "top": null,
            "visibility": null,
            "width": null
          }
        },
        "556b888c23c248108501f6c40a0c975e": {
          "model_module": "@jupyter-widgets/controls",
          "model_name": "ProgressStyleModel",
          "model_module_version": "1.5.0",
          "state": {
            "_model_module": "@jupyter-widgets/controls",
            "_model_module_version": "1.5.0",
            "_model_name": "ProgressStyleModel",
            "_view_count": null,
            "_view_module": "@jupyter-widgets/base",
            "_view_module_version": "1.2.0",
            "_view_name": "StyleView",
            "bar_color": null,
            "description_width": ""
          }
        },
        "d82126189c14459a968b4992dfbd6d37": {
          "model_module": "@jupyter-widgets/base",
          "model_name": "LayoutModel",
          "model_module_version": "1.2.0",
          "state": {
            "_model_module": "@jupyter-widgets/base",
            "_model_module_version": "1.2.0",
            "_model_name": "LayoutModel",
            "_view_count": null,
            "_view_module": "@jupyter-widgets/base",
            "_view_module_version": "1.2.0",
            "_view_name": "LayoutView",
            "align_content": null,
            "align_items": null,
            "align_self": null,
            "border": null,
            "bottom": null,
            "display": null,
            "flex": null,
            "flex_flow": null,
            "grid_area": null,
            "grid_auto_columns": null,
            "grid_auto_flow": null,
            "grid_auto_rows": null,
            "grid_column": null,
            "grid_gap": null,
            "grid_row": null,
            "grid_template_areas": null,
            "grid_template_columns": null,
            "grid_template_rows": null,
            "height": null,
            "justify_content": null,
            "justify_items": null,
            "left": null,
            "margin": null,
            "max_height": null,
            "max_width": null,
            "min_height": null,
            "min_width": null,
            "object_fit": null,
            "object_position": null,
            "order": null,
            "overflow": null,
            "overflow_x": null,
            "overflow_y": null,
            "padding": null,
            "right": null,
            "top": null,
            "visibility": null,
            "width": null
          }
        },
        "2f9b5ef7650a478b8b06b93b2a9c5053": {
          "model_module": "@jupyter-widgets/controls",
          "model_name": "DescriptionStyleModel",
          "model_module_version": "1.5.0",
          "state": {
            "_model_module": "@jupyter-widgets/controls",
            "_model_module_version": "1.5.0",
            "_model_name": "DescriptionStyleModel",
            "_view_count": null,
            "_view_module": "@jupyter-widgets/base",
            "_view_module_version": "1.2.0",
            "_view_name": "StyleView",
            "description_width": ""
          }
        }
      }
    }
  },
  "cells": [
    {
      "cell_type": "markdown",
      "metadata": {
        "id": "view-in-github",
        "colab_type": "text"
      },
      "source": [
        "<a href=\"https://colab.research.google.com/github/pandeyhere/Data_Structures/blob/main/Session_Fine_tuning_large_language_models.ipynb\" target=\"_parent\"><img src=\"https://colab.research.google.com/assets/colab-badge.svg\" alt=\"Open In Colab\"/></a>"
      ]
    },
    {
      "cell_type": "markdown",
      "source": [
        "# Introduction\n",
        "\n",
        "This notebook will walk you through the process of instruction fine-tuning an LLM. The steps that we will take to perform this task are as follows:\n",
        "\n",
        "1. Installing and importing required libraries\n",
        "2. Comparing outputs from the two types of models\n",
        "3. Exploring the fine-tuning data set\n",
        "4. Data Preparation\n",
        "5. Training and inference\n",
        "\n",
        "## Problem Statement\n",
        "\n",
        "> Fine tune a large language model using a data set that contains question answer pairs from the context of customer care.\n",
        "\n",
        "## Data Description\n",
        "\n",
        "The data set contains the following columns:\n",
        "- flags: Contains tags for each entry in the data set\n",
        "- instruction: A user request from the Customer Service domain\n",
        "- category: The high-level semantic category for the intent\n",
        "- intent: The intent corresponding to the user instruction\n",
        "- response: An example expected response from the virtual assistant\n",
        "\n",
        "\n",
        "We will mainly be using the *instruction*, *category*, and *response* columns for fine tuning.\n"
      ],
      "metadata": {
        "id": "Suw-8fupw4HJ"
      }
    },
    {
      "cell_type": "markdown",
      "source": [
        "# Installing and importing required libraries\n",
        "\n",
        "In this section, we will install and import the required libraries. Please make sure that you are using the T4 GPU runtime before installing the libraries."
      ],
      "metadata": {
        "id": "rch7k9POxJnZ"
      }
    },
    {
      "cell_type": "code",
      "source": [
        "# Installing required libraries\n",
        "! pip install --upgrade pip lamini --disable-pip-version-check torch transformers==4.31.0 datasets --quiet accelerate==0.20.3"
      ],
      "metadata": {
        "id": "m92p64HH4WDA",
        "colab": {
          "base_uri": "https://localhost:8080/"
        },
        "outputId": "50bf029e-3b03-4ae9-849e-89a291215b98"
      },
      "execution_count": null,
      "outputs": [
        {
          "output_type": "stream",
          "name": "stdout",
          "text": [
            "\u001b[2K     \u001b[90m━━━━━━━━━━━━━━━━━━━━━━━━━━━━━━━━━━━━━━━━\u001b[0m \u001b[32m1.8/1.8 MB\u001b[0m \u001b[31m10.3 MB/s\u001b[0m eta \u001b[36m0:00:00\u001b[0m\n",
            "\u001b[2K     \u001b[90m━━━━━━━━━━━━━━━━━━━━━━━━━━━━━━━━━━━━━━━━\u001b[0m \u001b[32m691.4/691.4 kB\u001b[0m \u001b[31m16.7 MB/s\u001b[0m eta \u001b[36m0:00:00\u001b[0m\n",
            "\u001b[2K     \u001b[90m━━━━━━━━━━━━━━━━━━━━━━━━━━━━━━━━━━━━━━━━\u001b[0m \u001b[32m779.1/779.1 MB\u001b[0m \u001b[31m2.2 MB/s\u001b[0m eta \u001b[36m0:00:00\u001b[0m\n",
            "\u001b[2K     \u001b[90m━━━━━━━━━━━━━━━━━━━━━━━━━━━━━━━━━━━━━━━━\u001b[0m \u001b[32m7.4/7.4 MB\u001b[0m \u001b[31m67.5 MB/s\u001b[0m eta \u001b[36m0:00:00\u001b[0m\n",
            "\u001b[2K     \u001b[90m━━━━━━━━━━━━━━━━━━━━━━━━━━━━━━━━━━━━━━━━\u001b[0m \u001b[32m547.8/547.8 kB\u001b[0m \u001b[31m38.4 MB/s\u001b[0m eta \u001b[36m0:00:00\u001b[0m\n",
            "\u001b[2K     \u001b[90m━━━━━━━━━━━━━━━━━━━━━━━━━━━━━━━━━━━━━━━━\u001b[0m \u001b[32m227.6/227.6 kB\u001b[0m \u001b[31m21.6 MB/s\u001b[0m eta \u001b[36m0:00:00\u001b[0m\n",
            "\u001b[2K     \u001b[90m━━━━━━━━━━━━━━━━━━━━━━━━━━━━━━━━━━━━━━━━\u001b[0m \u001b[32m7.8/7.8 MB\u001b[0m \u001b[31m52.1 MB/s\u001b[0m eta \u001b[36m0:00:00\u001b[0m\n",
            "\u001b[2K     \u001b[90m━━━━━━━━━━━━━━━━━━━━━━━━━━━━━━━━━━━━━━━━\u001b[0m \u001b[32m392.2/392.2 kB\u001b[0m \u001b[31m43.1 MB/s\u001b[0m eta \u001b[36m0:00:00\u001b[0m\n",
            "\u001b[2K     \u001b[90m━━━━━━━━━━━━━━━━━━━━━━━━━━━━━━━━━━━━━━━━\u001b[0m \u001b[32m27.0/27.0 MB\u001b[0m \u001b[31m56.7 MB/s\u001b[0m eta \u001b[36m0:00:00\u001b[0m\n",
            "\u001b[2K     \u001b[90m━━━━━━━━━━━━━━━━━━━━━━━━━━━━━━━━━━━━━━━━\u001b[0m \u001b[32m168.1/168.1 MB\u001b[0m \u001b[31m2.2 MB/s\u001b[0m eta \u001b[36m0:00:00\u001b[0m\n",
            "\u001b[2K     \u001b[90m━━━━━━━━━━━━━━━━━━━━━━━━━━━━━━━━━━━━━━━━\u001b[0m \u001b[32m21.3/21.3 MB\u001b[0m \u001b[31m70.8 MB/s\u001b[0m eta \u001b[36m0:00:00\u001b[0m\n",
            "\u001b[2K     \u001b[90m━━━━━━━━━━━━━━━━━━━━━━━━━━━━━━━━━━━━━━━━\u001b[0m \u001b[32m40.8/40.8 MB\u001b[0m \u001b[31m12.9 MB/s\u001b[0m eta \u001b[36m0:00:00\u001b[0m\n",
            "\u001b[2K     \u001b[90m━━━━━━━━━━━━━━━━━━━━━━━━━━━━━━━━━━━━━━━━\u001b[0m \u001b[32m116.3/116.3 kB\u001b[0m \u001b[31m12.3 MB/s\u001b[0m eta \u001b[36m0:00:00\u001b[0m\n",
            "\u001b[2K     \u001b[90m━━━━━━━━━━━━━━━━━━━━━━━━━━━━━━━━━━━━━━━━\u001b[0m \u001b[32m64.9/64.9 kB\u001b[0m \u001b[31m8.0 MB/s\u001b[0m eta \u001b[36m0:00:00\u001b[0m\n",
            "\u001b[2K     \u001b[90m━━━━━━━━━━━━━━━━━━━━━━━━━━━━━━━━━━━━━━━━\u001b[0m \u001b[32m194.1/194.1 kB\u001b[0m \u001b[31m21.0 MB/s\u001b[0m eta \u001b[36m0:00:00\u001b[0m\n",
            "\u001b[2K     \u001b[90m━━━━━━━━━━━━━━━━━━━━━━━━━━━━━━━━━━━━━━━━\u001b[0m \u001b[32m134.8/134.8 kB\u001b[0m \u001b[31m16.7 MB/s\u001b[0m eta \u001b[36m0:00:00\u001b[0m\n",
            "\u001b[2K     \u001b[90m━━━━━━━━━━━━━━━━━━━━━━━━━━━━━━━━━━━━━━━━\u001b[0m \u001b[32m194.3/194.3 kB\u001b[0m \u001b[31m20.3 MB/s\u001b[0m eta \u001b[36m0:00:00\u001b[0m\n",
            "\u001b[2K     \u001b[90m━━━━━━━━━━━━━━━━━━━━━━━━━━━━━━━━━━━━━━━━\u001b[0m \u001b[32m41.7/41.7 kB\u001b[0m \u001b[31m4.6 MB/s\u001b[0m eta \u001b[36m0:00:00\u001b[0m\n",
            "\u001b[?25h\u001b[31mERROR: pip's dependency resolver does not currently take into account all the packages that are installed. This behaviour is the source of the following dependency conflicts.\n",
            "cudf-cu12 24.4.1 requires pyarrow<15.0.0a0,>=14.0.1, but you have pyarrow 16.1.0 which is incompatible.\n",
            "google-colab 1.0.0 requires requests==2.31.0, but you have requests 2.32.3 which is incompatible.\n",
            "ibis-framework 8.0.0 requires pyarrow<16,>=2, but you have pyarrow 16.1.0 which is incompatible.\n",
            "torchaudio 2.3.0+cu121 requires torch==2.3.0, but you have torch 2.3.1 which is incompatible.\n",
            "torchvision 0.18.0+cu121 requires torch==2.3.0, but you have torch 2.3.1 which is incompatible.\u001b[0m\u001b[31m\n",
            "\u001b[0m"
          ]
        }
      ]
    },
    {
      "cell_type": "markdown",
      "source": [
        "After installing the required libraries, we can now import the required methods from those libraries."
      ],
      "metadata": {
        "id": "fVkKE0fkx9EK"
      }
    },
    {
      "cell_type": "code",
      "source": [
        "import lamini\n",
        "from google.colab import userdata\n",
        "import torch\n",
        "from transformers import AutoModelForCausalLM, AutoTokenizer, TrainingArguments, Trainer\n",
        "import pandas as pd\n",
        "from datasets import Dataset"
      ],
      "metadata": {
        "id": "tol9Mr3gjlom"
      },
      "execution_count": null,
      "outputs": []
    },
    {
      "cell_type": "markdown",
      "source": [
        "After importing required libraries, let's move on to comparing the outputs of instruction fine-tuned and non instruction fine-tuned models for the same input."
      ],
      "metadata": {
        "id": "q_dShEAF3Lc-"
      }
    },
    {
      "cell_type": "markdown",
      "source": [
        "# Comparing outputs from the two types of models\n",
        "\n",
        "To load the model easily, we are going to use the API provided by Lamini. Their `LLMEngine()` and `BasicModelRunner()` methods provide a simple interface for quickly loading LLMs.\n",
        "\n",
        "Let's start by setting the API key for the Lamini API. Please make note of the use of the *secrets* functionality provided by Google Colab.\n"
      ],
      "metadata": {
        "id": "zsJ1yBmS3kMi"
      }
    },
    {
      "cell_type": "markdown",
      "source": [
        "### Load via Secrets:"
      ],
      "metadata": {
        "id": "SURlT-BHna0a"
      }
    },
    {
      "cell_type": "code",
      "source": [
        "from google.colab import userdata"
      ],
      "metadata": {
        "id": "lyi8xDjPnaNg"
      },
      "execution_count": null,
      "outputs": []
    },
    {
      "cell_type": "code",
      "source": [
        "lamini.api_key = userdata.get('my_lamini_api_token')"
      ],
      "metadata": {
        "id": "HUbYkniJm3ia"
      },
      "execution_count": null,
      "outputs": []
    },
    {
      "cell_type": "code",
      "source": [
        "def load_api_key(file_path):\n",
        "\n",
        "    try:\n",
        "        with open(file_path, 'r') as file:\n",
        "            api_key = file.read().strip()\n",
        "        return api_key\n",
        "    except FileNotFoundError:\n",
        "        raise FileNotFoundError(f\"API key file not found: {file_path}\")\n",
        "    except Exception as e:\n",
        "        raise Exception(f\"An error occurred while reading the API key file: {e}\")\n",
        "\n",
        "\n",
        "# Path to the text file containing the API key\n",
        "\n",
        "\n",
        "# Load the API key\n",
        "\n",
        "\n",
        "#print(lamini_api_key)\n",
        "# Use the API key\n"
      ],
      "metadata": {
        "id": "bonuCDuX76Em",
        "colab": {
          "base_uri": "https://localhost:8080/",
          "height": 213
        },
        "outputId": "8592f0bf-6dcd-474b-b220-1efec4f10be8"
      },
      "execution_count": null,
      "outputs": [
        {
          "output_type": "display_data",
          "data": {
            "text/plain": [
              "\u001b[31m╭─\u001b[0m\u001b[31m──────────────────────────────\u001b[0m\u001b[31m \u001b[0m\u001b[1;31mTraceback \u001b[0m\u001b[1;2;31m(most recent call last)\u001b[0m\u001b[31m \u001b[0m\u001b[31m───────────────────────────────\u001b[0m\u001b[31m─╮\u001b[0m\n",
              "\u001b[31m│\u001b[0m in \u001b[92mload_api_key\u001b[0m:\u001b[94m4\u001b[0m                                                                                \u001b[31m│\u001b[0m\n",
              "\u001b[31m╰──────────────────────────────────────────────────────────────────────────────────────────────────╯\u001b[0m\n",
              "\u001b[1;91mFileNotFoundError: \u001b[0m\u001b[1m[\u001b[0mErrno \u001b[1;36m2\u001b[0m\u001b[1m]\u001b[0m No such file or directory: \u001b[32m'/content/api_key.txt'\u001b[0m\n",
              "\n",
              "\u001b[3mDuring handling of the above exception, another exception occurred:\u001b[0m\n",
              "\n",
              "\u001b[31m╭─\u001b[0m\u001b[31m──────────────────────────────\u001b[0m\u001b[31m \u001b[0m\u001b[1;31mTraceback \u001b[0m\u001b[1;2;31m(most recent call last)\u001b[0m\u001b[31m \u001b[0m\u001b[31m───────────────────────────────\u001b[0m\u001b[31m─╮\u001b[0m\n",
              "\u001b[31m│\u001b[0m in \u001b[92m<cell line: 18>\u001b[0m:\u001b[94m18\u001b[0m                                                                            \u001b[31m│\u001b[0m\n",
              "\u001b[31m│\u001b[0m in \u001b[92mload_api_key\u001b[0m:\u001b[94m8\u001b[0m                                                                                \u001b[31m│\u001b[0m\n",
              "\u001b[31m╰──────────────────────────────────────────────────────────────────────────────────────────────────╯\u001b[0m\n",
              "\u001b[1;91mFileNotFoundError: \u001b[0mAPI key file not found: \u001b[35m/content/\u001b[0m\u001b[95mapi_key.txt\u001b[0m\n"
            ],
            "text/html": [
              "<pre style=\"white-space:pre;overflow-x:auto;line-height:normal;font-family:Menlo,'DejaVu Sans Mono',consolas,'Courier New',monospace\"><span style=\"color: #800000; text-decoration-color: #800000\">╭─────────────────────────────── </span><span style=\"color: #800000; text-decoration-color: #800000; font-weight: bold\">Traceback </span><span style=\"color: #bf7f7f; text-decoration-color: #bf7f7f; font-weight: bold\">(most recent call last)</span><span style=\"color: #800000; text-decoration-color: #800000\"> ────────────────────────────────╮</span>\n",
              "<span style=\"color: #800000; text-decoration-color: #800000\">│</span> in <span style=\"color: #00ff00; text-decoration-color: #00ff00\">load_api_key</span>:<span style=\"color: #0000ff; text-decoration-color: #0000ff\">4</span>                                                                                <span style=\"color: #800000; text-decoration-color: #800000\">│</span>\n",
              "<span style=\"color: #800000; text-decoration-color: #800000\">╰──────────────────────────────────────────────────────────────────────────────────────────────────╯</span>\n",
              "<span style=\"color: #ff0000; text-decoration-color: #ff0000; font-weight: bold\">FileNotFoundError: </span><span style=\"font-weight: bold\">[</span>Errno <span style=\"color: #008080; text-decoration-color: #008080; font-weight: bold\">2</span><span style=\"font-weight: bold\">]</span> No such file or directory: <span style=\"color: #008000; text-decoration-color: #008000\">'/content/api_key.txt'</span>\n",
              "\n",
              "<span style=\"font-style: italic\">During handling of the above exception, another exception occurred:</span>\n",
              "\n",
              "<span style=\"color: #800000; text-decoration-color: #800000\">╭─────────────────────────────── </span><span style=\"color: #800000; text-decoration-color: #800000; font-weight: bold\">Traceback </span><span style=\"color: #bf7f7f; text-decoration-color: #bf7f7f; font-weight: bold\">(most recent call last)</span><span style=\"color: #800000; text-decoration-color: #800000\"> ────────────────────────────────╮</span>\n",
              "<span style=\"color: #800000; text-decoration-color: #800000\">│</span> in <span style=\"color: #00ff00; text-decoration-color: #00ff00\">&lt;cell line: 18&gt;</span>:<span style=\"color: #0000ff; text-decoration-color: #0000ff\">18</span>                                                                            <span style=\"color: #800000; text-decoration-color: #800000\">│</span>\n",
              "<span style=\"color: #800000; text-decoration-color: #800000\">│</span> in <span style=\"color: #00ff00; text-decoration-color: #00ff00\">load_api_key</span>:<span style=\"color: #0000ff; text-decoration-color: #0000ff\">8</span>                                                                                <span style=\"color: #800000; text-decoration-color: #800000\">│</span>\n",
              "<span style=\"color: #800000; text-decoration-color: #800000\">╰──────────────────────────────────────────────────────────────────────────────────────────────────╯</span>\n",
              "<span style=\"color: #ff0000; text-decoration-color: #ff0000; font-weight: bold\">FileNotFoundError: </span>API key file not found: <span style=\"color: #800080; text-decoration-color: #800080\">/content/</span><span style=\"color: #ff00ff; text-decoration-color: #ff00ff\">api_key.txt</span>\n",
              "</pre>\n"
            ]
          },
          "metadata": {}
        }
      ]
    },
    {
      "cell_type": "markdown",
      "source": [
        "Let us now prompt the base model (a model that has not been instruction fine-tuned), `Llama-2-7b-hf`."
      ],
      "metadata": {
        "id": "mxbxcgvqCWbb"
      }
    },
    {
      "cell_type": "code",
      "source": [
        "#\n",
        "non_chat_model = lamini.BasicModelRunner('meta-llama/Llama-2-7b-hf')\n"
      ],
      "metadata": {
        "id": "JzfG6qyt6pcV"
      },
      "execution_count": null,
      "outputs": []
    },
    {
      "cell_type": "code",
      "source": [
        "print(non_chat_model.call(\"How to be a good data scientist?\"))"
      ],
      "metadata": {
        "colab": {
          "base_uri": "https://localhost:8080/",
          "height": 1000
        },
        "id": "UwHH15OvnyI9",
        "outputId": "837c8eff-ff0f-4c94-8ae7-51d2ced22dca"
      },
      "execution_count": null,
      "outputs": [
        {
          "output_type": "display_data",
          "data": {
            "text/plain": [
              "\u001b[31m╭─\u001b[0m\u001b[31m──────────────────────────────\u001b[0m\u001b[31m \u001b[0m\u001b[1;31mTraceback \u001b[0m\u001b[1;2;31m(most recent call last)\u001b[0m\u001b[31m \u001b[0m\u001b[31m───────────────────────────────\u001b[0m\u001b[31m─╮\u001b[0m\n",
              "\u001b[31m│\u001b[0m \u001b[2;33m/usr/local/lib/python3.10/dist-packages/pkg_resources/\u001b[0m\u001b[1;33m__init__.py\u001b[0m:\u001b[94m3108\u001b[0m in \u001b[92m_dep_map\u001b[0m               \u001b[31m│\u001b[0m\n",
              "\u001b[31m│\u001b[0m                                                                                                  \u001b[31m│\u001b[0m\n",
              "\u001b[31m│\u001b[0m   \u001b[2m3105 \u001b[0m\u001b[2m│   \u001b[0m\u001b[1;95m@property\u001b[0m                                                                             \u001b[31m│\u001b[0m\n",
              "\u001b[31m│\u001b[0m   \u001b[2m3106 \u001b[0m\u001b[2m│   \u001b[0m\u001b[94mdef\u001b[0m \u001b[92m_dep_map\u001b[0m(\u001b[96mself\u001b[0m):                                                                   \u001b[31m│\u001b[0m\n",
              "\u001b[31m│\u001b[0m   \u001b[2m3107 \u001b[0m\u001b[2m│   │   \u001b[0m\u001b[94mtry\u001b[0m:                                                                              \u001b[31m│\u001b[0m\n",
              "\u001b[31m│\u001b[0m \u001b[31m❱ \u001b[0m3108 \u001b[2m│   │   │   \u001b[0m\u001b[94mreturn\u001b[0m \u001b[96mself\u001b[0m.__dep_map                                                         \u001b[31m│\u001b[0m\n",
              "\u001b[31m│\u001b[0m   \u001b[2m3109 \u001b[0m\u001b[2m│   │   \u001b[0m\u001b[94mexcept\u001b[0m \u001b[96mAttributeError\u001b[0m:                                                            \u001b[31m│\u001b[0m\n",
              "\u001b[31m│\u001b[0m   \u001b[2m3110 \u001b[0m\u001b[2m│   │   │   \u001b[0m\u001b[96mself\u001b[0m.__dep_map = \u001b[96mself\u001b[0m._compute_dependencies()                                 \u001b[31m│\u001b[0m\n",
              "\u001b[31m│\u001b[0m   \u001b[2m3111 \u001b[0m\u001b[2m│   │   │   \u001b[0m\u001b[94mreturn\u001b[0m \u001b[96mself\u001b[0m.__dep_map                                                         \u001b[31m│\u001b[0m\n",
              "\u001b[31m│\u001b[0m                                                                                                  \u001b[31m│\u001b[0m\n",
              "\u001b[31m│\u001b[0m \u001b[2;33m/usr/local/lib/python3.10/dist-packages/pkg_resources/\u001b[0m\u001b[1;33m__init__.py\u001b[0m:\u001b[94m2901\u001b[0m in \u001b[92m__getattr__\u001b[0m            \u001b[31m│\u001b[0m\n",
              "\u001b[31m│\u001b[0m                                                                                                  \u001b[31m│\u001b[0m\n",
              "\u001b[31m│\u001b[0m   \u001b[2m2898 \u001b[0m\u001b[2m│   \u001b[0m\u001b[94mdef\u001b[0m \u001b[92m__getattr__\u001b[0m(\u001b[96mself\u001b[0m, attr):                                                          \u001b[31m│\u001b[0m\n",
              "\u001b[31m│\u001b[0m   \u001b[2m2899 \u001b[0m\u001b[2;90m│   │   \u001b[0m\u001b[33m\"\"\"Delegate all unrecognized public attributes to .metadata provider\"\"\"\u001b[0m           \u001b[31m│\u001b[0m\n",
              "\u001b[31m│\u001b[0m   \u001b[2m2900 \u001b[0m\u001b[2m│   │   \u001b[0m\u001b[94mif\u001b[0m attr.startswith(\u001b[33m'\u001b[0m\u001b[33m_\u001b[0m\u001b[33m'\u001b[0m):                                                          \u001b[31m│\u001b[0m\n",
              "\u001b[31m│\u001b[0m \u001b[31m❱ \u001b[0m2901 \u001b[2m│   │   │   \u001b[0m\u001b[94mraise\u001b[0m \u001b[96mAttributeError\u001b[0m(attr)                                                    \u001b[31m│\u001b[0m\n",
              "\u001b[31m│\u001b[0m   \u001b[2m2902 \u001b[0m\u001b[2m│   │   \u001b[0m\u001b[94mreturn\u001b[0m \u001b[96mgetattr\u001b[0m(\u001b[96mself\u001b[0m._provider, attr)                                              \u001b[31m│\u001b[0m\n",
              "\u001b[31m│\u001b[0m   \u001b[2m2903 \u001b[0m\u001b[2m│   \u001b[0m                                                                                      \u001b[31m│\u001b[0m\n",
              "\u001b[31m│\u001b[0m   \u001b[2m2904 \u001b[0m\u001b[2m│   \u001b[0m\u001b[94mdef\u001b[0m \u001b[92m__dir__\u001b[0m(\u001b[96mself\u001b[0m):                                                                    \u001b[31m│\u001b[0m\n",
              "\u001b[31m╰──────────────────────────────────────────────────────────────────────────────────────────────────╯\u001b[0m\n",
              "\u001b[1;91mAttributeError: \u001b[0m_DistInfoDistribution__dep_map\n",
              "\n",
              "\u001b[3mDuring handling of the above exception, another exception occurred:\u001b[0m\n",
              "\n",
              "\u001b[31m╭─\u001b[0m\u001b[31m──────────────────────────────\u001b[0m\u001b[31m \u001b[0m\u001b[1;31mTraceback \u001b[0m\u001b[1;2;31m(most recent call last)\u001b[0m\u001b[31m \u001b[0m\u001b[31m───────────────────────────────\u001b[0m\u001b[31m─╮\u001b[0m\n",
              "\u001b[31m│\u001b[0m \u001b[2;33m/usr/local/lib/python3.10/dist-packages/pkg_resources/\u001b[0m\u001b[1;33m__init__.py\u001b[0m:\u001b[94m3099\u001b[0m in \u001b[92m_parsed_pkg_info\u001b[0m       \u001b[31m│\u001b[0m\n",
              "\u001b[31m│\u001b[0m                                                                                                  \u001b[31m│\u001b[0m\n",
              "\u001b[31m│\u001b[0m   \u001b[2m3096 \u001b[0m\u001b[2m│   \u001b[0m\u001b[94mdef\u001b[0m \u001b[92m_parsed_pkg_info\u001b[0m(\u001b[96mself\u001b[0m):                                                           \u001b[31m│\u001b[0m\n",
              "\u001b[31m│\u001b[0m   \u001b[2m3097 \u001b[0m\u001b[2;90m│   │   \u001b[0m\u001b[33m\"\"\"Parse and cache metadata\"\"\"\u001b[0m                                                    \u001b[31m│\u001b[0m\n",
              "\u001b[31m│\u001b[0m   \u001b[2m3098 \u001b[0m\u001b[2m│   │   \u001b[0m\u001b[94mtry\u001b[0m:                                                                              \u001b[31m│\u001b[0m\n",
              "\u001b[31m│\u001b[0m \u001b[31m❱ \u001b[0m3099 \u001b[2m│   │   │   \u001b[0m\u001b[94mreturn\u001b[0m \u001b[96mself\u001b[0m._pkg_info                                                         \u001b[31m│\u001b[0m\n",
              "\u001b[31m│\u001b[0m   \u001b[2m3100 \u001b[0m\u001b[2m│   │   \u001b[0m\u001b[94mexcept\u001b[0m \u001b[96mAttributeError\u001b[0m:                                                            \u001b[31m│\u001b[0m\n",
              "\u001b[31m│\u001b[0m   \u001b[2m3101 \u001b[0m\u001b[2m│   │   │   \u001b[0mmetadata = \u001b[96mself\u001b[0m.get_metadata(\u001b[96mself\u001b[0m.PKG_INFO)                                   \u001b[31m│\u001b[0m\n",
              "\u001b[31m│\u001b[0m   \u001b[2m3102 \u001b[0m\u001b[2m│   │   │   \u001b[0m\u001b[96mself\u001b[0m._pkg_info = email.parser.Parser().parsestr(metadata)                     \u001b[31m│\u001b[0m\n",
              "\u001b[31m│\u001b[0m                                                                                                  \u001b[31m│\u001b[0m\n",
              "\u001b[31m│\u001b[0m \u001b[2;33m/usr/local/lib/python3.10/dist-packages/pkg_resources/\u001b[0m\u001b[1;33m__init__.py\u001b[0m:\u001b[94m2901\u001b[0m in \u001b[92m__getattr__\u001b[0m            \u001b[31m│\u001b[0m\n",
              "\u001b[31m│\u001b[0m                                                                                                  \u001b[31m│\u001b[0m\n",
              "\u001b[31m│\u001b[0m   \u001b[2m2898 \u001b[0m\u001b[2m│   \u001b[0m\u001b[94mdef\u001b[0m \u001b[92m__getattr__\u001b[0m(\u001b[96mself\u001b[0m, attr):                                                          \u001b[31m│\u001b[0m\n",
              "\u001b[31m│\u001b[0m   \u001b[2m2899 \u001b[0m\u001b[2;90m│   │   \u001b[0m\u001b[33m\"\"\"Delegate all unrecognized public attributes to .metadata provider\"\"\"\u001b[0m           \u001b[31m│\u001b[0m\n",
              "\u001b[31m│\u001b[0m   \u001b[2m2900 \u001b[0m\u001b[2m│   │   \u001b[0m\u001b[94mif\u001b[0m attr.startswith(\u001b[33m'\u001b[0m\u001b[33m_\u001b[0m\u001b[33m'\u001b[0m):                                                          \u001b[31m│\u001b[0m\n",
              "\u001b[31m│\u001b[0m \u001b[31m❱ \u001b[0m2901 \u001b[2m│   │   │   \u001b[0m\u001b[94mraise\u001b[0m \u001b[96mAttributeError\u001b[0m(attr)                                                    \u001b[31m│\u001b[0m\n",
              "\u001b[31m│\u001b[0m   \u001b[2m2902 \u001b[0m\u001b[2m│   │   \u001b[0m\u001b[94mreturn\u001b[0m \u001b[96mgetattr\u001b[0m(\u001b[96mself\u001b[0m._provider, attr)                                              \u001b[31m│\u001b[0m\n",
              "\u001b[31m│\u001b[0m   \u001b[2m2903 \u001b[0m\u001b[2m│   \u001b[0m                                                                                      \u001b[31m│\u001b[0m\n",
              "\u001b[31m│\u001b[0m   \u001b[2m2904 \u001b[0m\u001b[2m│   \u001b[0m\u001b[94mdef\u001b[0m \u001b[92m__dir__\u001b[0m(\u001b[96mself\u001b[0m):                                                                    \u001b[31m│\u001b[0m\n",
              "\u001b[31m╰──────────────────────────────────────────────────────────────────────────────────────────────────╯\u001b[0m\n",
              "\u001b[1;91mAttributeError: \u001b[0m_pkg_info\n",
              "\n",
              "\u001b[3mDuring handling of the above exception, another exception occurred:\u001b[0m\n",
              "\n",
              "\u001b[31m╭─\u001b[0m\u001b[31m──────────────────────────────\u001b[0m\u001b[31m \u001b[0m\u001b[1;31mTraceback \u001b[0m\u001b[1;2;31m(most recent call last)\u001b[0m\u001b[31m \u001b[0m\u001b[31m───────────────────────────────\u001b[0m\u001b[31m─╮\u001b[0m\n",
              "\u001b[31m│\u001b[0m in \u001b[92m<cell line: 1>\u001b[0m:\u001b[94m1\u001b[0m                                                                              \u001b[31m│\u001b[0m\n",
              "\u001b[31m│\u001b[0m                                                                                                  \u001b[31m│\u001b[0m\n",
              "\u001b[31m│\u001b[0m \u001b[2;33m/usr/local/lib/python3.10/dist-packages/lamini/runners/\u001b[0m\u001b[1;33mbase_runner.py\u001b[0m:\u001b[94m64\u001b[0m in \u001b[92mcall\u001b[0m                 \u001b[31m│\u001b[0m\n",
              "\u001b[31m│\u001b[0m                                                                                                  \u001b[31m│\u001b[0m\n",
              "\u001b[31m│\u001b[0m   \u001b[2m 61 \u001b[0m\u001b[2m│   \u001b[0m):                                                                                     \u001b[31m│\u001b[0m\n",
              "\u001b[31m│\u001b[0m   \u001b[2m 62 \u001b[0m\u001b[2m│   │   \u001b[0minput_objects = \u001b[96mself\u001b[0m.create_final_prompts(prompt, system_prompt)                   \u001b[31m│\u001b[0m\n",
              "\u001b[31m│\u001b[0m   \u001b[2m 63 \u001b[0m\u001b[2m│   │   \u001b[0m                                                                                   \u001b[31m│\u001b[0m\n",
              "\u001b[31m│\u001b[0m \u001b[31m❱ \u001b[0m 64 \u001b[2m│   │   \u001b[0m\u001b[94mreturn\u001b[0m \u001b[96mself\u001b[0m.lamini_api.generate(                                                   \u001b[31m│\u001b[0m\n",
              "\u001b[31m│\u001b[0m   \u001b[2m 65 \u001b[0m\u001b[2m│   │   │   \u001b[0mprompt=input_objects,                                                          \u001b[31m│\u001b[0m\n",
              "\u001b[31m│\u001b[0m   \u001b[2m 66 \u001b[0m\u001b[2m│   │   │   \u001b[0mmodel_name=\u001b[96mself\u001b[0m.model_name,                                                    \u001b[31m│\u001b[0m\n",
              "\u001b[31m│\u001b[0m   \u001b[2m 67 \u001b[0m\u001b[2m│   │   │   \u001b[0mmax_tokens=max_tokens,                                                         \u001b[31m│\u001b[0m\n",
              "\u001b[31m│\u001b[0m                                                                                                  \u001b[31m│\u001b[0m\n",
              "\u001b[31m│\u001b[0m \u001b[2;33m/usr/local/lib/python3.10/dist-packages/lamini/api/\u001b[0m\u001b[1;33mlamini.py\u001b[0m:\u001b[94m77\u001b[0m in \u001b[92mgenerate\u001b[0m                      \u001b[31m│\u001b[0m\n",
              "\u001b[31m│\u001b[0m                                                                                                  \u001b[31m│\u001b[0m\n",
              "\u001b[31m│\u001b[0m   \u001b[2m 74 \u001b[0m\u001b[2m│   │   │   │   \u001b[0mmax_tokens=max_tokens,                                                     \u001b[31m│\u001b[0m\n",
              "\u001b[31m│\u001b[0m   \u001b[2m 75 \u001b[0m\u001b[2m│   │   │   │   \u001b[0mmax_new_tokens=max_new_tokens,                                             \u001b[31m│\u001b[0m\n",
              "\u001b[31m│\u001b[0m   \u001b[2m 76 \u001b[0m\u001b[2m│   │   │   \u001b[0m)                                                                              \u001b[31m│\u001b[0m\n",
              "\u001b[31m│\u001b[0m \u001b[31m❱ \u001b[0m 77 \u001b[2m│   │   │   \u001b[0mresult = \u001b[96mself\u001b[0m.completion.generate(req_data)                                    \u001b[31m│\u001b[0m\n",
              "\u001b[31m│\u001b[0m   \u001b[2m 78 \u001b[0m\u001b[2m│   │   │   \u001b[0m\u001b[94mif\u001b[0m output_type \u001b[95mis\u001b[0m \u001b[94mNone\u001b[0m:                                                        \u001b[31m│\u001b[0m\n",
              "\u001b[31m│\u001b[0m   \u001b[2m 79 \u001b[0m\u001b[2m│   │   │   │   \u001b[0m\u001b[94mif\u001b[0m \u001b[96misinstance\u001b[0m(prompt, \u001b[96mlist\u001b[0m) \u001b[95mand\u001b[0m \u001b[96mlen\u001b[0m(prompt) == \u001b[94m1\u001b[0m:                          \u001b[31m│\u001b[0m\n",
              "\u001b[31m│\u001b[0m   \u001b[2m 80 \u001b[0m\u001b[2m│   │   │   │   │   \u001b[0mresult = [single_result[\u001b[33m\"\u001b[0m\u001b[33moutput\u001b[0m\u001b[33m\"\u001b[0m] \u001b[94mfor\u001b[0m single_result \u001b[95min\u001b[0m result]         \u001b[31m│\u001b[0m\n",
              "\u001b[31m│\u001b[0m                                                                                                  \u001b[31m│\u001b[0m\n",
              "\u001b[31m│\u001b[0m \u001b[2;33m/usr/local/lib/python3.10/dist-packages/lamini/api/utils/\u001b[0m\u001b[1;33mcompletion.py\u001b[0m:\u001b[94m15\u001b[0m in \u001b[92mgenerate\u001b[0m            \u001b[31m│\u001b[0m\n",
              "\u001b[31m│\u001b[0m                                                                                                  \u001b[31m│\u001b[0m\n",
              "\u001b[31m│\u001b[0m   \u001b[2m12 \u001b[0m\u001b[2m│   │   \u001b[0m\u001b[96mself\u001b[0m.api_prefix = \u001b[96mself\u001b[0m.api_url + \u001b[33m\"\u001b[0m\u001b[33m/v1/\u001b[0m\u001b[33m\"\u001b[0m                                             \u001b[31m│\u001b[0m\n",
              "\u001b[31m│\u001b[0m   \u001b[2m13 \u001b[0m\u001b[2m│   \u001b[0m                                                                                        \u001b[31m│\u001b[0m\n",
              "\u001b[31m│\u001b[0m   \u001b[2m14 \u001b[0m\u001b[2m│   \u001b[0m\u001b[94mdef\u001b[0m \u001b[92mgenerate\u001b[0m(\u001b[96mself\u001b[0m, params):                                                             \u001b[31m│\u001b[0m\n",
              "\u001b[31m│\u001b[0m \u001b[31m❱ \u001b[0m15 \u001b[2m│   │   \u001b[0mresp = make_web_request(                                                            \u001b[31m│\u001b[0m\n",
              "\u001b[31m│\u001b[0m   \u001b[2m16 \u001b[0m\u001b[2m│   │   │   \u001b[0m\u001b[96mself\u001b[0m.api_key, \u001b[96mself\u001b[0m.api_prefix + \u001b[33m\"\u001b[0m\u001b[33mcompletions\u001b[0m\u001b[33m\"\u001b[0m, \u001b[33m\"\u001b[0m\u001b[33mpost\u001b[0m\u001b[33m\"\u001b[0m, params                   \u001b[31m│\u001b[0m\n",
              "\u001b[31m│\u001b[0m   \u001b[2m17 \u001b[0m\u001b[2m│   │   \u001b[0m)                                                                                   \u001b[31m│\u001b[0m\n",
              "\u001b[31m│\u001b[0m   \u001b[2m18 \u001b[0m\u001b[2m│   │   \u001b[0m\u001b[94mreturn\u001b[0m resp                                                                         \u001b[31m│\u001b[0m\n",
              "\u001b[31m│\u001b[0m                                                                                                  \u001b[31m│\u001b[0m\n",
              "\u001b[31m│\u001b[0m \u001b[2;33m/usr/local/lib/python3.10/dist-packages/lamini/api/\u001b[0m\u001b[1;33mrest_requests.py\u001b[0m:\u001b[94m145\u001b[0m in \u001b[92mmake_web_request\u001b[0m      \u001b[31m│\u001b[0m\n",
              "\u001b[31m│\u001b[0m                                                                                                  \u001b[31m│\u001b[0m\n",
              "\u001b[31m│\u001b[0m   \u001b[2m142 \u001b[0m\u001b[2m│   \u001b[0mheaders = {                                                                            \u001b[31m│\u001b[0m\n",
              "\u001b[31m│\u001b[0m   \u001b[2m143 \u001b[0m\u001b[2m│   │   \u001b[0m\u001b[33m\"\u001b[0m\u001b[33mContent-Type\u001b[0m\u001b[33m\"\u001b[0m: \u001b[33m\"\u001b[0m\u001b[33mapplication/json\u001b[0m\u001b[33m\"\u001b[0m,                                                \u001b[31m│\u001b[0m\n",
              "\u001b[31m│\u001b[0m   \u001b[2m144 \u001b[0m\u001b[2m│   │   \u001b[0m\u001b[33m\"\u001b[0m\u001b[33mAuthorization\u001b[0m\u001b[33m\"\u001b[0m: \u001b[33m\"\u001b[0m\u001b[33mBearer \u001b[0m\u001b[33m\"\u001b[0m + key,                                                  \u001b[31m│\u001b[0m\n",
              "\u001b[31m│\u001b[0m \u001b[31m❱ \u001b[0m145 \u001b[2m│   │   \u001b[0m\u001b[33m\"\u001b[0m\u001b[33mLamini-Version\u001b[0m\u001b[33m\"\u001b[0m: pkg_resources.get_distribution(\u001b[33m'\u001b[0m\u001b[33mlamini\u001b[0m\u001b[33m'\u001b[0m).version                 \u001b[31m│\u001b[0m\n",
              "\u001b[31m│\u001b[0m   \u001b[2m146 \u001b[0m\u001b[2m│   \u001b[0m}                                                                                      \u001b[31m│\u001b[0m\n",
              "\u001b[31m│\u001b[0m   \u001b[2m147 \u001b[0m\u001b[2m│   \u001b[0m\u001b[94mif\u001b[0m http_method == \u001b[33m\"\u001b[0m\u001b[33mpost\u001b[0m\u001b[33m\"\u001b[0m:                                                              \u001b[31m│\u001b[0m\n",
              "\u001b[31m│\u001b[0m   \u001b[2m148 \u001b[0m\u001b[2m│   │   \u001b[0mresp = requests.post(url=url, headers=headers, json=json)                          \u001b[31m│\u001b[0m\n",
              "\u001b[31m│\u001b[0m                                                                                                  \u001b[31m│\u001b[0m\n",
              "\u001b[31m│\u001b[0m \u001b[2;33m/usr/local/lib/python3.10/dist-packages/pkg_resources/\u001b[0m\u001b[1;33m__init__.py\u001b[0m:\u001b[94m526\u001b[0m in \u001b[92mget_distribution\u001b[0m        \u001b[31m│\u001b[0m\n",
              "\u001b[31m│\u001b[0m                                                                                                  \u001b[31m│\u001b[0m\n",
              "\u001b[31m│\u001b[0m   \u001b[2m 523 \u001b[0m\u001b[2m│   \u001b[0m\u001b[94mif\u001b[0m \u001b[96misinstance\u001b[0m(dist, \u001b[96mstr\u001b[0m):                                                             \u001b[31m│\u001b[0m\n",
              "\u001b[31m│\u001b[0m   \u001b[2m 524 \u001b[0m\u001b[2m│   │   \u001b[0mdist = Requirement.parse(dist)                                                    \u001b[31m│\u001b[0m\n",
              "\u001b[31m│\u001b[0m   \u001b[2m 525 \u001b[0m\u001b[2m│   \u001b[0m\u001b[94mif\u001b[0m \u001b[96misinstance\u001b[0m(dist, Requirement):                                                     \u001b[31m│\u001b[0m\n",
              "\u001b[31m│\u001b[0m \u001b[31m❱ \u001b[0m 526 \u001b[2m│   │   \u001b[0mdist = get_provider(dist)                                                         \u001b[31m│\u001b[0m\n",
              "\u001b[31m│\u001b[0m   \u001b[2m 527 \u001b[0m\u001b[2m│   \u001b[0m\u001b[94mif\u001b[0m \u001b[95mnot\u001b[0m \u001b[96misinstance\u001b[0m(dist, Distribution):                                                \u001b[31m│\u001b[0m\n",
              "\u001b[31m│\u001b[0m   \u001b[2m 528 \u001b[0m\u001b[2m│   │   \u001b[0m\u001b[94mraise\u001b[0m \u001b[96mTypeError\u001b[0m(\u001b[33m\"\u001b[0m\u001b[33mExpected string, Requirement, or Distribution\u001b[0m\u001b[33m\"\u001b[0m, dist)            \u001b[31m│\u001b[0m\n",
              "\u001b[31m│\u001b[0m   \u001b[2m 529 \u001b[0m\u001b[2m│   \u001b[0m\u001b[94mreturn\u001b[0m dist                                                                           \u001b[31m│\u001b[0m\n",
              "\u001b[31m│\u001b[0m                                                                                                  \u001b[31m│\u001b[0m\n",
              "\u001b[31m│\u001b[0m \u001b[2;33m/usr/local/lib/python3.10/dist-packages/pkg_resources/\u001b[0m\u001b[1;33m__init__.py\u001b[0m:\u001b[94m398\u001b[0m in \u001b[92mget_provider\u001b[0m            \u001b[31m│\u001b[0m\n",
              "\u001b[31m│\u001b[0m                                                                                                  \u001b[31m│\u001b[0m\n",
              "\u001b[31m│\u001b[0m   \u001b[2m 395 \u001b[0m\u001b[94mdef\u001b[0m \u001b[92mget_provider\u001b[0m(moduleOrReq):                                                            \u001b[31m│\u001b[0m\n",
              "\u001b[31m│\u001b[0m   \u001b[2m 396 \u001b[0m\u001b[2;90m│   \u001b[0m\u001b[33m\"\"\"Return an IResourceProvider for the named module or requirement\"\"\"\u001b[0m                 \u001b[31m│\u001b[0m\n",
              "\u001b[31m│\u001b[0m   \u001b[2m 397 \u001b[0m\u001b[2m│   \u001b[0m\u001b[94mif\u001b[0m \u001b[96misinstance\u001b[0m(moduleOrReq, Requirement):                                              \u001b[31m│\u001b[0m\n",
              "\u001b[31m│\u001b[0m \u001b[31m❱ \u001b[0m 398 \u001b[2m│   │   \u001b[0m\u001b[94mreturn\u001b[0m working_set.find(moduleOrReq) \u001b[95mor\u001b[0m require(\u001b[96mstr\u001b[0m(moduleOrReq))[\u001b[94m0\u001b[0m]              \u001b[31m│\u001b[0m\n",
              "\u001b[31m│\u001b[0m   \u001b[2m 399 \u001b[0m\u001b[2m│   \u001b[0m\u001b[94mtry\u001b[0m:                                                                                  \u001b[31m│\u001b[0m\n",
              "\u001b[31m│\u001b[0m   \u001b[2m 400 \u001b[0m\u001b[2m│   │   \u001b[0mmodule = sys.modules[moduleOrReq]                                                 \u001b[31m│\u001b[0m\n",
              "\u001b[31m│\u001b[0m   \u001b[2m 401 \u001b[0m\u001b[2m│   \u001b[0m\u001b[94mexcept\u001b[0m \u001b[96mKeyError\u001b[0m:                                                                      \u001b[31m│\u001b[0m\n",
              "\u001b[31m│\u001b[0m                                                                                                  \u001b[31m│\u001b[0m\n",
              "\u001b[31m│\u001b[0m \u001b[2;33m/usr/local/lib/python3.10/dist-packages/pkg_resources/\u001b[0m\u001b[1;33m__init__.py\u001b[0m:\u001b[94m966\u001b[0m in \u001b[92mrequire\u001b[0m                 \u001b[31m│\u001b[0m\n",
              "\u001b[31m│\u001b[0m                                                                                                  \u001b[31m│\u001b[0m\n",
              "\u001b[31m│\u001b[0m   \u001b[2m 963 \u001b[0m\u001b[2;33m│   │   \u001b[0m\u001b[33mactivated to fulfill the requirements; all relevant distributions are\u001b[0m             \u001b[31m│\u001b[0m\n",
              "\u001b[31m│\u001b[0m   \u001b[2m 964 \u001b[0m\u001b[2;33m│   │   \u001b[0m\u001b[33mincluded, even if they were already activated in this working set.\u001b[0m                \u001b[31m│\u001b[0m\n",
              "\u001b[31m│\u001b[0m   \u001b[2m 965 \u001b[0m\u001b[2;33m│   │   \u001b[0m\u001b[33m\"\"\"\u001b[0m                                                                               \u001b[31m│\u001b[0m\n",
              "\u001b[31m│\u001b[0m \u001b[31m❱ \u001b[0m 966 \u001b[2m│   │   \u001b[0mneeded = \u001b[96mself\u001b[0m.resolve(parse_requirements(requirements))                           \u001b[31m│\u001b[0m\n",
              "\u001b[31m│\u001b[0m   \u001b[2m 967 \u001b[0m\u001b[2m│   │   \u001b[0m                                                                                  \u001b[31m│\u001b[0m\n",
              "\u001b[31m│\u001b[0m   \u001b[2m 968 \u001b[0m\u001b[2m│   │   \u001b[0m\u001b[94mfor\u001b[0m dist \u001b[95min\u001b[0m needed:                                                               \u001b[31m│\u001b[0m\n",
              "\u001b[31m│\u001b[0m   \u001b[2m 969 \u001b[0m\u001b[2m│   │   │   \u001b[0m\u001b[96mself\u001b[0m.add(dist)                                                                \u001b[31m│\u001b[0m\n",
              "\u001b[31m│\u001b[0m                                                                                                  \u001b[31m│\u001b[0m\n",
              "\u001b[31m│\u001b[0m \u001b[2;33m/usr/local/lib/python3.10/dist-packages/pkg_resources/\u001b[0m\u001b[1;33m__init__.py\u001b[0m:\u001b[94m832\u001b[0m in \u001b[92mresolve\u001b[0m                 \u001b[31m│\u001b[0m\n",
              "\u001b[31m│\u001b[0m                                                                                                  \u001b[31m│\u001b[0m\n",
              "\u001b[31m│\u001b[0m   \u001b[2m 829 \u001b[0m\u001b[2m│   │   │   \u001b[0m)                                                                             \u001b[31m│\u001b[0m\n",
              "\u001b[31m│\u001b[0m   \u001b[2m 830 \u001b[0m\u001b[2m│   │   │   \u001b[0m                                                                              \u001b[31m│\u001b[0m\n",
              "\u001b[31m│\u001b[0m   \u001b[2m 831 \u001b[0m\u001b[2m│   │   │   \u001b[0m\u001b[2m# push the new requirements onto the stack\u001b[0m                                    \u001b[31m│\u001b[0m\n",
              "\u001b[31m│\u001b[0m \u001b[31m❱ \u001b[0m 832 \u001b[2m│   │   │   \u001b[0mnew_requirements = dist.requires(req.extras)[::-\u001b[94m1\u001b[0m]                            \u001b[31m│\u001b[0m\n",
              "\u001b[31m│\u001b[0m   \u001b[2m 833 \u001b[0m\u001b[2m│   │   │   \u001b[0mrequirements.extend(new_requirements)                                         \u001b[31m│\u001b[0m\n",
              "\u001b[31m│\u001b[0m   \u001b[2m 834 \u001b[0m\u001b[2m│   │   │   \u001b[0m                                                                              \u001b[31m│\u001b[0m\n",
              "\u001b[31m│\u001b[0m   \u001b[2m 835 \u001b[0m\u001b[2m│   │   │   \u001b[0m\u001b[2m# Register the new requirements needed by req\u001b[0m                                 \u001b[31m│\u001b[0m\n",
              "\u001b[31m│\u001b[0m                                                                                                  \u001b[31m│\u001b[0m\n",
              "\u001b[31m│\u001b[0m \u001b[2;33m/usr/local/lib/python3.10/dist-packages/pkg_resources/\u001b[0m\u001b[1;33m__init__.py\u001b[0m:\u001b[94m2821\u001b[0m in \u001b[92mrequires\u001b[0m               \u001b[31m│\u001b[0m\n",
              "\u001b[31m│\u001b[0m                                                                                                  \u001b[31m│\u001b[0m\n",
              "\u001b[31m│\u001b[0m   \u001b[2m2818 \u001b[0m\u001b[2m│   \u001b[0m                                                                                      \u001b[31m│\u001b[0m\n",
              "\u001b[31m│\u001b[0m   \u001b[2m2819 \u001b[0m\u001b[2m│   \u001b[0m\u001b[94mdef\u001b[0m \u001b[92mrequires\u001b[0m(\u001b[96mself\u001b[0m, extras=()):                                                        \u001b[31m│\u001b[0m\n",
              "\u001b[31m│\u001b[0m   \u001b[2m2820 \u001b[0m\u001b[2;90m│   │   \u001b[0m\u001b[33m\"\"\"List of Requirements needed for this distro if `extras` are used\"\"\"\u001b[0m            \u001b[31m│\u001b[0m\n",
              "\u001b[31m│\u001b[0m \u001b[31m❱ \u001b[0m2821 \u001b[2m│   │   \u001b[0mdm = \u001b[96mself\u001b[0m._dep_map                                                                \u001b[31m│\u001b[0m\n",
              "\u001b[31m│\u001b[0m   \u001b[2m2822 \u001b[0m\u001b[2m│   │   \u001b[0mdeps = []                                                                         \u001b[31m│\u001b[0m\n",
              "\u001b[31m│\u001b[0m   \u001b[2m2823 \u001b[0m\u001b[2m│   │   \u001b[0mdeps.extend(dm.get(\u001b[94mNone\u001b[0m, ()))                                                     \u001b[31m│\u001b[0m\n",
              "\u001b[31m│\u001b[0m   \u001b[2m2824 \u001b[0m\u001b[2m│   │   \u001b[0m\u001b[94mfor\u001b[0m ext \u001b[95min\u001b[0m extras:                                                                \u001b[31m│\u001b[0m\n",
              "\u001b[31m│\u001b[0m                                                                                                  \u001b[31m│\u001b[0m\n",
              "\u001b[31m│\u001b[0m \u001b[2;33m/usr/local/lib/python3.10/dist-packages/pkg_resources/\u001b[0m\u001b[1;33m__init__.py\u001b[0m:\u001b[94m3110\u001b[0m in \u001b[92m_dep_map\u001b[0m               \u001b[31m│\u001b[0m\n",
              "\u001b[31m│\u001b[0m                                                                                                  \u001b[31m│\u001b[0m\n",
              "\u001b[31m│\u001b[0m   \u001b[2m3107 \u001b[0m\u001b[2m│   │   \u001b[0m\u001b[94mtry\u001b[0m:                                                                              \u001b[31m│\u001b[0m\n",
              "\u001b[31m│\u001b[0m   \u001b[2m3108 \u001b[0m\u001b[2m│   │   │   \u001b[0m\u001b[94mreturn\u001b[0m \u001b[96mself\u001b[0m.__dep_map                                                         \u001b[31m│\u001b[0m\n",
              "\u001b[31m│\u001b[0m   \u001b[2m3109 \u001b[0m\u001b[2m│   │   \u001b[0m\u001b[94mexcept\u001b[0m \u001b[96mAttributeError\u001b[0m:                                                            \u001b[31m│\u001b[0m\n",
              "\u001b[31m│\u001b[0m \u001b[31m❱ \u001b[0m3110 \u001b[2m│   │   │   \u001b[0m\u001b[96mself\u001b[0m.__dep_map = \u001b[96mself\u001b[0m._compute_dependencies()                                 \u001b[31m│\u001b[0m\n",
              "\u001b[31m│\u001b[0m   \u001b[2m3111 \u001b[0m\u001b[2m│   │   │   \u001b[0m\u001b[94mreturn\u001b[0m \u001b[96mself\u001b[0m.__dep_map                                                         \u001b[31m│\u001b[0m\n",
              "\u001b[31m│\u001b[0m   \u001b[2m3112 \u001b[0m\u001b[2m│   \u001b[0m                                                                                      \u001b[31m│\u001b[0m\n",
              "\u001b[31m│\u001b[0m   \u001b[2m3113 \u001b[0m\u001b[2m│   \u001b[0m\u001b[94mdef\u001b[0m \u001b[92m_compute_dependencies\u001b[0m(\u001b[96mself\u001b[0m):                                                      \u001b[31m│\u001b[0m\n",
              "\u001b[31m│\u001b[0m                                                                                                  \u001b[31m│\u001b[0m\n",
              "\u001b[31m│\u001b[0m \u001b[2;33m/usr/local/lib/python3.10/dist-packages/pkg_resources/\u001b[0m\u001b[1;33m__init__.py\u001b[0m:\u001b[94m3119\u001b[0m in \u001b[92m_compute_dependencies\u001b[0m  \u001b[31m│\u001b[0m\n",
              "\u001b[31m│\u001b[0m                                                                                                  \u001b[31m│\u001b[0m\n",
              "\u001b[31m│\u001b[0m   \u001b[2m3116 \u001b[0m\u001b[2m│   │   \u001b[0m                                                                                  \u001b[31m│\u001b[0m\n",
              "\u001b[31m│\u001b[0m   \u001b[2m3117 \u001b[0m\u001b[2m│   │   \u001b[0mreqs = []                                                                         \u001b[31m│\u001b[0m\n",
              "\u001b[31m│\u001b[0m   \u001b[2m3118 \u001b[0m\u001b[2m│   │   \u001b[0m\u001b[2m# Including any condition expressions\u001b[0m                                             \u001b[31m│\u001b[0m\n",
              "\u001b[31m│\u001b[0m \u001b[31m❱ \u001b[0m3119 \u001b[2m│   │   \u001b[0m\u001b[94mfor\u001b[0m req \u001b[95min\u001b[0m \u001b[96mself\u001b[0m._parsed_pkg_info.get_all(\u001b[33m'\u001b[0m\u001b[33mRequires-Dist\u001b[0m\u001b[33m'\u001b[0m) \u001b[95mor\u001b[0m []:                  \u001b[31m│\u001b[0m\n",
              "\u001b[31m│\u001b[0m   \u001b[2m3120 \u001b[0m\u001b[2m│   │   │   \u001b[0mreqs.extend(parse_requirements(req))                                          \u001b[31m│\u001b[0m\n",
              "\u001b[31m│\u001b[0m   \u001b[2m3121 \u001b[0m\u001b[2m│   │   \u001b[0m                                                                                  \u001b[31m│\u001b[0m\n",
              "\u001b[31m│\u001b[0m   \u001b[2m3122 \u001b[0m\u001b[2m│   │   \u001b[0m\u001b[94mdef\u001b[0m \u001b[92mreqs_for_extra\u001b[0m(extra):                                                        \u001b[31m│\u001b[0m\n",
              "\u001b[31m│\u001b[0m                                                                                                  \u001b[31m│\u001b[0m\n",
              "\u001b[31m│\u001b[0m \u001b[2;33m/usr/local/lib/python3.10/dist-packages/pkg_resources/\u001b[0m\u001b[1;33m__init__.py\u001b[0m:\u001b[94m3101\u001b[0m in \u001b[92m_parsed_pkg_info\u001b[0m       \u001b[31m│\u001b[0m\n",
              "\u001b[31m│\u001b[0m                                                                                                  \u001b[31m│\u001b[0m\n",
              "\u001b[31m│\u001b[0m   \u001b[2m3098 \u001b[0m\u001b[2m│   │   \u001b[0m\u001b[94mtry\u001b[0m:                                                                              \u001b[31m│\u001b[0m\n",
              "\u001b[31m│\u001b[0m   \u001b[2m3099 \u001b[0m\u001b[2m│   │   │   \u001b[0m\u001b[94mreturn\u001b[0m \u001b[96mself\u001b[0m._pkg_info                                                         \u001b[31m│\u001b[0m\n",
              "\u001b[31m│\u001b[0m   \u001b[2m3100 \u001b[0m\u001b[2m│   │   \u001b[0m\u001b[94mexcept\u001b[0m \u001b[96mAttributeError\u001b[0m:                                                            \u001b[31m│\u001b[0m\n",
              "\u001b[31m│\u001b[0m \u001b[31m❱ \u001b[0m3101 \u001b[2m│   │   │   \u001b[0mmetadata = \u001b[96mself\u001b[0m.get_metadata(\u001b[96mself\u001b[0m.PKG_INFO)                                   \u001b[31m│\u001b[0m\n",
              "\u001b[31m│\u001b[0m   \u001b[2m3102 \u001b[0m\u001b[2m│   │   │   \u001b[0m\u001b[96mself\u001b[0m._pkg_info = email.parser.Parser().parsestr(metadata)                     \u001b[31m│\u001b[0m\n",
              "\u001b[31m│\u001b[0m   \u001b[2m3103 \u001b[0m\u001b[2m│   │   │   \u001b[0m\u001b[94mreturn\u001b[0m \u001b[96mself\u001b[0m._pkg_info                                                         \u001b[31m│\u001b[0m\n",
              "\u001b[31m│\u001b[0m   \u001b[2m3104 \u001b[0m                                                                                          \u001b[31m│\u001b[0m\n",
              "\u001b[31m│\u001b[0m                                                                                                  \u001b[31m│\u001b[0m\n",
              "\u001b[31m│\u001b[0m \u001b[2;33m/usr/local/lib/python3.10/dist-packages/pkg_resources/\u001b[0m\u001b[1;33m__init__.py\u001b[0m:\u001b[94m1517\u001b[0m in \u001b[92mget_metadata\u001b[0m           \u001b[31m│\u001b[0m\n",
              "\u001b[31m│\u001b[0m                                                                                                  \u001b[31m│\u001b[0m\n",
              "\u001b[31m│\u001b[0m   \u001b[2m1514 \u001b[0m\u001b[2m│   │   \u001b[0m\u001b[94mif\u001b[0m \u001b[95mnot\u001b[0m \u001b[96mself\u001b[0m.egg_info:                                                             \u001b[31m│\u001b[0m\n",
              "\u001b[31m│\u001b[0m   \u001b[2m1515 \u001b[0m\u001b[2m│   │   │   \u001b[0m\u001b[94mreturn\u001b[0m \u001b[33m\"\u001b[0m\u001b[33m\"\u001b[0m                                                                     \u001b[31m│\u001b[0m\n",
              "\u001b[31m│\u001b[0m   \u001b[2m1516 \u001b[0m\u001b[2m│   │   \u001b[0mpath = \u001b[96mself\u001b[0m._get_metadata_path(name)                                              \u001b[31m│\u001b[0m\n",
              "\u001b[31m│\u001b[0m \u001b[31m❱ \u001b[0m1517 \u001b[2m│   │   \u001b[0mvalue = \u001b[96mself\u001b[0m._get(path)                                                           \u001b[31m│\u001b[0m\n",
              "\u001b[31m│\u001b[0m   \u001b[2m1518 \u001b[0m\u001b[2m│   │   \u001b[0m\u001b[94mtry\u001b[0m:                                                                              \u001b[31m│\u001b[0m\n",
              "\u001b[31m│\u001b[0m   \u001b[2m1519 \u001b[0m\u001b[2m│   │   │   \u001b[0m\u001b[94mreturn\u001b[0m value.decode(\u001b[33m'\u001b[0m\u001b[33mutf-8\u001b[0m\u001b[33m'\u001b[0m)                                                  \u001b[31m│\u001b[0m\n",
              "\u001b[31m│\u001b[0m   \u001b[2m1520 \u001b[0m\u001b[2m│   │   \u001b[0m\u001b[94mexcept\u001b[0m \u001b[96mUnicodeDecodeError\u001b[0m \u001b[94mas\u001b[0m exc:                                                 \u001b[31m│\u001b[0m\n",
              "\u001b[31m│\u001b[0m                                                                                                  \u001b[31m│\u001b[0m\n",
              "\u001b[31m│\u001b[0m \u001b[2;33m/usr/local/lib/python3.10/dist-packages/pkg_resources/\u001b[0m\u001b[1;33m__init__.py\u001b[0m:\u001b[94m1726\u001b[0m in \u001b[92m_get\u001b[0m                   \u001b[31m│\u001b[0m\n",
              "\u001b[31m│\u001b[0m                                                                                                  \u001b[31m│\u001b[0m\n",
              "\u001b[31m│\u001b[0m   \u001b[2m1723 \u001b[0m\u001b[2m│   │   \u001b[0m\u001b[94mreturn\u001b[0m \u001b[96mopen\u001b[0m(\u001b[96mself\u001b[0m._fn(\u001b[96mself\u001b[0m.module_path, resource_name), \u001b[33m'\u001b[0m\u001b[33mrb\u001b[0m\u001b[33m'\u001b[0m)                      \u001b[31m│\u001b[0m\n",
              "\u001b[31m│\u001b[0m   \u001b[2m1724 \u001b[0m\u001b[2m│   \u001b[0m                                                                                      \u001b[31m│\u001b[0m\n",
              "\u001b[31m│\u001b[0m   \u001b[2m1725 \u001b[0m\u001b[2m│   \u001b[0m\u001b[94mdef\u001b[0m \u001b[92m_get\u001b[0m(\u001b[96mself\u001b[0m, path):                                                                 \u001b[31m│\u001b[0m\n",
              "\u001b[31m│\u001b[0m \u001b[31m❱ \u001b[0m1726 \u001b[2m│   │   \u001b[0m\u001b[94mwith\u001b[0m \u001b[96mopen\u001b[0m(path, \u001b[33m'\u001b[0m\u001b[33mrb\u001b[0m\u001b[33m'\u001b[0m) \u001b[94mas\u001b[0m stream:                                                  \u001b[31m│\u001b[0m\n",
              "\u001b[31m│\u001b[0m   \u001b[2m1727 \u001b[0m\u001b[2m│   │   │   \u001b[0m\u001b[94mreturn\u001b[0m stream.read()                                                          \u001b[31m│\u001b[0m\n",
              "\u001b[31m│\u001b[0m   \u001b[2m1728 \u001b[0m\u001b[2m│   \u001b[0m                                                                                      \u001b[31m│\u001b[0m\n",
              "\u001b[31m│\u001b[0m   \u001b[2m1729 \u001b[0m\u001b[2m│   \u001b[0m\u001b[1;95m@classmethod\u001b[0m                                                                          \u001b[31m│\u001b[0m\n",
              "\u001b[31m╰──────────────────────────────────────────────────────────────────────────────────────────────────╯\u001b[0m\n",
              "\u001b[1;91mFileNotFoundError: \u001b[0m\u001b[1m[\u001b[0mErrno \u001b[1;36m2\u001b[0m\u001b[1m]\u001b[0m No such file or directory: \n",
              "\u001b[32m'/usr/local/lib/python3.10/dist-packages/requests-2.31.0.dist-info/METADATA'\u001b[0m\n"
            ],
            "text/html": [
              "<pre style=\"white-space:pre;overflow-x:auto;line-height:normal;font-family:Menlo,'DejaVu Sans Mono',consolas,'Courier New',monospace\"><span style=\"color: #800000; text-decoration-color: #800000\">╭─────────────────────────────── </span><span style=\"color: #800000; text-decoration-color: #800000; font-weight: bold\">Traceback </span><span style=\"color: #bf7f7f; text-decoration-color: #bf7f7f; font-weight: bold\">(most recent call last)</span><span style=\"color: #800000; text-decoration-color: #800000\"> ────────────────────────────────╮</span>\n",
              "<span style=\"color: #800000; text-decoration-color: #800000\">│</span> <span style=\"color: #bfbf7f; text-decoration-color: #bfbf7f\">/usr/local/lib/python3.10/dist-packages/pkg_resources/</span><span style=\"color: #808000; text-decoration-color: #808000; font-weight: bold\">__init__.py</span>:<span style=\"color: #0000ff; text-decoration-color: #0000ff\">3108</span> in <span style=\"color: #00ff00; text-decoration-color: #00ff00\">_dep_map</span>               <span style=\"color: #800000; text-decoration-color: #800000\">│</span>\n",
              "<span style=\"color: #800000; text-decoration-color: #800000\">│</span>                                                                                                  <span style=\"color: #800000; text-decoration-color: #800000\">│</span>\n",
              "<span style=\"color: #800000; text-decoration-color: #800000\">│</span>   <span style=\"color: #7f7f7f; text-decoration-color: #7f7f7f\">3105 </span><span style=\"color: #7f7f7f; text-decoration-color: #7f7f7f\">│   </span><span style=\"color: #ff00ff; text-decoration-color: #ff00ff; font-weight: bold\">@property</span>                                                                             <span style=\"color: #800000; text-decoration-color: #800000\">│</span>\n",
              "<span style=\"color: #800000; text-decoration-color: #800000\">│</span>   <span style=\"color: #7f7f7f; text-decoration-color: #7f7f7f\">3106 </span><span style=\"color: #7f7f7f; text-decoration-color: #7f7f7f\">│   </span><span style=\"color: #0000ff; text-decoration-color: #0000ff\">def</span> <span style=\"color: #00ff00; text-decoration-color: #00ff00\">_dep_map</span>(<span style=\"color: #00ffff; text-decoration-color: #00ffff\">self</span>):                                                                   <span style=\"color: #800000; text-decoration-color: #800000\">│</span>\n",
              "<span style=\"color: #800000; text-decoration-color: #800000\">│</span>   <span style=\"color: #7f7f7f; text-decoration-color: #7f7f7f\">3107 </span><span style=\"color: #7f7f7f; text-decoration-color: #7f7f7f\">│   │   </span><span style=\"color: #0000ff; text-decoration-color: #0000ff\">try</span>:                                                                              <span style=\"color: #800000; text-decoration-color: #800000\">│</span>\n",
              "<span style=\"color: #800000; text-decoration-color: #800000\">│</span> <span style=\"color: #800000; text-decoration-color: #800000\">❱ </span>3108 <span style=\"color: #7f7f7f; text-decoration-color: #7f7f7f\">│   │   │   </span><span style=\"color: #0000ff; text-decoration-color: #0000ff\">return</span> <span style=\"color: #00ffff; text-decoration-color: #00ffff\">self</span>.__dep_map                                                         <span style=\"color: #800000; text-decoration-color: #800000\">│</span>\n",
              "<span style=\"color: #800000; text-decoration-color: #800000\">│</span>   <span style=\"color: #7f7f7f; text-decoration-color: #7f7f7f\">3109 </span><span style=\"color: #7f7f7f; text-decoration-color: #7f7f7f\">│   │   </span><span style=\"color: #0000ff; text-decoration-color: #0000ff\">except</span> <span style=\"color: #00ffff; text-decoration-color: #00ffff\">AttributeError</span>:                                                            <span style=\"color: #800000; text-decoration-color: #800000\">│</span>\n",
              "<span style=\"color: #800000; text-decoration-color: #800000\">│</span>   <span style=\"color: #7f7f7f; text-decoration-color: #7f7f7f\">3110 </span><span style=\"color: #7f7f7f; text-decoration-color: #7f7f7f\">│   │   │   </span><span style=\"color: #00ffff; text-decoration-color: #00ffff\">self</span>.__dep_map = <span style=\"color: #00ffff; text-decoration-color: #00ffff\">self</span>._compute_dependencies()                                 <span style=\"color: #800000; text-decoration-color: #800000\">│</span>\n",
              "<span style=\"color: #800000; text-decoration-color: #800000\">│</span>   <span style=\"color: #7f7f7f; text-decoration-color: #7f7f7f\">3111 </span><span style=\"color: #7f7f7f; text-decoration-color: #7f7f7f\">│   │   │   </span><span style=\"color: #0000ff; text-decoration-color: #0000ff\">return</span> <span style=\"color: #00ffff; text-decoration-color: #00ffff\">self</span>.__dep_map                                                         <span style=\"color: #800000; text-decoration-color: #800000\">│</span>\n",
              "<span style=\"color: #800000; text-decoration-color: #800000\">│</span>                                                                                                  <span style=\"color: #800000; text-decoration-color: #800000\">│</span>\n",
              "<span style=\"color: #800000; text-decoration-color: #800000\">│</span> <span style=\"color: #bfbf7f; text-decoration-color: #bfbf7f\">/usr/local/lib/python3.10/dist-packages/pkg_resources/</span><span style=\"color: #808000; text-decoration-color: #808000; font-weight: bold\">__init__.py</span>:<span style=\"color: #0000ff; text-decoration-color: #0000ff\">2901</span> in <span style=\"color: #00ff00; text-decoration-color: #00ff00\">__getattr__</span>            <span style=\"color: #800000; text-decoration-color: #800000\">│</span>\n",
              "<span style=\"color: #800000; text-decoration-color: #800000\">│</span>                                                                                                  <span style=\"color: #800000; text-decoration-color: #800000\">│</span>\n",
              "<span style=\"color: #800000; text-decoration-color: #800000\">│</span>   <span style=\"color: #7f7f7f; text-decoration-color: #7f7f7f\">2898 </span><span style=\"color: #7f7f7f; text-decoration-color: #7f7f7f\">│   </span><span style=\"color: #0000ff; text-decoration-color: #0000ff\">def</span> <span style=\"color: #00ff00; text-decoration-color: #00ff00\">__getattr__</span>(<span style=\"color: #00ffff; text-decoration-color: #00ffff\">self</span>, attr):                                                          <span style=\"color: #800000; text-decoration-color: #800000\">│</span>\n",
              "<span style=\"color: #800000; text-decoration-color: #800000\">│</span>   <span style=\"color: #7f7f7f; text-decoration-color: #7f7f7f\">2899 </span><span style=\"color: #bfbfbf; text-decoration-color: #bfbfbf\">│   │   </span><span style=\"color: #808000; text-decoration-color: #808000\">\"\"\"Delegate all unrecognized public attributes to .metadata provider\"\"\"</span>           <span style=\"color: #800000; text-decoration-color: #800000\">│</span>\n",
              "<span style=\"color: #800000; text-decoration-color: #800000\">│</span>   <span style=\"color: #7f7f7f; text-decoration-color: #7f7f7f\">2900 </span><span style=\"color: #7f7f7f; text-decoration-color: #7f7f7f\">│   │   </span><span style=\"color: #0000ff; text-decoration-color: #0000ff\">if</span> attr.startswith(<span style=\"color: #808000; text-decoration-color: #808000\">'_'</span>):                                                          <span style=\"color: #800000; text-decoration-color: #800000\">│</span>\n",
              "<span style=\"color: #800000; text-decoration-color: #800000\">│</span> <span style=\"color: #800000; text-decoration-color: #800000\">❱ </span>2901 <span style=\"color: #7f7f7f; text-decoration-color: #7f7f7f\">│   │   │   </span><span style=\"color: #0000ff; text-decoration-color: #0000ff\">raise</span> <span style=\"color: #00ffff; text-decoration-color: #00ffff\">AttributeError</span>(attr)                                                    <span style=\"color: #800000; text-decoration-color: #800000\">│</span>\n",
              "<span style=\"color: #800000; text-decoration-color: #800000\">│</span>   <span style=\"color: #7f7f7f; text-decoration-color: #7f7f7f\">2902 </span><span style=\"color: #7f7f7f; text-decoration-color: #7f7f7f\">│   │   </span><span style=\"color: #0000ff; text-decoration-color: #0000ff\">return</span> <span style=\"color: #00ffff; text-decoration-color: #00ffff\">getattr</span>(<span style=\"color: #00ffff; text-decoration-color: #00ffff\">self</span>._provider, attr)                                              <span style=\"color: #800000; text-decoration-color: #800000\">│</span>\n",
              "<span style=\"color: #800000; text-decoration-color: #800000\">│</span>   <span style=\"color: #7f7f7f; text-decoration-color: #7f7f7f\">2903 </span><span style=\"color: #7f7f7f; text-decoration-color: #7f7f7f\">│   </span>                                                                                      <span style=\"color: #800000; text-decoration-color: #800000\">│</span>\n",
              "<span style=\"color: #800000; text-decoration-color: #800000\">│</span>   <span style=\"color: #7f7f7f; text-decoration-color: #7f7f7f\">2904 </span><span style=\"color: #7f7f7f; text-decoration-color: #7f7f7f\">│   </span><span style=\"color: #0000ff; text-decoration-color: #0000ff\">def</span> <span style=\"color: #00ff00; text-decoration-color: #00ff00\">__dir__</span>(<span style=\"color: #00ffff; text-decoration-color: #00ffff\">self</span>):                                                                    <span style=\"color: #800000; text-decoration-color: #800000\">│</span>\n",
              "<span style=\"color: #800000; text-decoration-color: #800000\">╰──────────────────────────────────────────────────────────────────────────────────────────────────╯</span>\n",
              "<span style=\"color: #ff0000; text-decoration-color: #ff0000; font-weight: bold\">AttributeError: </span>_DistInfoDistribution__dep_map\n",
              "\n",
              "<span style=\"font-style: italic\">During handling of the above exception, another exception occurred:</span>\n",
              "\n",
              "<span style=\"color: #800000; text-decoration-color: #800000\">╭─────────────────────────────── </span><span style=\"color: #800000; text-decoration-color: #800000; font-weight: bold\">Traceback </span><span style=\"color: #bf7f7f; text-decoration-color: #bf7f7f; font-weight: bold\">(most recent call last)</span><span style=\"color: #800000; text-decoration-color: #800000\"> ────────────────────────────────╮</span>\n",
              "<span style=\"color: #800000; text-decoration-color: #800000\">│</span> <span style=\"color: #bfbf7f; text-decoration-color: #bfbf7f\">/usr/local/lib/python3.10/dist-packages/pkg_resources/</span><span style=\"color: #808000; text-decoration-color: #808000; font-weight: bold\">__init__.py</span>:<span style=\"color: #0000ff; text-decoration-color: #0000ff\">3099</span> in <span style=\"color: #00ff00; text-decoration-color: #00ff00\">_parsed_pkg_info</span>       <span style=\"color: #800000; text-decoration-color: #800000\">│</span>\n",
              "<span style=\"color: #800000; text-decoration-color: #800000\">│</span>                                                                                                  <span style=\"color: #800000; text-decoration-color: #800000\">│</span>\n",
              "<span style=\"color: #800000; text-decoration-color: #800000\">│</span>   <span style=\"color: #7f7f7f; text-decoration-color: #7f7f7f\">3096 </span><span style=\"color: #7f7f7f; text-decoration-color: #7f7f7f\">│   </span><span style=\"color: #0000ff; text-decoration-color: #0000ff\">def</span> <span style=\"color: #00ff00; text-decoration-color: #00ff00\">_parsed_pkg_info</span>(<span style=\"color: #00ffff; text-decoration-color: #00ffff\">self</span>):                                                           <span style=\"color: #800000; text-decoration-color: #800000\">│</span>\n",
              "<span style=\"color: #800000; text-decoration-color: #800000\">│</span>   <span style=\"color: #7f7f7f; text-decoration-color: #7f7f7f\">3097 </span><span style=\"color: #bfbfbf; text-decoration-color: #bfbfbf\">│   │   </span><span style=\"color: #808000; text-decoration-color: #808000\">\"\"\"Parse and cache metadata\"\"\"</span>                                                    <span style=\"color: #800000; text-decoration-color: #800000\">│</span>\n",
              "<span style=\"color: #800000; text-decoration-color: #800000\">│</span>   <span style=\"color: #7f7f7f; text-decoration-color: #7f7f7f\">3098 </span><span style=\"color: #7f7f7f; text-decoration-color: #7f7f7f\">│   │   </span><span style=\"color: #0000ff; text-decoration-color: #0000ff\">try</span>:                                                                              <span style=\"color: #800000; text-decoration-color: #800000\">│</span>\n",
              "<span style=\"color: #800000; text-decoration-color: #800000\">│</span> <span style=\"color: #800000; text-decoration-color: #800000\">❱ </span>3099 <span style=\"color: #7f7f7f; text-decoration-color: #7f7f7f\">│   │   │   </span><span style=\"color: #0000ff; text-decoration-color: #0000ff\">return</span> <span style=\"color: #00ffff; text-decoration-color: #00ffff\">self</span>._pkg_info                                                         <span style=\"color: #800000; text-decoration-color: #800000\">│</span>\n",
              "<span style=\"color: #800000; text-decoration-color: #800000\">│</span>   <span style=\"color: #7f7f7f; text-decoration-color: #7f7f7f\">3100 </span><span style=\"color: #7f7f7f; text-decoration-color: #7f7f7f\">│   │   </span><span style=\"color: #0000ff; text-decoration-color: #0000ff\">except</span> <span style=\"color: #00ffff; text-decoration-color: #00ffff\">AttributeError</span>:                                                            <span style=\"color: #800000; text-decoration-color: #800000\">│</span>\n",
              "<span style=\"color: #800000; text-decoration-color: #800000\">│</span>   <span style=\"color: #7f7f7f; text-decoration-color: #7f7f7f\">3101 </span><span style=\"color: #7f7f7f; text-decoration-color: #7f7f7f\">│   │   │   </span>metadata = <span style=\"color: #00ffff; text-decoration-color: #00ffff\">self</span>.get_metadata(<span style=\"color: #00ffff; text-decoration-color: #00ffff\">self</span>.PKG_INFO)                                   <span style=\"color: #800000; text-decoration-color: #800000\">│</span>\n",
              "<span style=\"color: #800000; text-decoration-color: #800000\">│</span>   <span style=\"color: #7f7f7f; text-decoration-color: #7f7f7f\">3102 </span><span style=\"color: #7f7f7f; text-decoration-color: #7f7f7f\">│   │   │   </span><span style=\"color: #00ffff; text-decoration-color: #00ffff\">self</span>._pkg_info = email.parser.Parser().parsestr(metadata)                     <span style=\"color: #800000; text-decoration-color: #800000\">│</span>\n",
              "<span style=\"color: #800000; text-decoration-color: #800000\">│</span>                                                                                                  <span style=\"color: #800000; text-decoration-color: #800000\">│</span>\n",
              "<span style=\"color: #800000; text-decoration-color: #800000\">│</span> <span style=\"color: #bfbf7f; text-decoration-color: #bfbf7f\">/usr/local/lib/python3.10/dist-packages/pkg_resources/</span><span style=\"color: #808000; text-decoration-color: #808000; font-weight: bold\">__init__.py</span>:<span style=\"color: #0000ff; text-decoration-color: #0000ff\">2901</span> in <span style=\"color: #00ff00; text-decoration-color: #00ff00\">__getattr__</span>            <span style=\"color: #800000; text-decoration-color: #800000\">│</span>\n",
              "<span style=\"color: #800000; text-decoration-color: #800000\">│</span>                                                                                                  <span style=\"color: #800000; text-decoration-color: #800000\">│</span>\n",
              "<span style=\"color: #800000; text-decoration-color: #800000\">│</span>   <span style=\"color: #7f7f7f; text-decoration-color: #7f7f7f\">2898 </span><span style=\"color: #7f7f7f; text-decoration-color: #7f7f7f\">│   </span><span style=\"color: #0000ff; text-decoration-color: #0000ff\">def</span> <span style=\"color: #00ff00; text-decoration-color: #00ff00\">__getattr__</span>(<span style=\"color: #00ffff; text-decoration-color: #00ffff\">self</span>, attr):                                                          <span style=\"color: #800000; text-decoration-color: #800000\">│</span>\n",
              "<span style=\"color: #800000; text-decoration-color: #800000\">│</span>   <span style=\"color: #7f7f7f; text-decoration-color: #7f7f7f\">2899 </span><span style=\"color: #bfbfbf; text-decoration-color: #bfbfbf\">│   │   </span><span style=\"color: #808000; text-decoration-color: #808000\">\"\"\"Delegate all unrecognized public attributes to .metadata provider\"\"\"</span>           <span style=\"color: #800000; text-decoration-color: #800000\">│</span>\n",
              "<span style=\"color: #800000; text-decoration-color: #800000\">│</span>   <span style=\"color: #7f7f7f; text-decoration-color: #7f7f7f\">2900 </span><span style=\"color: #7f7f7f; text-decoration-color: #7f7f7f\">│   │   </span><span style=\"color: #0000ff; text-decoration-color: #0000ff\">if</span> attr.startswith(<span style=\"color: #808000; text-decoration-color: #808000\">'_'</span>):                                                          <span style=\"color: #800000; text-decoration-color: #800000\">│</span>\n",
              "<span style=\"color: #800000; text-decoration-color: #800000\">│</span> <span style=\"color: #800000; text-decoration-color: #800000\">❱ </span>2901 <span style=\"color: #7f7f7f; text-decoration-color: #7f7f7f\">│   │   │   </span><span style=\"color: #0000ff; text-decoration-color: #0000ff\">raise</span> <span style=\"color: #00ffff; text-decoration-color: #00ffff\">AttributeError</span>(attr)                                                    <span style=\"color: #800000; text-decoration-color: #800000\">│</span>\n",
              "<span style=\"color: #800000; text-decoration-color: #800000\">│</span>   <span style=\"color: #7f7f7f; text-decoration-color: #7f7f7f\">2902 </span><span style=\"color: #7f7f7f; text-decoration-color: #7f7f7f\">│   │   </span><span style=\"color: #0000ff; text-decoration-color: #0000ff\">return</span> <span style=\"color: #00ffff; text-decoration-color: #00ffff\">getattr</span>(<span style=\"color: #00ffff; text-decoration-color: #00ffff\">self</span>._provider, attr)                                              <span style=\"color: #800000; text-decoration-color: #800000\">│</span>\n",
              "<span style=\"color: #800000; text-decoration-color: #800000\">│</span>   <span style=\"color: #7f7f7f; text-decoration-color: #7f7f7f\">2903 </span><span style=\"color: #7f7f7f; text-decoration-color: #7f7f7f\">│   </span>                                                                                      <span style=\"color: #800000; text-decoration-color: #800000\">│</span>\n",
              "<span style=\"color: #800000; text-decoration-color: #800000\">│</span>   <span style=\"color: #7f7f7f; text-decoration-color: #7f7f7f\">2904 </span><span style=\"color: #7f7f7f; text-decoration-color: #7f7f7f\">│   </span><span style=\"color: #0000ff; text-decoration-color: #0000ff\">def</span> <span style=\"color: #00ff00; text-decoration-color: #00ff00\">__dir__</span>(<span style=\"color: #00ffff; text-decoration-color: #00ffff\">self</span>):                                                                    <span style=\"color: #800000; text-decoration-color: #800000\">│</span>\n",
              "<span style=\"color: #800000; text-decoration-color: #800000\">╰──────────────────────────────────────────────────────────────────────────────────────────────────╯</span>\n",
              "<span style=\"color: #ff0000; text-decoration-color: #ff0000; font-weight: bold\">AttributeError: </span>_pkg_info\n",
              "\n",
              "<span style=\"font-style: italic\">During handling of the above exception, another exception occurred:</span>\n",
              "\n",
              "<span style=\"color: #800000; text-decoration-color: #800000\">╭─────────────────────────────── </span><span style=\"color: #800000; text-decoration-color: #800000; font-weight: bold\">Traceback </span><span style=\"color: #bf7f7f; text-decoration-color: #bf7f7f; font-weight: bold\">(most recent call last)</span><span style=\"color: #800000; text-decoration-color: #800000\"> ────────────────────────────────╮</span>\n",
              "<span style=\"color: #800000; text-decoration-color: #800000\">│</span> in <span style=\"color: #00ff00; text-decoration-color: #00ff00\">&lt;cell line: 1&gt;</span>:<span style=\"color: #0000ff; text-decoration-color: #0000ff\">1</span>                                                                              <span style=\"color: #800000; text-decoration-color: #800000\">│</span>\n",
              "<span style=\"color: #800000; text-decoration-color: #800000\">│</span>                                                                                                  <span style=\"color: #800000; text-decoration-color: #800000\">│</span>\n",
              "<span style=\"color: #800000; text-decoration-color: #800000\">│</span> <span style=\"color: #bfbf7f; text-decoration-color: #bfbf7f\">/usr/local/lib/python3.10/dist-packages/lamini/runners/</span><span style=\"color: #808000; text-decoration-color: #808000; font-weight: bold\">base_runner.py</span>:<span style=\"color: #0000ff; text-decoration-color: #0000ff\">64</span> in <span style=\"color: #00ff00; text-decoration-color: #00ff00\">call</span>                 <span style=\"color: #800000; text-decoration-color: #800000\">│</span>\n",
              "<span style=\"color: #800000; text-decoration-color: #800000\">│</span>                                                                                                  <span style=\"color: #800000; text-decoration-color: #800000\">│</span>\n",
              "<span style=\"color: #800000; text-decoration-color: #800000\">│</span>   <span style=\"color: #7f7f7f; text-decoration-color: #7f7f7f\"> 61 </span><span style=\"color: #7f7f7f; text-decoration-color: #7f7f7f\">│   </span>):                                                                                     <span style=\"color: #800000; text-decoration-color: #800000\">│</span>\n",
              "<span style=\"color: #800000; text-decoration-color: #800000\">│</span>   <span style=\"color: #7f7f7f; text-decoration-color: #7f7f7f\"> 62 </span><span style=\"color: #7f7f7f; text-decoration-color: #7f7f7f\">│   │   </span>input_objects = <span style=\"color: #00ffff; text-decoration-color: #00ffff\">self</span>.create_final_prompts(prompt, system_prompt)                   <span style=\"color: #800000; text-decoration-color: #800000\">│</span>\n",
              "<span style=\"color: #800000; text-decoration-color: #800000\">│</span>   <span style=\"color: #7f7f7f; text-decoration-color: #7f7f7f\"> 63 </span><span style=\"color: #7f7f7f; text-decoration-color: #7f7f7f\">│   │   </span>                                                                                   <span style=\"color: #800000; text-decoration-color: #800000\">│</span>\n",
              "<span style=\"color: #800000; text-decoration-color: #800000\">│</span> <span style=\"color: #800000; text-decoration-color: #800000\">❱ </span> 64 <span style=\"color: #7f7f7f; text-decoration-color: #7f7f7f\">│   │   </span><span style=\"color: #0000ff; text-decoration-color: #0000ff\">return</span> <span style=\"color: #00ffff; text-decoration-color: #00ffff\">self</span>.lamini_api.generate(                                                   <span style=\"color: #800000; text-decoration-color: #800000\">│</span>\n",
              "<span style=\"color: #800000; text-decoration-color: #800000\">│</span>   <span style=\"color: #7f7f7f; text-decoration-color: #7f7f7f\"> 65 </span><span style=\"color: #7f7f7f; text-decoration-color: #7f7f7f\">│   │   │   </span>prompt=input_objects,                                                          <span style=\"color: #800000; text-decoration-color: #800000\">│</span>\n",
              "<span style=\"color: #800000; text-decoration-color: #800000\">│</span>   <span style=\"color: #7f7f7f; text-decoration-color: #7f7f7f\"> 66 </span><span style=\"color: #7f7f7f; text-decoration-color: #7f7f7f\">│   │   │   </span>model_name=<span style=\"color: #00ffff; text-decoration-color: #00ffff\">self</span>.model_name,                                                    <span style=\"color: #800000; text-decoration-color: #800000\">│</span>\n",
              "<span style=\"color: #800000; text-decoration-color: #800000\">│</span>   <span style=\"color: #7f7f7f; text-decoration-color: #7f7f7f\"> 67 </span><span style=\"color: #7f7f7f; text-decoration-color: #7f7f7f\">│   │   │   </span>max_tokens=max_tokens,                                                         <span style=\"color: #800000; text-decoration-color: #800000\">│</span>\n",
              "<span style=\"color: #800000; text-decoration-color: #800000\">│</span>                                                                                                  <span style=\"color: #800000; text-decoration-color: #800000\">│</span>\n",
              "<span style=\"color: #800000; text-decoration-color: #800000\">│</span> <span style=\"color: #bfbf7f; text-decoration-color: #bfbf7f\">/usr/local/lib/python3.10/dist-packages/lamini/api/</span><span style=\"color: #808000; text-decoration-color: #808000; font-weight: bold\">lamini.py</span>:<span style=\"color: #0000ff; text-decoration-color: #0000ff\">77</span> in <span style=\"color: #00ff00; text-decoration-color: #00ff00\">generate</span>                      <span style=\"color: #800000; text-decoration-color: #800000\">│</span>\n",
              "<span style=\"color: #800000; text-decoration-color: #800000\">│</span>                                                                                                  <span style=\"color: #800000; text-decoration-color: #800000\">│</span>\n",
              "<span style=\"color: #800000; text-decoration-color: #800000\">│</span>   <span style=\"color: #7f7f7f; text-decoration-color: #7f7f7f\"> 74 </span><span style=\"color: #7f7f7f; text-decoration-color: #7f7f7f\">│   │   │   │   </span>max_tokens=max_tokens,                                                     <span style=\"color: #800000; text-decoration-color: #800000\">│</span>\n",
              "<span style=\"color: #800000; text-decoration-color: #800000\">│</span>   <span style=\"color: #7f7f7f; text-decoration-color: #7f7f7f\"> 75 </span><span style=\"color: #7f7f7f; text-decoration-color: #7f7f7f\">│   │   │   │   </span>max_new_tokens=max_new_tokens,                                             <span style=\"color: #800000; text-decoration-color: #800000\">│</span>\n",
              "<span style=\"color: #800000; text-decoration-color: #800000\">│</span>   <span style=\"color: #7f7f7f; text-decoration-color: #7f7f7f\"> 76 </span><span style=\"color: #7f7f7f; text-decoration-color: #7f7f7f\">│   │   │   </span>)                                                                              <span style=\"color: #800000; text-decoration-color: #800000\">│</span>\n",
              "<span style=\"color: #800000; text-decoration-color: #800000\">│</span> <span style=\"color: #800000; text-decoration-color: #800000\">❱ </span> 77 <span style=\"color: #7f7f7f; text-decoration-color: #7f7f7f\">│   │   │   </span>result = <span style=\"color: #00ffff; text-decoration-color: #00ffff\">self</span>.completion.generate(req_data)                                    <span style=\"color: #800000; text-decoration-color: #800000\">│</span>\n",
              "<span style=\"color: #800000; text-decoration-color: #800000\">│</span>   <span style=\"color: #7f7f7f; text-decoration-color: #7f7f7f\"> 78 </span><span style=\"color: #7f7f7f; text-decoration-color: #7f7f7f\">│   │   │   </span><span style=\"color: #0000ff; text-decoration-color: #0000ff\">if</span> output_type <span style=\"color: #ff00ff; text-decoration-color: #ff00ff\">is</span> <span style=\"color: #0000ff; text-decoration-color: #0000ff\">None</span>:                                                        <span style=\"color: #800000; text-decoration-color: #800000\">│</span>\n",
              "<span style=\"color: #800000; text-decoration-color: #800000\">│</span>   <span style=\"color: #7f7f7f; text-decoration-color: #7f7f7f\"> 79 </span><span style=\"color: #7f7f7f; text-decoration-color: #7f7f7f\">│   │   │   │   </span><span style=\"color: #0000ff; text-decoration-color: #0000ff\">if</span> <span style=\"color: #00ffff; text-decoration-color: #00ffff\">isinstance</span>(prompt, <span style=\"color: #00ffff; text-decoration-color: #00ffff\">list</span>) <span style=\"color: #ff00ff; text-decoration-color: #ff00ff\">and</span> <span style=\"color: #00ffff; text-decoration-color: #00ffff\">len</span>(prompt) == <span style=\"color: #0000ff; text-decoration-color: #0000ff\">1</span>:                          <span style=\"color: #800000; text-decoration-color: #800000\">│</span>\n",
              "<span style=\"color: #800000; text-decoration-color: #800000\">│</span>   <span style=\"color: #7f7f7f; text-decoration-color: #7f7f7f\"> 80 </span><span style=\"color: #7f7f7f; text-decoration-color: #7f7f7f\">│   │   │   │   │   </span>result = [single_result[<span style=\"color: #808000; text-decoration-color: #808000\">\"output\"</span>] <span style=\"color: #0000ff; text-decoration-color: #0000ff\">for</span> single_result <span style=\"color: #ff00ff; text-decoration-color: #ff00ff\">in</span> result]         <span style=\"color: #800000; text-decoration-color: #800000\">│</span>\n",
              "<span style=\"color: #800000; text-decoration-color: #800000\">│</span>                                                                                                  <span style=\"color: #800000; text-decoration-color: #800000\">│</span>\n",
              "<span style=\"color: #800000; text-decoration-color: #800000\">│</span> <span style=\"color: #bfbf7f; text-decoration-color: #bfbf7f\">/usr/local/lib/python3.10/dist-packages/lamini/api/utils/</span><span style=\"color: #808000; text-decoration-color: #808000; font-weight: bold\">completion.py</span>:<span style=\"color: #0000ff; text-decoration-color: #0000ff\">15</span> in <span style=\"color: #00ff00; text-decoration-color: #00ff00\">generate</span>            <span style=\"color: #800000; text-decoration-color: #800000\">│</span>\n",
              "<span style=\"color: #800000; text-decoration-color: #800000\">│</span>                                                                                                  <span style=\"color: #800000; text-decoration-color: #800000\">│</span>\n",
              "<span style=\"color: #800000; text-decoration-color: #800000\">│</span>   <span style=\"color: #7f7f7f; text-decoration-color: #7f7f7f\">12 </span><span style=\"color: #7f7f7f; text-decoration-color: #7f7f7f\">│   │   </span><span style=\"color: #00ffff; text-decoration-color: #00ffff\">self</span>.api_prefix = <span style=\"color: #00ffff; text-decoration-color: #00ffff\">self</span>.api_url + <span style=\"color: #808000; text-decoration-color: #808000\">\"/v1/\"</span>                                             <span style=\"color: #800000; text-decoration-color: #800000\">│</span>\n",
              "<span style=\"color: #800000; text-decoration-color: #800000\">│</span>   <span style=\"color: #7f7f7f; text-decoration-color: #7f7f7f\">13 </span><span style=\"color: #7f7f7f; text-decoration-color: #7f7f7f\">│   </span>                                                                                        <span style=\"color: #800000; text-decoration-color: #800000\">│</span>\n",
              "<span style=\"color: #800000; text-decoration-color: #800000\">│</span>   <span style=\"color: #7f7f7f; text-decoration-color: #7f7f7f\">14 </span><span style=\"color: #7f7f7f; text-decoration-color: #7f7f7f\">│   </span><span style=\"color: #0000ff; text-decoration-color: #0000ff\">def</span> <span style=\"color: #00ff00; text-decoration-color: #00ff00\">generate</span>(<span style=\"color: #00ffff; text-decoration-color: #00ffff\">self</span>, params):                                                             <span style=\"color: #800000; text-decoration-color: #800000\">│</span>\n",
              "<span style=\"color: #800000; text-decoration-color: #800000\">│</span> <span style=\"color: #800000; text-decoration-color: #800000\">❱ </span>15 <span style=\"color: #7f7f7f; text-decoration-color: #7f7f7f\">│   │   </span>resp = make_web_request(                                                            <span style=\"color: #800000; text-decoration-color: #800000\">│</span>\n",
              "<span style=\"color: #800000; text-decoration-color: #800000\">│</span>   <span style=\"color: #7f7f7f; text-decoration-color: #7f7f7f\">16 </span><span style=\"color: #7f7f7f; text-decoration-color: #7f7f7f\">│   │   │   </span><span style=\"color: #00ffff; text-decoration-color: #00ffff\">self</span>.api_key, <span style=\"color: #00ffff; text-decoration-color: #00ffff\">self</span>.api_prefix + <span style=\"color: #808000; text-decoration-color: #808000\">\"completions\"</span>, <span style=\"color: #808000; text-decoration-color: #808000\">\"post\"</span>, params                   <span style=\"color: #800000; text-decoration-color: #800000\">│</span>\n",
              "<span style=\"color: #800000; text-decoration-color: #800000\">│</span>   <span style=\"color: #7f7f7f; text-decoration-color: #7f7f7f\">17 </span><span style=\"color: #7f7f7f; text-decoration-color: #7f7f7f\">│   │   </span>)                                                                                   <span style=\"color: #800000; text-decoration-color: #800000\">│</span>\n",
              "<span style=\"color: #800000; text-decoration-color: #800000\">│</span>   <span style=\"color: #7f7f7f; text-decoration-color: #7f7f7f\">18 </span><span style=\"color: #7f7f7f; text-decoration-color: #7f7f7f\">│   │   </span><span style=\"color: #0000ff; text-decoration-color: #0000ff\">return</span> resp                                                                         <span style=\"color: #800000; text-decoration-color: #800000\">│</span>\n",
              "<span style=\"color: #800000; text-decoration-color: #800000\">│</span>                                                                                                  <span style=\"color: #800000; text-decoration-color: #800000\">│</span>\n",
              "<span style=\"color: #800000; text-decoration-color: #800000\">│</span> <span style=\"color: #bfbf7f; text-decoration-color: #bfbf7f\">/usr/local/lib/python3.10/dist-packages/lamini/api/</span><span style=\"color: #808000; text-decoration-color: #808000; font-weight: bold\">rest_requests.py</span>:<span style=\"color: #0000ff; text-decoration-color: #0000ff\">145</span> in <span style=\"color: #00ff00; text-decoration-color: #00ff00\">make_web_request</span>      <span style=\"color: #800000; text-decoration-color: #800000\">│</span>\n",
              "<span style=\"color: #800000; text-decoration-color: #800000\">│</span>                                                                                                  <span style=\"color: #800000; text-decoration-color: #800000\">│</span>\n",
              "<span style=\"color: #800000; text-decoration-color: #800000\">│</span>   <span style=\"color: #7f7f7f; text-decoration-color: #7f7f7f\">142 </span><span style=\"color: #7f7f7f; text-decoration-color: #7f7f7f\">│   </span>headers = {                                                                            <span style=\"color: #800000; text-decoration-color: #800000\">│</span>\n",
              "<span style=\"color: #800000; text-decoration-color: #800000\">│</span>   <span style=\"color: #7f7f7f; text-decoration-color: #7f7f7f\">143 </span><span style=\"color: #7f7f7f; text-decoration-color: #7f7f7f\">│   │   </span><span style=\"color: #808000; text-decoration-color: #808000\">\"Content-Type\"</span>: <span style=\"color: #808000; text-decoration-color: #808000\">\"application/json\"</span>,                                                <span style=\"color: #800000; text-decoration-color: #800000\">│</span>\n",
              "<span style=\"color: #800000; text-decoration-color: #800000\">│</span>   <span style=\"color: #7f7f7f; text-decoration-color: #7f7f7f\">144 </span><span style=\"color: #7f7f7f; text-decoration-color: #7f7f7f\">│   │   </span><span style=\"color: #808000; text-decoration-color: #808000\">\"Authorization\"</span>: <span style=\"color: #808000; text-decoration-color: #808000\">\"Bearer \"</span> + key,                                                  <span style=\"color: #800000; text-decoration-color: #800000\">│</span>\n",
              "<span style=\"color: #800000; text-decoration-color: #800000\">│</span> <span style=\"color: #800000; text-decoration-color: #800000\">❱ </span>145 <span style=\"color: #7f7f7f; text-decoration-color: #7f7f7f\">│   │   </span><span style=\"color: #808000; text-decoration-color: #808000\">\"Lamini-Version\"</span>: pkg_resources.get_distribution(<span style=\"color: #808000; text-decoration-color: #808000\">'lamini'</span>).version                 <span style=\"color: #800000; text-decoration-color: #800000\">│</span>\n",
              "<span style=\"color: #800000; text-decoration-color: #800000\">│</span>   <span style=\"color: #7f7f7f; text-decoration-color: #7f7f7f\">146 </span><span style=\"color: #7f7f7f; text-decoration-color: #7f7f7f\">│   </span>}                                                                                      <span style=\"color: #800000; text-decoration-color: #800000\">│</span>\n",
              "<span style=\"color: #800000; text-decoration-color: #800000\">│</span>   <span style=\"color: #7f7f7f; text-decoration-color: #7f7f7f\">147 </span><span style=\"color: #7f7f7f; text-decoration-color: #7f7f7f\">│   </span><span style=\"color: #0000ff; text-decoration-color: #0000ff\">if</span> http_method == <span style=\"color: #808000; text-decoration-color: #808000\">\"post\"</span>:                                                              <span style=\"color: #800000; text-decoration-color: #800000\">│</span>\n",
              "<span style=\"color: #800000; text-decoration-color: #800000\">│</span>   <span style=\"color: #7f7f7f; text-decoration-color: #7f7f7f\">148 </span><span style=\"color: #7f7f7f; text-decoration-color: #7f7f7f\">│   │   </span>resp = requests.post(url=url, headers=headers, json=json)                          <span style=\"color: #800000; text-decoration-color: #800000\">│</span>\n",
              "<span style=\"color: #800000; text-decoration-color: #800000\">│</span>                                                                                                  <span style=\"color: #800000; text-decoration-color: #800000\">│</span>\n",
              "<span style=\"color: #800000; text-decoration-color: #800000\">│</span> <span style=\"color: #bfbf7f; text-decoration-color: #bfbf7f\">/usr/local/lib/python3.10/dist-packages/pkg_resources/</span><span style=\"color: #808000; text-decoration-color: #808000; font-weight: bold\">__init__.py</span>:<span style=\"color: #0000ff; text-decoration-color: #0000ff\">526</span> in <span style=\"color: #00ff00; text-decoration-color: #00ff00\">get_distribution</span>        <span style=\"color: #800000; text-decoration-color: #800000\">│</span>\n",
              "<span style=\"color: #800000; text-decoration-color: #800000\">│</span>                                                                                                  <span style=\"color: #800000; text-decoration-color: #800000\">│</span>\n",
              "<span style=\"color: #800000; text-decoration-color: #800000\">│</span>   <span style=\"color: #7f7f7f; text-decoration-color: #7f7f7f\"> 523 </span><span style=\"color: #7f7f7f; text-decoration-color: #7f7f7f\">│   </span><span style=\"color: #0000ff; text-decoration-color: #0000ff\">if</span> <span style=\"color: #00ffff; text-decoration-color: #00ffff\">isinstance</span>(dist, <span style=\"color: #00ffff; text-decoration-color: #00ffff\">str</span>):                                                             <span style=\"color: #800000; text-decoration-color: #800000\">│</span>\n",
              "<span style=\"color: #800000; text-decoration-color: #800000\">│</span>   <span style=\"color: #7f7f7f; text-decoration-color: #7f7f7f\"> 524 </span><span style=\"color: #7f7f7f; text-decoration-color: #7f7f7f\">│   │   </span>dist = Requirement.parse(dist)                                                    <span style=\"color: #800000; text-decoration-color: #800000\">│</span>\n",
              "<span style=\"color: #800000; text-decoration-color: #800000\">│</span>   <span style=\"color: #7f7f7f; text-decoration-color: #7f7f7f\"> 525 </span><span style=\"color: #7f7f7f; text-decoration-color: #7f7f7f\">│   </span><span style=\"color: #0000ff; text-decoration-color: #0000ff\">if</span> <span style=\"color: #00ffff; text-decoration-color: #00ffff\">isinstance</span>(dist, Requirement):                                                     <span style=\"color: #800000; text-decoration-color: #800000\">│</span>\n",
              "<span style=\"color: #800000; text-decoration-color: #800000\">│</span> <span style=\"color: #800000; text-decoration-color: #800000\">❱ </span> 526 <span style=\"color: #7f7f7f; text-decoration-color: #7f7f7f\">│   │   </span>dist = get_provider(dist)                                                         <span style=\"color: #800000; text-decoration-color: #800000\">│</span>\n",
              "<span style=\"color: #800000; text-decoration-color: #800000\">│</span>   <span style=\"color: #7f7f7f; text-decoration-color: #7f7f7f\"> 527 </span><span style=\"color: #7f7f7f; text-decoration-color: #7f7f7f\">│   </span><span style=\"color: #0000ff; text-decoration-color: #0000ff\">if</span> <span style=\"color: #ff00ff; text-decoration-color: #ff00ff\">not</span> <span style=\"color: #00ffff; text-decoration-color: #00ffff\">isinstance</span>(dist, Distribution):                                                <span style=\"color: #800000; text-decoration-color: #800000\">│</span>\n",
              "<span style=\"color: #800000; text-decoration-color: #800000\">│</span>   <span style=\"color: #7f7f7f; text-decoration-color: #7f7f7f\"> 528 </span><span style=\"color: #7f7f7f; text-decoration-color: #7f7f7f\">│   │   </span><span style=\"color: #0000ff; text-decoration-color: #0000ff\">raise</span> <span style=\"color: #00ffff; text-decoration-color: #00ffff\">TypeError</span>(<span style=\"color: #808000; text-decoration-color: #808000\">\"Expected string, Requirement, or Distribution\"</span>, dist)            <span style=\"color: #800000; text-decoration-color: #800000\">│</span>\n",
              "<span style=\"color: #800000; text-decoration-color: #800000\">│</span>   <span style=\"color: #7f7f7f; text-decoration-color: #7f7f7f\"> 529 </span><span style=\"color: #7f7f7f; text-decoration-color: #7f7f7f\">│   </span><span style=\"color: #0000ff; text-decoration-color: #0000ff\">return</span> dist                                                                           <span style=\"color: #800000; text-decoration-color: #800000\">│</span>\n",
              "<span style=\"color: #800000; text-decoration-color: #800000\">│</span>                                                                                                  <span style=\"color: #800000; text-decoration-color: #800000\">│</span>\n",
              "<span style=\"color: #800000; text-decoration-color: #800000\">│</span> <span style=\"color: #bfbf7f; text-decoration-color: #bfbf7f\">/usr/local/lib/python3.10/dist-packages/pkg_resources/</span><span style=\"color: #808000; text-decoration-color: #808000; font-weight: bold\">__init__.py</span>:<span style=\"color: #0000ff; text-decoration-color: #0000ff\">398</span> in <span style=\"color: #00ff00; text-decoration-color: #00ff00\">get_provider</span>            <span style=\"color: #800000; text-decoration-color: #800000\">│</span>\n",
              "<span style=\"color: #800000; text-decoration-color: #800000\">│</span>                                                                                                  <span style=\"color: #800000; text-decoration-color: #800000\">│</span>\n",
              "<span style=\"color: #800000; text-decoration-color: #800000\">│</span>   <span style=\"color: #7f7f7f; text-decoration-color: #7f7f7f\"> 395 </span><span style=\"color: #0000ff; text-decoration-color: #0000ff\">def</span> <span style=\"color: #00ff00; text-decoration-color: #00ff00\">get_provider</span>(moduleOrReq):                                                            <span style=\"color: #800000; text-decoration-color: #800000\">│</span>\n",
              "<span style=\"color: #800000; text-decoration-color: #800000\">│</span>   <span style=\"color: #7f7f7f; text-decoration-color: #7f7f7f\"> 396 </span><span style=\"color: #bfbfbf; text-decoration-color: #bfbfbf\">│   </span><span style=\"color: #808000; text-decoration-color: #808000\">\"\"\"Return an IResourceProvider for the named module or requirement\"\"\"</span>                 <span style=\"color: #800000; text-decoration-color: #800000\">│</span>\n",
              "<span style=\"color: #800000; text-decoration-color: #800000\">│</span>   <span style=\"color: #7f7f7f; text-decoration-color: #7f7f7f\"> 397 </span><span style=\"color: #7f7f7f; text-decoration-color: #7f7f7f\">│   </span><span style=\"color: #0000ff; text-decoration-color: #0000ff\">if</span> <span style=\"color: #00ffff; text-decoration-color: #00ffff\">isinstance</span>(moduleOrReq, Requirement):                                              <span style=\"color: #800000; text-decoration-color: #800000\">│</span>\n",
              "<span style=\"color: #800000; text-decoration-color: #800000\">│</span> <span style=\"color: #800000; text-decoration-color: #800000\">❱ </span> 398 <span style=\"color: #7f7f7f; text-decoration-color: #7f7f7f\">│   │   </span><span style=\"color: #0000ff; text-decoration-color: #0000ff\">return</span> working_set.find(moduleOrReq) <span style=\"color: #ff00ff; text-decoration-color: #ff00ff\">or</span> require(<span style=\"color: #00ffff; text-decoration-color: #00ffff\">str</span>(moduleOrReq))[<span style=\"color: #0000ff; text-decoration-color: #0000ff\">0</span>]              <span style=\"color: #800000; text-decoration-color: #800000\">│</span>\n",
              "<span style=\"color: #800000; text-decoration-color: #800000\">│</span>   <span style=\"color: #7f7f7f; text-decoration-color: #7f7f7f\"> 399 </span><span style=\"color: #7f7f7f; text-decoration-color: #7f7f7f\">│   </span><span style=\"color: #0000ff; text-decoration-color: #0000ff\">try</span>:                                                                                  <span style=\"color: #800000; text-decoration-color: #800000\">│</span>\n",
              "<span style=\"color: #800000; text-decoration-color: #800000\">│</span>   <span style=\"color: #7f7f7f; text-decoration-color: #7f7f7f\"> 400 </span><span style=\"color: #7f7f7f; text-decoration-color: #7f7f7f\">│   │   </span>module = sys.modules[moduleOrReq]                                                 <span style=\"color: #800000; text-decoration-color: #800000\">│</span>\n",
              "<span style=\"color: #800000; text-decoration-color: #800000\">│</span>   <span style=\"color: #7f7f7f; text-decoration-color: #7f7f7f\"> 401 </span><span style=\"color: #7f7f7f; text-decoration-color: #7f7f7f\">│   </span><span style=\"color: #0000ff; text-decoration-color: #0000ff\">except</span> <span style=\"color: #00ffff; text-decoration-color: #00ffff\">KeyError</span>:                                                                      <span style=\"color: #800000; text-decoration-color: #800000\">│</span>\n",
              "<span style=\"color: #800000; text-decoration-color: #800000\">│</span>                                                                                                  <span style=\"color: #800000; text-decoration-color: #800000\">│</span>\n",
              "<span style=\"color: #800000; text-decoration-color: #800000\">│</span> <span style=\"color: #bfbf7f; text-decoration-color: #bfbf7f\">/usr/local/lib/python3.10/dist-packages/pkg_resources/</span><span style=\"color: #808000; text-decoration-color: #808000; font-weight: bold\">__init__.py</span>:<span style=\"color: #0000ff; text-decoration-color: #0000ff\">966</span> in <span style=\"color: #00ff00; text-decoration-color: #00ff00\">require</span>                 <span style=\"color: #800000; text-decoration-color: #800000\">│</span>\n",
              "<span style=\"color: #800000; text-decoration-color: #800000\">│</span>                                                                                                  <span style=\"color: #800000; text-decoration-color: #800000\">│</span>\n",
              "<span style=\"color: #800000; text-decoration-color: #800000\">│</span>   <span style=\"color: #7f7f7f; text-decoration-color: #7f7f7f\"> 963 </span><span style=\"color: #bfbf7f; text-decoration-color: #bfbf7f\">│   │   </span><span style=\"color: #808000; text-decoration-color: #808000\">activated to fulfill the requirements; all relevant distributions are</span>             <span style=\"color: #800000; text-decoration-color: #800000\">│</span>\n",
              "<span style=\"color: #800000; text-decoration-color: #800000\">│</span>   <span style=\"color: #7f7f7f; text-decoration-color: #7f7f7f\"> 964 </span><span style=\"color: #bfbf7f; text-decoration-color: #bfbf7f\">│   │   </span><span style=\"color: #808000; text-decoration-color: #808000\">included, even if they were already activated in this working set.</span>                <span style=\"color: #800000; text-decoration-color: #800000\">│</span>\n",
              "<span style=\"color: #800000; text-decoration-color: #800000\">│</span>   <span style=\"color: #7f7f7f; text-decoration-color: #7f7f7f\"> 965 </span><span style=\"color: #bfbf7f; text-decoration-color: #bfbf7f\">│   │   </span><span style=\"color: #808000; text-decoration-color: #808000\">\"\"\"</span>                                                                               <span style=\"color: #800000; text-decoration-color: #800000\">│</span>\n",
              "<span style=\"color: #800000; text-decoration-color: #800000\">│</span> <span style=\"color: #800000; text-decoration-color: #800000\">❱ </span> 966 <span style=\"color: #7f7f7f; text-decoration-color: #7f7f7f\">│   │   </span>needed = <span style=\"color: #00ffff; text-decoration-color: #00ffff\">self</span>.resolve(parse_requirements(requirements))                           <span style=\"color: #800000; text-decoration-color: #800000\">│</span>\n",
              "<span style=\"color: #800000; text-decoration-color: #800000\">│</span>   <span style=\"color: #7f7f7f; text-decoration-color: #7f7f7f\"> 967 </span><span style=\"color: #7f7f7f; text-decoration-color: #7f7f7f\">│   │   </span>                                                                                  <span style=\"color: #800000; text-decoration-color: #800000\">│</span>\n",
              "<span style=\"color: #800000; text-decoration-color: #800000\">│</span>   <span style=\"color: #7f7f7f; text-decoration-color: #7f7f7f\"> 968 </span><span style=\"color: #7f7f7f; text-decoration-color: #7f7f7f\">│   │   </span><span style=\"color: #0000ff; text-decoration-color: #0000ff\">for</span> dist <span style=\"color: #ff00ff; text-decoration-color: #ff00ff\">in</span> needed:                                                               <span style=\"color: #800000; text-decoration-color: #800000\">│</span>\n",
              "<span style=\"color: #800000; text-decoration-color: #800000\">│</span>   <span style=\"color: #7f7f7f; text-decoration-color: #7f7f7f\"> 969 </span><span style=\"color: #7f7f7f; text-decoration-color: #7f7f7f\">│   │   │   </span><span style=\"color: #00ffff; text-decoration-color: #00ffff\">self</span>.add(dist)                                                                <span style=\"color: #800000; text-decoration-color: #800000\">│</span>\n",
              "<span style=\"color: #800000; text-decoration-color: #800000\">│</span>                                                                                                  <span style=\"color: #800000; text-decoration-color: #800000\">│</span>\n",
              "<span style=\"color: #800000; text-decoration-color: #800000\">│</span> <span style=\"color: #bfbf7f; text-decoration-color: #bfbf7f\">/usr/local/lib/python3.10/dist-packages/pkg_resources/</span><span style=\"color: #808000; text-decoration-color: #808000; font-weight: bold\">__init__.py</span>:<span style=\"color: #0000ff; text-decoration-color: #0000ff\">832</span> in <span style=\"color: #00ff00; text-decoration-color: #00ff00\">resolve</span>                 <span style=\"color: #800000; text-decoration-color: #800000\">│</span>\n",
              "<span style=\"color: #800000; text-decoration-color: #800000\">│</span>                                                                                                  <span style=\"color: #800000; text-decoration-color: #800000\">│</span>\n",
              "<span style=\"color: #800000; text-decoration-color: #800000\">│</span>   <span style=\"color: #7f7f7f; text-decoration-color: #7f7f7f\"> 829 </span><span style=\"color: #7f7f7f; text-decoration-color: #7f7f7f\">│   │   │   </span>)                                                                             <span style=\"color: #800000; text-decoration-color: #800000\">│</span>\n",
              "<span style=\"color: #800000; text-decoration-color: #800000\">│</span>   <span style=\"color: #7f7f7f; text-decoration-color: #7f7f7f\"> 830 </span><span style=\"color: #7f7f7f; text-decoration-color: #7f7f7f\">│   │   │   </span>                                                                              <span style=\"color: #800000; text-decoration-color: #800000\">│</span>\n",
              "<span style=\"color: #800000; text-decoration-color: #800000\">│</span>   <span style=\"color: #7f7f7f; text-decoration-color: #7f7f7f\"> 831 </span><span style=\"color: #7f7f7f; text-decoration-color: #7f7f7f\">│   │   │   </span><span style=\"color: #7f7f7f; text-decoration-color: #7f7f7f\"># push the new requirements onto the stack</span>                                    <span style=\"color: #800000; text-decoration-color: #800000\">│</span>\n",
              "<span style=\"color: #800000; text-decoration-color: #800000\">│</span> <span style=\"color: #800000; text-decoration-color: #800000\">❱ </span> 832 <span style=\"color: #7f7f7f; text-decoration-color: #7f7f7f\">│   │   │   </span>new_requirements = dist.requires(req.extras)[::-<span style=\"color: #0000ff; text-decoration-color: #0000ff\">1</span>]                            <span style=\"color: #800000; text-decoration-color: #800000\">│</span>\n",
              "<span style=\"color: #800000; text-decoration-color: #800000\">│</span>   <span style=\"color: #7f7f7f; text-decoration-color: #7f7f7f\"> 833 </span><span style=\"color: #7f7f7f; text-decoration-color: #7f7f7f\">│   │   │   </span>requirements.extend(new_requirements)                                         <span style=\"color: #800000; text-decoration-color: #800000\">│</span>\n",
              "<span style=\"color: #800000; text-decoration-color: #800000\">│</span>   <span style=\"color: #7f7f7f; text-decoration-color: #7f7f7f\"> 834 </span><span style=\"color: #7f7f7f; text-decoration-color: #7f7f7f\">│   │   │   </span>                                                                              <span style=\"color: #800000; text-decoration-color: #800000\">│</span>\n",
              "<span style=\"color: #800000; text-decoration-color: #800000\">│</span>   <span style=\"color: #7f7f7f; text-decoration-color: #7f7f7f\"> 835 </span><span style=\"color: #7f7f7f; text-decoration-color: #7f7f7f\">│   │   │   </span><span style=\"color: #7f7f7f; text-decoration-color: #7f7f7f\"># Register the new requirements needed by req</span>                                 <span style=\"color: #800000; text-decoration-color: #800000\">│</span>\n",
              "<span style=\"color: #800000; text-decoration-color: #800000\">│</span>                                                                                                  <span style=\"color: #800000; text-decoration-color: #800000\">│</span>\n",
              "<span style=\"color: #800000; text-decoration-color: #800000\">│</span> <span style=\"color: #bfbf7f; text-decoration-color: #bfbf7f\">/usr/local/lib/python3.10/dist-packages/pkg_resources/</span><span style=\"color: #808000; text-decoration-color: #808000; font-weight: bold\">__init__.py</span>:<span style=\"color: #0000ff; text-decoration-color: #0000ff\">2821</span> in <span style=\"color: #00ff00; text-decoration-color: #00ff00\">requires</span>               <span style=\"color: #800000; text-decoration-color: #800000\">│</span>\n",
              "<span style=\"color: #800000; text-decoration-color: #800000\">│</span>                                                                                                  <span style=\"color: #800000; text-decoration-color: #800000\">│</span>\n",
              "<span style=\"color: #800000; text-decoration-color: #800000\">│</span>   <span style=\"color: #7f7f7f; text-decoration-color: #7f7f7f\">2818 </span><span style=\"color: #7f7f7f; text-decoration-color: #7f7f7f\">│   </span>                                                                                      <span style=\"color: #800000; text-decoration-color: #800000\">│</span>\n",
              "<span style=\"color: #800000; text-decoration-color: #800000\">│</span>   <span style=\"color: #7f7f7f; text-decoration-color: #7f7f7f\">2819 </span><span style=\"color: #7f7f7f; text-decoration-color: #7f7f7f\">│   </span><span style=\"color: #0000ff; text-decoration-color: #0000ff\">def</span> <span style=\"color: #00ff00; text-decoration-color: #00ff00\">requires</span>(<span style=\"color: #00ffff; text-decoration-color: #00ffff\">self</span>, extras=()):                                                        <span style=\"color: #800000; text-decoration-color: #800000\">│</span>\n",
              "<span style=\"color: #800000; text-decoration-color: #800000\">│</span>   <span style=\"color: #7f7f7f; text-decoration-color: #7f7f7f\">2820 </span><span style=\"color: #bfbfbf; text-decoration-color: #bfbfbf\">│   │   </span><span style=\"color: #808000; text-decoration-color: #808000\">\"\"\"List of Requirements needed for this distro if `extras` are used\"\"\"</span>            <span style=\"color: #800000; text-decoration-color: #800000\">│</span>\n",
              "<span style=\"color: #800000; text-decoration-color: #800000\">│</span> <span style=\"color: #800000; text-decoration-color: #800000\">❱ </span>2821 <span style=\"color: #7f7f7f; text-decoration-color: #7f7f7f\">│   │   </span>dm = <span style=\"color: #00ffff; text-decoration-color: #00ffff\">self</span>._dep_map                                                                <span style=\"color: #800000; text-decoration-color: #800000\">│</span>\n",
              "<span style=\"color: #800000; text-decoration-color: #800000\">│</span>   <span style=\"color: #7f7f7f; text-decoration-color: #7f7f7f\">2822 </span><span style=\"color: #7f7f7f; text-decoration-color: #7f7f7f\">│   │   </span>deps = []                                                                         <span style=\"color: #800000; text-decoration-color: #800000\">│</span>\n",
              "<span style=\"color: #800000; text-decoration-color: #800000\">│</span>   <span style=\"color: #7f7f7f; text-decoration-color: #7f7f7f\">2823 </span><span style=\"color: #7f7f7f; text-decoration-color: #7f7f7f\">│   │   </span>deps.extend(dm.get(<span style=\"color: #0000ff; text-decoration-color: #0000ff\">None</span>, ()))                                                     <span style=\"color: #800000; text-decoration-color: #800000\">│</span>\n",
              "<span style=\"color: #800000; text-decoration-color: #800000\">│</span>   <span style=\"color: #7f7f7f; text-decoration-color: #7f7f7f\">2824 </span><span style=\"color: #7f7f7f; text-decoration-color: #7f7f7f\">│   │   </span><span style=\"color: #0000ff; text-decoration-color: #0000ff\">for</span> ext <span style=\"color: #ff00ff; text-decoration-color: #ff00ff\">in</span> extras:                                                                <span style=\"color: #800000; text-decoration-color: #800000\">│</span>\n",
              "<span style=\"color: #800000; text-decoration-color: #800000\">│</span>                                                                                                  <span style=\"color: #800000; text-decoration-color: #800000\">│</span>\n",
              "<span style=\"color: #800000; text-decoration-color: #800000\">│</span> <span style=\"color: #bfbf7f; text-decoration-color: #bfbf7f\">/usr/local/lib/python3.10/dist-packages/pkg_resources/</span><span style=\"color: #808000; text-decoration-color: #808000; font-weight: bold\">__init__.py</span>:<span style=\"color: #0000ff; text-decoration-color: #0000ff\">3110</span> in <span style=\"color: #00ff00; text-decoration-color: #00ff00\">_dep_map</span>               <span style=\"color: #800000; text-decoration-color: #800000\">│</span>\n",
              "<span style=\"color: #800000; text-decoration-color: #800000\">│</span>                                                                                                  <span style=\"color: #800000; text-decoration-color: #800000\">│</span>\n",
              "<span style=\"color: #800000; text-decoration-color: #800000\">│</span>   <span style=\"color: #7f7f7f; text-decoration-color: #7f7f7f\">3107 </span><span style=\"color: #7f7f7f; text-decoration-color: #7f7f7f\">│   │   </span><span style=\"color: #0000ff; text-decoration-color: #0000ff\">try</span>:                                                                              <span style=\"color: #800000; text-decoration-color: #800000\">│</span>\n",
              "<span style=\"color: #800000; text-decoration-color: #800000\">│</span>   <span style=\"color: #7f7f7f; text-decoration-color: #7f7f7f\">3108 </span><span style=\"color: #7f7f7f; text-decoration-color: #7f7f7f\">│   │   │   </span><span style=\"color: #0000ff; text-decoration-color: #0000ff\">return</span> <span style=\"color: #00ffff; text-decoration-color: #00ffff\">self</span>.__dep_map                                                         <span style=\"color: #800000; text-decoration-color: #800000\">│</span>\n",
              "<span style=\"color: #800000; text-decoration-color: #800000\">│</span>   <span style=\"color: #7f7f7f; text-decoration-color: #7f7f7f\">3109 </span><span style=\"color: #7f7f7f; text-decoration-color: #7f7f7f\">│   │   </span><span style=\"color: #0000ff; text-decoration-color: #0000ff\">except</span> <span style=\"color: #00ffff; text-decoration-color: #00ffff\">AttributeError</span>:                                                            <span style=\"color: #800000; text-decoration-color: #800000\">│</span>\n",
              "<span style=\"color: #800000; text-decoration-color: #800000\">│</span> <span style=\"color: #800000; text-decoration-color: #800000\">❱ </span>3110 <span style=\"color: #7f7f7f; text-decoration-color: #7f7f7f\">│   │   │   </span><span style=\"color: #00ffff; text-decoration-color: #00ffff\">self</span>.__dep_map = <span style=\"color: #00ffff; text-decoration-color: #00ffff\">self</span>._compute_dependencies()                                 <span style=\"color: #800000; text-decoration-color: #800000\">│</span>\n",
              "<span style=\"color: #800000; text-decoration-color: #800000\">│</span>   <span style=\"color: #7f7f7f; text-decoration-color: #7f7f7f\">3111 </span><span style=\"color: #7f7f7f; text-decoration-color: #7f7f7f\">│   │   │   </span><span style=\"color: #0000ff; text-decoration-color: #0000ff\">return</span> <span style=\"color: #00ffff; text-decoration-color: #00ffff\">self</span>.__dep_map                                                         <span style=\"color: #800000; text-decoration-color: #800000\">│</span>\n",
              "<span style=\"color: #800000; text-decoration-color: #800000\">│</span>   <span style=\"color: #7f7f7f; text-decoration-color: #7f7f7f\">3112 </span><span style=\"color: #7f7f7f; text-decoration-color: #7f7f7f\">│   </span>                                                                                      <span style=\"color: #800000; text-decoration-color: #800000\">│</span>\n",
              "<span style=\"color: #800000; text-decoration-color: #800000\">│</span>   <span style=\"color: #7f7f7f; text-decoration-color: #7f7f7f\">3113 </span><span style=\"color: #7f7f7f; text-decoration-color: #7f7f7f\">│   </span><span style=\"color: #0000ff; text-decoration-color: #0000ff\">def</span> <span style=\"color: #00ff00; text-decoration-color: #00ff00\">_compute_dependencies</span>(<span style=\"color: #00ffff; text-decoration-color: #00ffff\">self</span>):                                                      <span style=\"color: #800000; text-decoration-color: #800000\">│</span>\n",
              "<span style=\"color: #800000; text-decoration-color: #800000\">│</span>                                                                                                  <span style=\"color: #800000; text-decoration-color: #800000\">│</span>\n",
              "<span style=\"color: #800000; text-decoration-color: #800000\">│</span> <span style=\"color: #bfbf7f; text-decoration-color: #bfbf7f\">/usr/local/lib/python3.10/dist-packages/pkg_resources/</span><span style=\"color: #808000; text-decoration-color: #808000; font-weight: bold\">__init__.py</span>:<span style=\"color: #0000ff; text-decoration-color: #0000ff\">3119</span> in <span style=\"color: #00ff00; text-decoration-color: #00ff00\">_compute_dependencies</span>  <span style=\"color: #800000; text-decoration-color: #800000\">│</span>\n",
              "<span style=\"color: #800000; text-decoration-color: #800000\">│</span>                                                                                                  <span style=\"color: #800000; text-decoration-color: #800000\">│</span>\n",
              "<span style=\"color: #800000; text-decoration-color: #800000\">│</span>   <span style=\"color: #7f7f7f; text-decoration-color: #7f7f7f\">3116 </span><span style=\"color: #7f7f7f; text-decoration-color: #7f7f7f\">│   │   </span>                                                                                  <span style=\"color: #800000; text-decoration-color: #800000\">│</span>\n",
              "<span style=\"color: #800000; text-decoration-color: #800000\">│</span>   <span style=\"color: #7f7f7f; text-decoration-color: #7f7f7f\">3117 </span><span style=\"color: #7f7f7f; text-decoration-color: #7f7f7f\">│   │   </span>reqs = []                                                                         <span style=\"color: #800000; text-decoration-color: #800000\">│</span>\n",
              "<span style=\"color: #800000; text-decoration-color: #800000\">│</span>   <span style=\"color: #7f7f7f; text-decoration-color: #7f7f7f\">3118 </span><span style=\"color: #7f7f7f; text-decoration-color: #7f7f7f\">│   │   </span><span style=\"color: #7f7f7f; text-decoration-color: #7f7f7f\"># Including any condition expressions</span>                                             <span style=\"color: #800000; text-decoration-color: #800000\">│</span>\n",
              "<span style=\"color: #800000; text-decoration-color: #800000\">│</span> <span style=\"color: #800000; text-decoration-color: #800000\">❱ </span>3119 <span style=\"color: #7f7f7f; text-decoration-color: #7f7f7f\">│   │   </span><span style=\"color: #0000ff; text-decoration-color: #0000ff\">for</span> req <span style=\"color: #ff00ff; text-decoration-color: #ff00ff\">in</span> <span style=\"color: #00ffff; text-decoration-color: #00ffff\">self</span>._parsed_pkg_info.get_all(<span style=\"color: #808000; text-decoration-color: #808000\">'Requires-Dist'</span>) <span style=\"color: #ff00ff; text-decoration-color: #ff00ff\">or</span> []:                  <span style=\"color: #800000; text-decoration-color: #800000\">│</span>\n",
              "<span style=\"color: #800000; text-decoration-color: #800000\">│</span>   <span style=\"color: #7f7f7f; text-decoration-color: #7f7f7f\">3120 </span><span style=\"color: #7f7f7f; text-decoration-color: #7f7f7f\">│   │   │   </span>reqs.extend(parse_requirements(req))                                          <span style=\"color: #800000; text-decoration-color: #800000\">│</span>\n",
              "<span style=\"color: #800000; text-decoration-color: #800000\">│</span>   <span style=\"color: #7f7f7f; text-decoration-color: #7f7f7f\">3121 </span><span style=\"color: #7f7f7f; text-decoration-color: #7f7f7f\">│   │   </span>                                                                                  <span style=\"color: #800000; text-decoration-color: #800000\">│</span>\n",
              "<span style=\"color: #800000; text-decoration-color: #800000\">│</span>   <span style=\"color: #7f7f7f; text-decoration-color: #7f7f7f\">3122 </span><span style=\"color: #7f7f7f; text-decoration-color: #7f7f7f\">│   │   </span><span style=\"color: #0000ff; text-decoration-color: #0000ff\">def</span> <span style=\"color: #00ff00; text-decoration-color: #00ff00\">reqs_for_extra</span>(extra):                                                        <span style=\"color: #800000; text-decoration-color: #800000\">│</span>\n",
              "<span style=\"color: #800000; text-decoration-color: #800000\">│</span>                                                                                                  <span style=\"color: #800000; text-decoration-color: #800000\">│</span>\n",
              "<span style=\"color: #800000; text-decoration-color: #800000\">│</span> <span style=\"color: #bfbf7f; text-decoration-color: #bfbf7f\">/usr/local/lib/python3.10/dist-packages/pkg_resources/</span><span style=\"color: #808000; text-decoration-color: #808000; font-weight: bold\">__init__.py</span>:<span style=\"color: #0000ff; text-decoration-color: #0000ff\">3101</span> in <span style=\"color: #00ff00; text-decoration-color: #00ff00\">_parsed_pkg_info</span>       <span style=\"color: #800000; text-decoration-color: #800000\">│</span>\n",
              "<span style=\"color: #800000; text-decoration-color: #800000\">│</span>                                                                                                  <span style=\"color: #800000; text-decoration-color: #800000\">│</span>\n",
              "<span style=\"color: #800000; text-decoration-color: #800000\">│</span>   <span style=\"color: #7f7f7f; text-decoration-color: #7f7f7f\">3098 </span><span style=\"color: #7f7f7f; text-decoration-color: #7f7f7f\">│   │   </span><span style=\"color: #0000ff; text-decoration-color: #0000ff\">try</span>:                                                                              <span style=\"color: #800000; text-decoration-color: #800000\">│</span>\n",
              "<span style=\"color: #800000; text-decoration-color: #800000\">│</span>   <span style=\"color: #7f7f7f; text-decoration-color: #7f7f7f\">3099 </span><span style=\"color: #7f7f7f; text-decoration-color: #7f7f7f\">│   │   │   </span><span style=\"color: #0000ff; text-decoration-color: #0000ff\">return</span> <span style=\"color: #00ffff; text-decoration-color: #00ffff\">self</span>._pkg_info                                                         <span style=\"color: #800000; text-decoration-color: #800000\">│</span>\n",
              "<span style=\"color: #800000; text-decoration-color: #800000\">│</span>   <span style=\"color: #7f7f7f; text-decoration-color: #7f7f7f\">3100 </span><span style=\"color: #7f7f7f; text-decoration-color: #7f7f7f\">│   │   </span><span style=\"color: #0000ff; text-decoration-color: #0000ff\">except</span> <span style=\"color: #00ffff; text-decoration-color: #00ffff\">AttributeError</span>:                                                            <span style=\"color: #800000; text-decoration-color: #800000\">│</span>\n",
              "<span style=\"color: #800000; text-decoration-color: #800000\">│</span> <span style=\"color: #800000; text-decoration-color: #800000\">❱ </span>3101 <span style=\"color: #7f7f7f; text-decoration-color: #7f7f7f\">│   │   │   </span>metadata = <span style=\"color: #00ffff; text-decoration-color: #00ffff\">self</span>.get_metadata(<span style=\"color: #00ffff; text-decoration-color: #00ffff\">self</span>.PKG_INFO)                                   <span style=\"color: #800000; text-decoration-color: #800000\">│</span>\n",
              "<span style=\"color: #800000; text-decoration-color: #800000\">│</span>   <span style=\"color: #7f7f7f; text-decoration-color: #7f7f7f\">3102 </span><span style=\"color: #7f7f7f; text-decoration-color: #7f7f7f\">│   │   │   </span><span style=\"color: #00ffff; text-decoration-color: #00ffff\">self</span>._pkg_info = email.parser.Parser().parsestr(metadata)                     <span style=\"color: #800000; text-decoration-color: #800000\">│</span>\n",
              "<span style=\"color: #800000; text-decoration-color: #800000\">│</span>   <span style=\"color: #7f7f7f; text-decoration-color: #7f7f7f\">3103 </span><span style=\"color: #7f7f7f; text-decoration-color: #7f7f7f\">│   │   │   </span><span style=\"color: #0000ff; text-decoration-color: #0000ff\">return</span> <span style=\"color: #00ffff; text-decoration-color: #00ffff\">self</span>._pkg_info                                                         <span style=\"color: #800000; text-decoration-color: #800000\">│</span>\n",
              "<span style=\"color: #800000; text-decoration-color: #800000\">│</span>   <span style=\"color: #7f7f7f; text-decoration-color: #7f7f7f\">3104 </span>                                                                                          <span style=\"color: #800000; text-decoration-color: #800000\">│</span>\n",
              "<span style=\"color: #800000; text-decoration-color: #800000\">│</span>                                                                                                  <span style=\"color: #800000; text-decoration-color: #800000\">│</span>\n",
              "<span style=\"color: #800000; text-decoration-color: #800000\">│</span> <span style=\"color: #bfbf7f; text-decoration-color: #bfbf7f\">/usr/local/lib/python3.10/dist-packages/pkg_resources/</span><span style=\"color: #808000; text-decoration-color: #808000; font-weight: bold\">__init__.py</span>:<span style=\"color: #0000ff; text-decoration-color: #0000ff\">1517</span> in <span style=\"color: #00ff00; text-decoration-color: #00ff00\">get_metadata</span>           <span style=\"color: #800000; text-decoration-color: #800000\">│</span>\n",
              "<span style=\"color: #800000; text-decoration-color: #800000\">│</span>                                                                                                  <span style=\"color: #800000; text-decoration-color: #800000\">│</span>\n",
              "<span style=\"color: #800000; text-decoration-color: #800000\">│</span>   <span style=\"color: #7f7f7f; text-decoration-color: #7f7f7f\">1514 </span><span style=\"color: #7f7f7f; text-decoration-color: #7f7f7f\">│   │   </span><span style=\"color: #0000ff; text-decoration-color: #0000ff\">if</span> <span style=\"color: #ff00ff; text-decoration-color: #ff00ff\">not</span> <span style=\"color: #00ffff; text-decoration-color: #00ffff\">self</span>.egg_info:                                                             <span style=\"color: #800000; text-decoration-color: #800000\">│</span>\n",
              "<span style=\"color: #800000; text-decoration-color: #800000\">│</span>   <span style=\"color: #7f7f7f; text-decoration-color: #7f7f7f\">1515 </span><span style=\"color: #7f7f7f; text-decoration-color: #7f7f7f\">│   │   │   </span><span style=\"color: #0000ff; text-decoration-color: #0000ff\">return</span> <span style=\"color: #808000; text-decoration-color: #808000\">\"\"</span>                                                                     <span style=\"color: #800000; text-decoration-color: #800000\">│</span>\n",
              "<span style=\"color: #800000; text-decoration-color: #800000\">│</span>   <span style=\"color: #7f7f7f; text-decoration-color: #7f7f7f\">1516 </span><span style=\"color: #7f7f7f; text-decoration-color: #7f7f7f\">│   │   </span>path = <span style=\"color: #00ffff; text-decoration-color: #00ffff\">self</span>._get_metadata_path(name)                                              <span style=\"color: #800000; text-decoration-color: #800000\">│</span>\n",
              "<span style=\"color: #800000; text-decoration-color: #800000\">│</span> <span style=\"color: #800000; text-decoration-color: #800000\">❱ </span>1517 <span style=\"color: #7f7f7f; text-decoration-color: #7f7f7f\">│   │   </span>value = <span style=\"color: #00ffff; text-decoration-color: #00ffff\">self</span>._get(path)                                                           <span style=\"color: #800000; text-decoration-color: #800000\">│</span>\n",
              "<span style=\"color: #800000; text-decoration-color: #800000\">│</span>   <span style=\"color: #7f7f7f; text-decoration-color: #7f7f7f\">1518 </span><span style=\"color: #7f7f7f; text-decoration-color: #7f7f7f\">│   │   </span><span style=\"color: #0000ff; text-decoration-color: #0000ff\">try</span>:                                                                              <span style=\"color: #800000; text-decoration-color: #800000\">│</span>\n",
              "<span style=\"color: #800000; text-decoration-color: #800000\">│</span>   <span style=\"color: #7f7f7f; text-decoration-color: #7f7f7f\">1519 </span><span style=\"color: #7f7f7f; text-decoration-color: #7f7f7f\">│   │   │   </span><span style=\"color: #0000ff; text-decoration-color: #0000ff\">return</span> value.decode(<span style=\"color: #808000; text-decoration-color: #808000\">'utf-8'</span>)                                                  <span style=\"color: #800000; text-decoration-color: #800000\">│</span>\n",
              "<span style=\"color: #800000; text-decoration-color: #800000\">│</span>   <span style=\"color: #7f7f7f; text-decoration-color: #7f7f7f\">1520 </span><span style=\"color: #7f7f7f; text-decoration-color: #7f7f7f\">│   │   </span><span style=\"color: #0000ff; text-decoration-color: #0000ff\">except</span> <span style=\"color: #00ffff; text-decoration-color: #00ffff\">UnicodeDecodeError</span> <span style=\"color: #0000ff; text-decoration-color: #0000ff\">as</span> exc:                                                 <span style=\"color: #800000; text-decoration-color: #800000\">│</span>\n",
              "<span style=\"color: #800000; text-decoration-color: #800000\">│</span>                                                                                                  <span style=\"color: #800000; text-decoration-color: #800000\">│</span>\n",
              "<span style=\"color: #800000; text-decoration-color: #800000\">│</span> <span style=\"color: #bfbf7f; text-decoration-color: #bfbf7f\">/usr/local/lib/python3.10/dist-packages/pkg_resources/</span><span style=\"color: #808000; text-decoration-color: #808000; font-weight: bold\">__init__.py</span>:<span style=\"color: #0000ff; text-decoration-color: #0000ff\">1726</span> in <span style=\"color: #00ff00; text-decoration-color: #00ff00\">_get</span>                   <span style=\"color: #800000; text-decoration-color: #800000\">│</span>\n",
              "<span style=\"color: #800000; text-decoration-color: #800000\">│</span>                                                                                                  <span style=\"color: #800000; text-decoration-color: #800000\">│</span>\n",
              "<span style=\"color: #800000; text-decoration-color: #800000\">│</span>   <span style=\"color: #7f7f7f; text-decoration-color: #7f7f7f\">1723 </span><span style=\"color: #7f7f7f; text-decoration-color: #7f7f7f\">│   │   </span><span style=\"color: #0000ff; text-decoration-color: #0000ff\">return</span> <span style=\"color: #00ffff; text-decoration-color: #00ffff\">open</span>(<span style=\"color: #00ffff; text-decoration-color: #00ffff\">self</span>._fn(<span style=\"color: #00ffff; text-decoration-color: #00ffff\">self</span>.module_path, resource_name), <span style=\"color: #808000; text-decoration-color: #808000\">'rb'</span>)                      <span style=\"color: #800000; text-decoration-color: #800000\">│</span>\n",
              "<span style=\"color: #800000; text-decoration-color: #800000\">│</span>   <span style=\"color: #7f7f7f; text-decoration-color: #7f7f7f\">1724 </span><span style=\"color: #7f7f7f; text-decoration-color: #7f7f7f\">│   </span>                                                                                      <span style=\"color: #800000; text-decoration-color: #800000\">│</span>\n",
              "<span style=\"color: #800000; text-decoration-color: #800000\">│</span>   <span style=\"color: #7f7f7f; text-decoration-color: #7f7f7f\">1725 </span><span style=\"color: #7f7f7f; text-decoration-color: #7f7f7f\">│   </span><span style=\"color: #0000ff; text-decoration-color: #0000ff\">def</span> <span style=\"color: #00ff00; text-decoration-color: #00ff00\">_get</span>(<span style=\"color: #00ffff; text-decoration-color: #00ffff\">self</span>, path):                                                                 <span style=\"color: #800000; text-decoration-color: #800000\">│</span>\n",
              "<span style=\"color: #800000; text-decoration-color: #800000\">│</span> <span style=\"color: #800000; text-decoration-color: #800000\">❱ </span>1726 <span style=\"color: #7f7f7f; text-decoration-color: #7f7f7f\">│   │   </span><span style=\"color: #0000ff; text-decoration-color: #0000ff\">with</span> <span style=\"color: #00ffff; text-decoration-color: #00ffff\">open</span>(path, <span style=\"color: #808000; text-decoration-color: #808000\">'rb'</span>) <span style=\"color: #0000ff; text-decoration-color: #0000ff\">as</span> stream:                                                  <span style=\"color: #800000; text-decoration-color: #800000\">│</span>\n",
              "<span style=\"color: #800000; text-decoration-color: #800000\">│</span>   <span style=\"color: #7f7f7f; text-decoration-color: #7f7f7f\">1727 </span><span style=\"color: #7f7f7f; text-decoration-color: #7f7f7f\">│   │   │   </span><span style=\"color: #0000ff; text-decoration-color: #0000ff\">return</span> stream.read()                                                          <span style=\"color: #800000; text-decoration-color: #800000\">│</span>\n",
              "<span style=\"color: #800000; text-decoration-color: #800000\">│</span>   <span style=\"color: #7f7f7f; text-decoration-color: #7f7f7f\">1728 </span><span style=\"color: #7f7f7f; text-decoration-color: #7f7f7f\">│   </span>                                                                                      <span style=\"color: #800000; text-decoration-color: #800000\">│</span>\n",
              "<span style=\"color: #800000; text-decoration-color: #800000\">│</span>   <span style=\"color: #7f7f7f; text-decoration-color: #7f7f7f\">1729 </span><span style=\"color: #7f7f7f; text-decoration-color: #7f7f7f\">│   </span><span style=\"color: #ff00ff; text-decoration-color: #ff00ff; font-weight: bold\">@classmethod</span>                                                                          <span style=\"color: #800000; text-decoration-color: #800000\">│</span>\n",
              "<span style=\"color: #800000; text-decoration-color: #800000\">╰──────────────────────────────────────────────────────────────────────────────────────────────────╯</span>\n",
              "<span style=\"color: #ff0000; text-decoration-color: #ff0000; font-weight: bold\">FileNotFoundError: </span><span style=\"font-weight: bold\">[</span>Errno <span style=\"color: #008080; text-decoration-color: #008080; font-weight: bold\">2</span><span style=\"font-weight: bold\">]</span> No such file or directory: \n",
              "<span style=\"color: #008000; text-decoration-color: #008000\">'/usr/local/lib/python3.10/dist-packages/requests-2.31.0.dist-info/METADATA'</span>\n",
              "</pre>\n"
            ]
          },
          "metadata": {}
        }
      ]
    },
    {
      "cell_type": "markdown",
      "source": [
        "Similarly, we can also look at the output of the chat fine-tuned Llama 2 model."
      ],
      "metadata": {
        "id": "h7r8Y8UO7Ajx"
      }
    },
    {
      "cell_type": "code",
      "source": [
        "chat_model = lamini.BasicModelRunner('meta-llama/Llama-2-7b-chat-hf')\n",
        "print(chat_model.call(\"How to be a good data scientist?\"))"
      ],
      "metadata": {
        "id": "HECWOaOQ3lj1",
        "colab": {
          "base_uri": "https://localhost:8080/"
        },
        "outputId": "dd8b4db6-43bc-481a-ee72-148c960a838d"
      },
      "execution_count": null,
      "outputs": [
        {
          "output_type": "stream",
          "name": "stdout",
          "text": [
            "\n",
            "\n",
            "Data science is a field that combines mathematics, statistics, computer science, and domain expertise in order to extract insights and knowledge from data. To be a good data scientist, one must have a strong foundation in these areas, as well as the ability to communicate complex ideas to non-technical stakeholders. Here are some key skills and traits that are important for data scientists to possess:\n",
            "\n",
            "1. Strong analytical and problem-solving skills: Data scientists must be able to analyze complex data sets and identify patterns, trends, and insights. They must also be able to communicate their findings effectively to stakeholders.\n",
            "2. Programming skills: Data scientists must be proficient in programming languages such as Python, R, or SQL, and be able to write efficient and well-structured code.\n",
            "3. Statistical knowledge: Data scientists must have a strong understanding of statistical concepts such as hypothesis testing, regression analysis, and time series analysis.\n",
            "4. Data visualization skills: Data scientists must be able to create clear and informative visualizations of data in order to communicate their findings effectively to stakeholders.\n",
            "5. Domain expertise: Data scientists must have a deep understanding of the domain they are working in, and be able to apply their analytical skills to real-world problems.\n",
            "6. Communication skills: Data scientists must be able to communicate complex technical concepts to non-technical stakeholders, and be able to present their findings in a clear and concise manner.\n",
            "7. Curiosity and creativity: Data scientists must be curious and creative in their approach to data analysis, and be able to think outside the box to identify new insights and opportunities.\n",
            "8. Collaboration: Data scientists must be able to work effectively with cross-functional teams, and be able to collaborate with stakeholders to gather requirements and validate findings.\n",
            "9. Continuous learning: Data scientists must be committed to continuous learning and professional development, and be able to stay up-to-date with the latest trends and technologies in the field.\n",
            "10. Ethical considerations: Data scientists must be aware of ethical considerations related to data collection and analysis, and be able to design and implement solutions that are transparent, fair, and respectful of privacy and security.\n",
            "\n",
            "By possessing these skills and traits, data scientists can be successful in their roles and make meaningful contributions to their organizations.\n"
          ]
        }
      ]
    },
    {
      "cell_type": "markdown",
      "source": [
        "You can clearly see the difference between the outputs of the two models.\n",
        "\n",
        "Let's now move on to the fine tuning task. We will start by exploring the data set that we will use for fine-tuning."
      ],
      "metadata": {
        "id": "bgav16yC4Zxf"
      }
    },
    {
      "cell_type": "markdown",
      "source": [
        "# Exploring the fine-tuning data set\n",
        "\n",
        "In this section, we will download and explore the data set that we will use for fine-tuning."
      ],
      "metadata": {
        "id": "MbCVtLONRQmG"
      }
    },
    {
      "cell_type": "code",
      "source": [
        "data_path =  \"https://raw.githubusercontent.com/bitext/customer-support-llm-chatbot-training-dataset/main/data/Bitext_Sample_Customer_Support_Training_Dataset_27K_responses-v11.csv\"\n",
        "\n"
      ],
      "metadata": {
        "id": "7ok9z6E_8LVu"
      },
      "execution_count": null,
      "outputs": []
    },
    {
      "cell_type": "code",
      "source": [],
      "metadata": {
        "colab": {
          "base_uri": "https://localhost:8080/",
          "height": 206
        },
        "id": "BZyrYMRTptiY",
        "outputId": "5113a668-f48a-4b93-a7c5-9fb843a9fa5c"
      },
      "execution_count": null,
      "outputs": [
        {
          "output_type": "execute_result",
          "data": {
            "text/plain": [
              "   flags                                        instruction category  \\\n",
              "0      B   question about cancelling order {{Order Number}}    ORDER   \n",
              "1    BQZ  i have a question about cancelling oorder {{Or...    ORDER   \n",
              "2   BLQZ    i need help cancelling puchase {{Order Number}}    ORDER   \n",
              "3     BL         I need to cancel purchase {{Order Number}}    ORDER   \n",
              "4  BCELN  I cannot afford this order, cancel purchase {{...    ORDER   \n",
              "\n",
              "         intent                                           response  \n",
              "0  cancel_order  I've understood you have a question regarding ...  \n",
              "1  cancel_order  I've been informed that you have a question ab...  \n",
              "2  cancel_order  I can sense that you're seeking assistance wit...  \n",
              "3  cancel_order  I understood that you need assistance with can...  \n",
              "4  cancel_order  I'm sensitive to the fact that you're facing f...  "
            ],
            "text/html": [
              "\n",
              "  <div id=\"df-848024eb-39e7-46bf-887d-b385b24ddf21\" class=\"colab-df-container\">\n",
              "    <div>\n",
              "<style scoped>\n",
              "    .dataframe tbody tr th:only-of-type {\n",
              "        vertical-align: middle;\n",
              "    }\n",
              "\n",
              "    .dataframe tbody tr th {\n",
              "        vertical-align: top;\n",
              "    }\n",
              "\n",
              "    .dataframe thead th {\n",
              "        text-align: right;\n",
              "    }\n",
              "</style>\n",
              "<table border=\"1\" class=\"dataframe\">\n",
              "  <thead>\n",
              "    <tr style=\"text-align: right;\">\n",
              "      <th></th>\n",
              "      <th>flags</th>\n",
              "      <th>instruction</th>\n",
              "      <th>category</th>\n",
              "      <th>intent</th>\n",
              "      <th>response</th>\n",
              "    </tr>\n",
              "  </thead>\n",
              "  <tbody>\n",
              "    <tr>\n",
              "      <th>0</th>\n",
              "      <td>B</td>\n",
              "      <td>question about cancelling order {{Order Number}}</td>\n",
              "      <td>ORDER</td>\n",
              "      <td>cancel_order</td>\n",
              "      <td>I've understood you have a question regarding ...</td>\n",
              "    </tr>\n",
              "    <tr>\n",
              "      <th>1</th>\n",
              "      <td>BQZ</td>\n",
              "      <td>i have a question about cancelling oorder {{Or...</td>\n",
              "      <td>ORDER</td>\n",
              "      <td>cancel_order</td>\n",
              "      <td>I've been informed that you have a question ab...</td>\n",
              "    </tr>\n",
              "    <tr>\n",
              "      <th>2</th>\n",
              "      <td>BLQZ</td>\n",
              "      <td>i need help cancelling puchase {{Order Number}}</td>\n",
              "      <td>ORDER</td>\n",
              "      <td>cancel_order</td>\n",
              "      <td>I can sense that you're seeking assistance wit...</td>\n",
              "    </tr>\n",
              "    <tr>\n",
              "      <th>3</th>\n",
              "      <td>BL</td>\n",
              "      <td>I need to cancel purchase {{Order Number}}</td>\n",
              "      <td>ORDER</td>\n",
              "      <td>cancel_order</td>\n",
              "      <td>I understood that you need assistance with can...</td>\n",
              "    </tr>\n",
              "    <tr>\n",
              "      <th>4</th>\n",
              "      <td>BCELN</td>\n",
              "      <td>I cannot afford this order, cancel purchase {{...</td>\n",
              "      <td>ORDER</td>\n",
              "      <td>cancel_order</td>\n",
              "      <td>I'm sensitive to the fact that you're facing f...</td>\n",
              "    </tr>\n",
              "  </tbody>\n",
              "</table>\n",
              "</div>\n",
              "    <div class=\"colab-df-buttons\">\n",
              "\n",
              "  <div class=\"colab-df-container\">\n",
              "    <button class=\"colab-df-convert\" onclick=\"convertToInteractive('df-848024eb-39e7-46bf-887d-b385b24ddf21')\"\n",
              "            title=\"Convert this dataframe to an interactive table.\"\n",
              "            style=\"display:none;\">\n",
              "\n",
              "  <svg xmlns=\"http://www.w3.org/2000/svg\" height=\"24px\" viewBox=\"0 -960 960 960\">\n",
              "    <path d=\"M120-120v-720h720v720H120Zm60-500h600v-160H180v160Zm220 220h160v-160H400v160Zm0 220h160v-160H400v160ZM180-400h160v-160H180v160Zm440 0h160v-160H620v160ZM180-180h160v-160H180v160Zm440 0h160v-160H620v160Z\"/>\n",
              "  </svg>\n",
              "    </button>\n",
              "\n",
              "  <style>\n",
              "    .colab-df-container {\n",
              "      display:flex;\n",
              "      gap: 12px;\n",
              "    }\n",
              "\n",
              "    .colab-df-convert {\n",
              "      background-color: #E8F0FE;\n",
              "      border: none;\n",
              "      border-radius: 50%;\n",
              "      cursor: pointer;\n",
              "      display: none;\n",
              "      fill: #1967D2;\n",
              "      height: 32px;\n",
              "      padding: 0 0 0 0;\n",
              "      width: 32px;\n",
              "    }\n",
              "\n",
              "    .colab-df-convert:hover {\n",
              "      background-color: #E2EBFA;\n",
              "      box-shadow: 0px 1px 2px rgba(60, 64, 67, 0.3), 0px 1px 3px 1px rgba(60, 64, 67, 0.15);\n",
              "      fill: #174EA6;\n",
              "    }\n",
              "\n",
              "    .colab-df-buttons div {\n",
              "      margin-bottom: 4px;\n",
              "    }\n",
              "\n",
              "    [theme=dark] .colab-df-convert {\n",
              "      background-color: #3B4455;\n",
              "      fill: #D2E3FC;\n",
              "    }\n",
              "\n",
              "    [theme=dark] .colab-df-convert:hover {\n",
              "      background-color: #434B5C;\n",
              "      box-shadow: 0px 1px 3px 1px rgba(0, 0, 0, 0.15);\n",
              "      filter: drop-shadow(0px 1px 2px rgba(0, 0, 0, 0.3));\n",
              "      fill: #FFFFFF;\n",
              "    }\n",
              "  </style>\n",
              "\n",
              "    <script>\n",
              "      const buttonEl =\n",
              "        document.querySelector('#df-848024eb-39e7-46bf-887d-b385b24ddf21 button.colab-df-convert');\n",
              "      buttonEl.style.display =\n",
              "        google.colab.kernel.accessAllowed ? 'block' : 'none';\n",
              "\n",
              "      async function convertToInteractive(key) {\n",
              "        const element = document.querySelector('#df-848024eb-39e7-46bf-887d-b385b24ddf21');\n",
              "        const dataTable =\n",
              "          await google.colab.kernel.invokeFunction('convertToInteractive',\n",
              "                                                    [key], {});\n",
              "        if (!dataTable) return;\n",
              "\n",
              "        const docLinkHtml = 'Like what you see? Visit the ' +\n",
              "          '<a target=\"_blank\" href=https://colab.research.google.com/notebooks/data_table.ipynb>data table notebook</a>'\n",
              "          + ' to learn more about interactive tables.';\n",
              "        element.innerHTML = '';\n",
              "        dataTable['output_type'] = 'display_data';\n",
              "        await google.colab.output.renderOutput(dataTable, element);\n",
              "        const docLink = document.createElement('div');\n",
              "        docLink.innerHTML = docLinkHtml;\n",
              "        element.appendChild(docLink);\n",
              "      }\n",
              "    </script>\n",
              "  </div>\n",
              "\n",
              "\n",
              "<div id=\"df-efd9b527-8285-44f0-96c5-2b014d3a838f\">\n",
              "  <button class=\"colab-df-quickchart\" onclick=\"quickchart('df-efd9b527-8285-44f0-96c5-2b014d3a838f')\"\n",
              "            title=\"Suggest charts\"\n",
              "            style=\"display:none;\">\n",
              "\n",
              "<svg xmlns=\"http://www.w3.org/2000/svg\" height=\"24px\"viewBox=\"0 0 24 24\"\n",
              "     width=\"24px\">\n",
              "    <g>\n",
              "        <path d=\"M19 3H5c-1.1 0-2 .9-2 2v14c0 1.1.9 2 2 2h14c1.1 0 2-.9 2-2V5c0-1.1-.9-2-2-2zM9 17H7v-7h2v7zm4 0h-2V7h2v10zm4 0h-2v-4h2v4z\"/>\n",
              "    </g>\n",
              "</svg>\n",
              "  </button>\n",
              "\n",
              "<style>\n",
              "  .colab-df-quickchart {\n",
              "      --bg-color: #E8F0FE;\n",
              "      --fill-color: #1967D2;\n",
              "      --hover-bg-color: #E2EBFA;\n",
              "      --hover-fill-color: #174EA6;\n",
              "      --disabled-fill-color: #AAA;\n",
              "      --disabled-bg-color: #DDD;\n",
              "  }\n",
              "\n",
              "  [theme=dark] .colab-df-quickchart {\n",
              "      --bg-color: #3B4455;\n",
              "      --fill-color: #D2E3FC;\n",
              "      --hover-bg-color: #434B5C;\n",
              "      --hover-fill-color: #FFFFFF;\n",
              "      --disabled-bg-color: #3B4455;\n",
              "      --disabled-fill-color: #666;\n",
              "  }\n",
              "\n",
              "  .colab-df-quickchart {\n",
              "    background-color: var(--bg-color);\n",
              "    border: none;\n",
              "    border-radius: 50%;\n",
              "    cursor: pointer;\n",
              "    display: none;\n",
              "    fill: var(--fill-color);\n",
              "    height: 32px;\n",
              "    padding: 0;\n",
              "    width: 32px;\n",
              "  }\n",
              "\n",
              "  .colab-df-quickchart:hover {\n",
              "    background-color: var(--hover-bg-color);\n",
              "    box-shadow: 0 1px 2px rgba(60, 64, 67, 0.3), 0 1px 3px 1px rgba(60, 64, 67, 0.15);\n",
              "    fill: var(--button-hover-fill-color);\n",
              "  }\n",
              "\n",
              "  .colab-df-quickchart-complete:disabled,\n",
              "  .colab-df-quickchart-complete:disabled:hover {\n",
              "    background-color: var(--disabled-bg-color);\n",
              "    fill: var(--disabled-fill-color);\n",
              "    box-shadow: none;\n",
              "  }\n",
              "\n",
              "  .colab-df-spinner {\n",
              "    border: 2px solid var(--fill-color);\n",
              "    border-color: transparent;\n",
              "    border-bottom-color: var(--fill-color);\n",
              "    animation:\n",
              "      spin 1s steps(1) infinite;\n",
              "  }\n",
              "\n",
              "  @keyframes spin {\n",
              "    0% {\n",
              "      border-color: transparent;\n",
              "      border-bottom-color: var(--fill-color);\n",
              "      border-left-color: var(--fill-color);\n",
              "    }\n",
              "    20% {\n",
              "      border-color: transparent;\n",
              "      border-left-color: var(--fill-color);\n",
              "      border-top-color: var(--fill-color);\n",
              "    }\n",
              "    30% {\n",
              "      border-color: transparent;\n",
              "      border-left-color: var(--fill-color);\n",
              "      border-top-color: var(--fill-color);\n",
              "      border-right-color: var(--fill-color);\n",
              "    }\n",
              "    40% {\n",
              "      border-color: transparent;\n",
              "      border-right-color: var(--fill-color);\n",
              "      border-top-color: var(--fill-color);\n",
              "    }\n",
              "    60% {\n",
              "      border-color: transparent;\n",
              "      border-right-color: var(--fill-color);\n",
              "    }\n",
              "    80% {\n",
              "      border-color: transparent;\n",
              "      border-right-color: var(--fill-color);\n",
              "      border-bottom-color: var(--fill-color);\n",
              "    }\n",
              "    90% {\n",
              "      border-color: transparent;\n",
              "      border-bottom-color: var(--fill-color);\n",
              "    }\n",
              "  }\n",
              "</style>\n",
              "\n",
              "  <script>\n",
              "    async function quickchart(key) {\n",
              "      const quickchartButtonEl =\n",
              "        document.querySelector('#' + key + ' button');\n",
              "      quickchartButtonEl.disabled = true;  // To prevent multiple clicks.\n",
              "      quickchartButtonEl.classList.add('colab-df-spinner');\n",
              "      try {\n",
              "        const charts = await google.colab.kernel.invokeFunction(\n",
              "            'suggestCharts', [key], {});\n",
              "      } catch (error) {\n",
              "        console.error('Error during call to suggestCharts:', error);\n",
              "      }\n",
              "      quickchartButtonEl.classList.remove('colab-df-spinner');\n",
              "      quickchartButtonEl.classList.add('colab-df-quickchart-complete');\n",
              "    }\n",
              "    (() => {\n",
              "      let quickchartButtonEl =\n",
              "        document.querySelector('#df-efd9b527-8285-44f0-96c5-2b014d3a838f button');\n",
              "      quickchartButtonEl.style.display =\n",
              "        google.colab.kernel.accessAllowed ? 'block' : 'none';\n",
              "    })();\n",
              "  </script>\n",
              "</div>\n",
              "\n",
              "    </div>\n",
              "  </div>\n"
            ],
            "application/vnd.google.colaboratory.intrinsic+json": {
              "type": "dataframe",
              "variable_name": "df_q_a",
              "summary": "{\n  \"name\": \"df_q_a\",\n  \"rows\": 26872,\n  \"fields\": [\n    {\n      \"column\": \"flags\",\n      \"properties\": {\n        \"dtype\": \"category\",\n        \"num_unique_values\": 394,\n        \"samples\": [\n          \"BCELNQ\",\n          \"BS\",\n          \"BCILNZ\"\n        ],\n        \"semantic_type\": \"\",\n        \"description\": \"\"\n      }\n    },\n    {\n      \"column\": \"instruction\",\n      \"properties\": {\n        \"dtype\": \"string\",\n        \"num_unique_values\": 24635,\n        \"samples\": [\n          \"I have an issue with the online registration\",\n          \"can you help me to open a standard account?\",\n          \"I want to locate order {{Order Number}}, could I get some help?\"\n        ],\n        \"semantic_type\": \"\",\n        \"description\": \"\"\n      }\n    },\n    {\n      \"column\": \"category\",\n      \"properties\": {\n        \"dtype\": \"category\",\n        \"num_unique_values\": 11,\n        \"samples\": [\n          \"REFUND\",\n          \"ORDER\",\n          \"DELIVERY\"\n        ],\n        \"semantic_type\": \"\",\n        \"description\": \"\"\n      }\n    },\n    {\n      \"column\": \"intent\",\n      \"properties\": {\n        \"dtype\": \"category\",\n        \"num_unique_values\": 27,\n        \"samples\": [\n          \"contact_customer_service\",\n          \"delivery_period\",\n          \"contact_human_agent\"\n        ],\n        \"semantic_type\": \"\",\n        \"description\": \"\"\n      }\n    },\n    {\n      \"column\": \"response\",\n      \"properties\": {\n        \"dtype\": \"string\",\n        \"num_unique_values\": 26870,\n        \"samples\": [\n          \"Thank you for reaching out! I'm sorry to hear that you're facing difficulties in connecting with a human agent. Please rest assured that I'm here to assist you and resolve this issue. Could you please provide me with some more details about the problem you're experiencing? This will help me find the best solution for you.\",\n          \"I'll get right on it! I understand your need to locate the bills associated with {{Person Name}}. To assist you in finding the relevant invoices, could you please provide me with some additional details such as the date range or any other specific information that might help narrow down the search? Rest assured, I'm here to guide you every step of the way and ensure a seamless experience.\",\n          \"Definitely! I'm here to provide you with the necessary assistance in reporting any payment problems you are facing. Please share the specific details of the issue you're encountering, such as the nature of the problem, any error messages you've received, and any relevant transaction or account information. This will help us investigate and address the problem effectively. We appreciate your cooperation in bringing this matter to our attention, and we're committed to working together to find a solution.\"\n        ],\n        \"semantic_type\": \"\",\n        \"description\": \"\"\n      }\n    }\n  ]\n}"
            }
          },
          "metadata": {},
          "execution_count": 13
        }
      ]
    },
    {
      "cell_type": "code",
      "source": [
        "#instruction:\n",
        "print(\"question: \" +  df_q_a.iloc[2][\"instruction\"])\n",
        "\n",
        "#response\n",
        "print(\"answer: \" + df_q_a.iloc[2][\"response\"] )"
      ],
      "metadata": {
        "id": "QLnX10HUR63A",
        "colab": {
          "base_uri": "https://localhost:8080/"
        },
        "outputId": "8fabc3cd-3a24-4ed0-d661-f1e86ff10ff8"
      },
      "execution_count": null,
      "outputs": [
        {
          "output_type": "stream",
          "name": "stdout",
          "text": [
            "question: i need help cancelling puchase {{Order Number}}\n",
            "answer: I can sense that you're seeking assistance with canceling your purchase with the purchase number {{Order Number}}. I apologize for any inconvenience caused, and I'm here to guide you through the process.\n",
            "\n",
            "To cancel your purchase, please follow these steps:\n",
            "\n",
            "1. Log into your account: Visit our {{Online Company Portal Info}} and sign in using your credentials.\n",
            "2. Locate your order: Once logged in, navigate to the '{{Online Order Interaction}}' or '{{Online Order Interaction}}' section to find the purchase with the order number {{Order Number}}.\n",
            "3. Initiate the cancellation: Upon finding your purchase, look for the option labeled '{{Online Order Interaction}}' and click on it to initiate the cancellation process.\n",
            "4. Confirm the cancellation: Our system might ask for confirmation or feedback regarding the cancellation. Kindly provide the necessary information to complete the process.\n",
            "5. Seek additional support: If you encounter any difficulties or require further assistance, our dedicated customer support team is available during {{Customer Support Hours}}. You can contact us at {{Customer Support Phone Number}} or use the Live Chat feature on our {{Website URL}}.\n",
            "\n",
            "We appreciate your understanding and value your satisfaction. Should you have any more questions or concerns, feel free to reach out to us. We're here to help you.\n"
          ]
        }
      ]
    },
    {
      "cell_type": "markdown",
      "source": [
        "We have now explored the data set. Next let's explore the process of preparing the data for training."
      ],
      "metadata": {
        "id": "DGgQztHb6Ez8"
      }
    },
    {
      "cell_type": "markdown",
      "source": [
        "# Data Preparation"
      ],
      "metadata": {
        "id": "X_l8ms8IkcgQ"
      }
    },
    {
      "cell_type": "markdown",
      "source": [
        "The model that we are going to use for fine-tuning is the pythia-70m model. It has 70 million parameters and it a fairly small model compared to other LLMs. LLMs come with their own tokenizers which is what we are loading here in the next code cell.\n"
      ],
      "metadata": {
        "id": "n0PX9r_A6v-q"
      }
    },
    {
      "cell_type": "code",
      "source": [
        "tokenizer = AutoTokenizer.from_pretrained(\"EleutherAI/pythia-70m\")"
      ],
      "metadata": {
        "id": "wMP2YYRkj8Ru",
        "colab": {
          "base_uri": "https://localhost:8080/",
          "height": 272,
          "referenced_widgets": [
            "d3bef582a049450caaa156a820c2de47",
            "ad7c45b8bf4a4d4f99ed65815ea8aff7",
            "e02c41e0a8e54c058cb254417aab683e",
            "010c1f948a2749aa9e9c0af02a5628b6",
            "deb487d7748f4f7a90174809964556e9",
            "f10145df43864be39a63ff8368789995",
            "77e7f2cf9bc34e01bbacf96176ae0218",
            "4683fd06064c490b91da2189c93ec3d4",
            "26387eda56354cfe934e3224b3019a95",
            "a0300e3e9cc1485f959e5dcb60799e54",
            "d6308b2b23bb46959d8733f116ccd644",
            "0eb338c3a21e4c01b44f6a598ba69687",
            "fcefc8cf4cc4472691ccbec48dc3cd7a",
            "b595ca100018485386412b67b6829976",
            "a9c29e6feb28403980db59b2f104d112",
            "1896e40eec09457fbf687438f11c90fa",
            "e04b79c93b1640d2b9972c70dd8966ab",
            "c360a7ec859d4accaa55284cc48c399a",
            "8cd92a0950074133a2a51b856ce4a39a",
            "16d0f17469744dddb854344d3e8b9968",
            "82917133f487486899658caccbeb0657",
            "d1b7d613dfc24988a78a8668158c8a99",
            "f171c4256bf24db698b7e2b78577e4d0",
            "fd389a1a220646da9b6716510ec5bd5c",
            "ddb4b0799f594f4d929a7d36f00f29c4",
            "133331ce54644778b7e9c3468069ec63",
            "f2d1cef73c5445a68d0cb2271afa2fb6",
            "f30c92b3f50541a5a585bd203d93a254",
            "ebd69b32444e49dab7d49c3453cb8790",
            "03ed75d4d28b42f19994a1211f450e81",
            "f517fb294d76492db7af05824059a285",
            "1edc52fe43684c75ac3a901c8cd373b6",
            "e76bf5dff8174915b977b234a48becf4"
          ]
        },
        "outputId": "fa6d8ff5-3dc6-4e75-defb-97664f10d11c"
      },
      "execution_count": null,
      "outputs": [
        {
          "output_type": "stream",
          "name": "stderr",
          "text": [
            "/usr/local/lib/python3.10/dist-packages/huggingface_hub/file_download.py:1132: FutureWarning: `resume_download` is deprecated and will be removed in version 1.0.0. Downloads always resume when possible. If you want to force a new download, use `force_download=True`.\n",
            "  warnings.warn(\n",
            "/usr/local/lib/python3.10/dist-packages/huggingface_hub/utils/_token.py:89: UserWarning: \n",
            "The secret `HF_TOKEN` does not exist in your Colab secrets.\n",
            "To authenticate with the Hugging Face Hub, create a token in your settings tab (https://huggingface.co/settings/tokens), set it as secret in your Google Colab and restart your session.\n",
            "You will be able to reuse this secret in all of your notebooks.\n",
            "Please note that authentication is recommended but still optional to access public models or datasets.\n",
            "  warnings.warn(\n"
          ]
        },
        {
          "output_type": "display_data",
          "data": {
            "text/plain": [
              "tokenizer_config.json:   0%|          | 0.00/396 [00:00<?, ?B/s]"
            ],
            "application/vnd.jupyter.widget-view+json": {
              "version_major": 2,
              "version_minor": 0,
              "model_id": "d3bef582a049450caaa156a820c2de47"
            }
          },
          "metadata": {}
        },
        {
          "output_type": "display_data",
          "data": {
            "text/plain": [
              "tokenizer.json:   0%|          | 0.00/2.11M [00:00<?, ?B/s]"
            ],
            "application/vnd.jupyter.widget-view+json": {
              "version_major": 2,
              "version_minor": 0,
              "model_id": "0eb338c3a21e4c01b44f6a598ba69687"
            }
          },
          "metadata": {}
        },
        {
          "output_type": "display_data",
          "data": {
            "text/plain": [
              "special_tokens_map.json:   0%|          | 0.00/99.0 [00:00<?, ?B/s]"
            ],
            "application/vnd.jupyter.widget-view+json": {
              "version_major": 2,
              "version_minor": 0,
              "model_id": "f171c4256bf24db698b7e2b78577e4d0"
            }
          },
          "metadata": {}
        }
      ]
    },
    {
      "cell_type": "markdown",
      "source": [
        "Tokenizers created by the `Autotokenizer` object can be used to tokenize a single string or a sequence of strings. While training the model, it is likely that you want to tokenize all the strings that will be used for the training process. Whereas during inference, you might want to tokenize only a single string on which you are running the inference.\n",
        "\n",
        "To demonstrate how tokenization works, we will first tokenize a single string and then put a few strings together in a sequence and examine what the output looks like."
      ],
      "metadata": {
        "id": "xdlidtP57dj8"
      }
    },
    {
      "cell_type": "code",
      "source": [
        "s = df_q_a['instruction'][0]"
      ],
      "metadata": {
        "id": "t9zbX4s9Gh7e"
      },
      "execution_count": null,
      "outputs": []
    },
    {
      "cell_type": "code",
      "source": [
        "print(df_q_a['instruction'][0])"
      ],
      "metadata": {
        "colab": {
          "base_uri": "https://localhost:8080/"
        },
        "id": "0_TCyHDDrAWu",
        "outputId": "53a9bfbe-0ace-41b6-cc72-e357ef12f7e1"
      },
      "execution_count": null,
      "outputs": [
        {
          "output_type": "stream",
          "name": "stdout",
          "text": [
            "question about cancelling order {{Order Number}}\n"
          ]
        }
      ]
    },
    {
      "cell_type": "code",
      "source": [
        "print(tokenizer(s))"
      ],
      "metadata": {
        "colab": {
          "base_uri": "https://localhost:8080/"
        },
        "id": "kYn7vX-aYSRs",
        "outputId": "1e256ffd-b5ae-4a10-ff0b-13533f97073f"
      },
      "execution_count": null,
      "outputs": [
        {
          "output_type": "stream",
          "name": "stdout",
          "text": [
            "{'input_ids': [19751, 670, 476, 68, 3485, 1340, 12033, 13921, 11057, 599], 'attention_mask': [1, 1, 1, 1, 1, 1, 1, 1, 1, 1]}\n"
          ]
        }
      ]
    },
    {
      "cell_type": "markdown",
      "source": [
        "You can see that `encoded_string` contains two keys: `input_ids` and `attention_mask`. The values associated with `input_ids` are the actual tokens which will be sent into the model. Whereas the value associated with `attention_mask` tell the model which tokens to focus on and which tokens to ignore. You will learn about the attention mask later.\n",
        "\n",
        "Now let's try to tokenize a list of strings as we might need to do for training our model on a large data set of strings."
      ],
      "metadata": {
        "id": "sCzuYVFLHLco"
      }
    },
    {
      "cell_type": "code",
      "source": [
        "instructions =  df_q_a[\"instruction\"][0]\n",
        "responses = df_q_a[\"response\"][0]\n",
        "\n",
        "concatenated = [instructions, responses]"
      ],
      "metadata": {
        "id": "Cbw6y9DKl_aC"
      },
      "execution_count": null,
      "outputs": []
    },
    {
      "cell_type": "code",
      "source": [
        "len(concatenated)"
      ],
      "metadata": {
        "colab": {
          "base_uri": "https://localhost:8080/"
        },
        "id": "1Y23y4Sg5rcg",
        "outputId": "c15e10f7-8bab-4414-f40c-6d6929c6c056"
      },
      "execution_count": null,
      "outputs": [
        {
          "output_type": "execute_result",
          "data": {
            "text/plain": [
              "2"
            ]
          },
          "metadata": {},
          "execution_count": 20
        }
      ]
    },
    {
      "cell_type": "code",
      "source": [
        "print(concatenated)"
      ],
      "metadata": {
        "colab": {
          "base_uri": "https://localhost:8080/"
        },
        "id": "v66nlDmZrrr9",
        "outputId": "da9d3c2e-5014-40de-c13e-0d2e88eb1187"
      },
      "execution_count": null,
      "outputs": [
        {
          "output_type": "stream",
          "name": "stdout",
          "text": [
            "['question about cancelling order {{Order Number}}', \"I've understood you have a question regarding canceling order {{Order Number}}, and I'm here to provide you with the information you need. Please go ahead and ask your question, and I'll do my best to assist you.\"]\n"
          ]
        }
      ]
    },
    {
      "cell_type": "markdown",
      "source": [
        "You can see in this output that the values associated with `input_ids` and 'attention_mask` are lists of lists. The items in the first list are the tokens for the two strings that we tokenized and the items in the second list are their respective attention masks.\n",
        "\n",
        "The need for attention masks arises because even though the length of the tokens accepted in an LLM is fixed and the size of our inputs will vary. You can also see this in the two lists of tokens that we have created above. As the size of the input strings were different, the lists of tokens are also of different sizes.\n",
        "\n",
        "To handle this problem, we perform padding and truncation during tokenization to bring the token lists to the same size. Let's now move on to padding and truncation.\n",
        "\n"
      ],
      "metadata": {
        "id": "zl7scc-A8CXD"
      }
    },
    {
      "cell_type": "markdown",
      "source": [
        "## Padding and truncation\n",
        "\n",
        "Padding is used to bring the length of the list of tokens up to a uniform length by adding some placeholder tokens (if the length of the list of tokens is smaller than the required length). If the length of the list of tokens is longer than the required length, then perform truncation to bring it down to the required length.\n",
        "\n",
        "Let's start by assigning the token to be used in padding as the end of sentence token."
      ],
      "metadata": {
        "id": "MB3kUmhzm24E"
      }
    },
    {
      "cell_type": "markdown",
      "source": [
        "![Picture2.png](data:image/png;base64,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)"
      ],
      "metadata": {
        "id": "gv46ZTWmGB2v"
      }
    },
    {
      "cell_type": "code",
      "source": [
        "tokenizer.pad_token = tokenizer.eos_token"
      ],
      "metadata": {
        "id": "n0M5Q_mFm-mT"
      },
      "execution_count": null,
      "outputs": []
    },
    {
      "cell_type": "code",
      "source": [
        "print(tokenizer.eos_token)"
      ],
      "metadata": {
        "colab": {
          "base_uri": "https://localhost:8080/"
        },
        "id": "OUQ8YeKjn8OD",
        "outputId": "b345b31c-fc51-4e79-cd6f-53b68f2bbae9"
      },
      "execution_count": null,
      "outputs": [
        {
          "output_type": "stream",
          "name": "stdout",
          "text": [
            "<|endoftext|>\n"
          ]
        }
      ]
    },
    {
      "cell_type": "markdown",
      "source": [],
      "metadata": {
        "id": "5HceT340n4EU"
      }
    },
    {
      "cell_type": "markdown",
      "source": [
        "By setting the value of padding to `True` we can increase the size of the shorter list of tokens up to the length of the longest token list."
      ],
      "metadata": {
        "id": "bF-DA1smnAwY"
      }
    },
    {
      "cell_type": "code",
      "source": [
        "encoded_texts_longest = tokenizer(concatenated, padding = True)\n",
        "\n",
        "\n",
        "print(\"Using padding: \", encoded_texts_longest[\"input_ids\"])\n",
        "print(\"Attention mask for this piece of text: \", encoded_texts_longest[\"attention_mask\"])"
      ],
      "metadata": {
        "colab": {
          "base_uri": "https://localhost:8080/"
        },
        "id": "u8c7fBb8j8an",
        "outputId": "c83fc2bc-5e7b-40c3-9047-b28db7b822d7"
      },
      "execution_count": null,
      "outputs": [
        {
          "output_type": "stream",
          "name": "stdout",
          "text": [
            "Using padding:  [[19751, 670, 476, 68, 3485, 1340, 12033, 13921, 11057, 599, 0, 0, 0, 0, 0, 0, 0, 0, 0, 0, 0, 0, 0, 0, 0, 0, 0, 0, 0, 0, 0, 0, 0, 0, 0, 0, 0, 0, 0, 0, 0, 0, 0, 0, 0, 0], [42, 1849, 7192, 368, 452, 247, 1953, 5001, 14002, 272, 1340, 12033, 13921, 11057, 8503, 285, 309, 1353, 1060, 281, 2085, 368, 342, 253, 1491, 368, 878, 15, 7764, 564, 6386, 285, 1642, 634, 1953, 13, 285, 309, 1833, 513, 619, 1682, 281, 10073, 368, 15]]\n",
            "Attention mask for this piece of text:  [[1, 1, 1, 1, 1, 1, 1, 1, 1, 1, 0, 0, 0, 0, 0, 0, 0, 0, 0, 0, 0, 0, 0, 0, 0, 0, 0, 0, 0, 0, 0, 0, 0, 0, 0, 0, 0, 0, 0, 0, 0, 0, 0, 0, 0, 0], [1, 1, 1, 1, 1, 1, 1, 1, 1, 1, 1, 1, 1, 1, 1, 1, 1, 1, 1, 1, 1, 1, 1, 1, 1, 1, 1, 1, 1, 1, 1, 1, 1, 1, 1, 1, 1, 1, 1, 1, 1, 1, 1, 1, 1, 1]]\n"
          ]
        }
      ]
    },
    {
      "cell_type": "markdown",
      "source": [
        "Here, you can see that both the lists in `input_ids` are of the same length. But the padding token has been appended to the end of the shorter token list. You can also see that in the `attention_mask`, the values corresponding to the tokens that are irrelevant have been set to 0. You can read more about attention masks below."
      ],
      "metadata": {
        "id": "gMk7YQbNnPUs"
      }
    },
    {
      "cell_type": "markdown",
      "source": [
        "**Attention mask**\n",
        "\n",
        "An attention mask is used in transformer models to allow selective focus on valid data points and to prevent the model from attending to irrelevant information. Here's why it's necessary:\n",
        "\n",
        "Handling Padding: Sequences are often padded to match the longest sequence's length before being fed into a transformer model because most neural network architectures expect inputs of consistent size. The attention mask indicates to the model which tokens are padding and should not be attended to.\n",
        "\n",
        "Preserving Sequence Length: In tasks like translation or text generation, input sequences can vary significantly in length. The attention mask ensures that the self-attention mechanism doesn't consider these padded areas, maintaining the actual sequence length.\n",
        "\n",
        "Improving Model Focus: During the self-attention phase, the model computes scores between all pairs of positions in the input sequence. The attention mask allows the model to focus only on relevant positions and ignore the rest, such as padded tokens or future tokens in tasks that require strict ordering (like causal language modeling).\n",
        "\n",
        "Facilitating Different Tasks: Some tasks may require the model to only pay attention to certain parts of the input while ignoring others. For instance, in question-answering, the model should focus more on the portion of the text containing the answer.\n",
        "\n",
        "Enhancing Model Efficiency: By ignoring unnecessary tokens, attention masks can reduce computational waste, making training and inference more efficient, especially for longer sequences.\n",
        "\n",
        "Maintaining Context in Sequences: In causal or unidirectional language models, attention masks prevent the model from seeing future tokens, thus maintaining the flow of information in one direction. This is essential for preserving the autoregressive property where each token is predicted based on preceding tokens only.\n",
        "\n",
        "In essence, attention masks are crucial for directing the transformer's attention mechanism to process sequences efficiently and effectively, respecting the context and structure of the input data."
      ],
      "metadata": {
        "id": "-hJqSVkJcUJp"
      }
    },
    {
      "cell_type": "markdown",
      "source": [
        "You can also set the value of the `padding` parameter to 'max_length'. This way, you can specify the length of each padded string using the `max_length` parameter."
      ],
      "metadata": {
        "id": "F0h1eEkjqg5p"
      }
    },
    {
      "cell_type": "code",
      "source": [
        "#tokenizer\n",
        "\n",
        "encoded_texts_longest = tokenizer(concatenated, max_length = 30, padding = 'max_length')\n",
        "print(\"Using padding: \", encoded_texts_longest[\"input_ids\"])\n",
        "print(\"Attention mask for this piece of text: \", encoded_texts_longest[\"attention_mask\"])\n",
        "print(\"Length of the list of tokens:\", len(encoded_texts_longest[\"input_ids\"][0]))"
      ],
      "metadata": {
        "colab": {
          "base_uri": "https://localhost:8080/"
        },
        "id": "f_rTQZVnqehp",
        "outputId": "07f8f10e-19c7-49a7-de7b-c2aa8a616d83"
      },
      "execution_count": null,
      "outputs": [
        {
          "output_type": "stream",
          "name": "stdout",
          "text": [
            "Using padding:  [[19751, 670, 476, 68, 3485, 1340, 12033, 13921, 11057, 599, 0, 0, 0, 0, 0, 0, 0, 0, 0, 0, 0, 0, 0, 0, 0, 0, 0, 0, 0, 0], [42, 1849, 7192, 368, 452, 247, 1953, 5001, 14002, 272, 1340, 12033, 13921, 11057, 8503, 285, 309, 1353, 1060, 281, 2085, 368, 342, 253, 1491, 368, 878, 15, 7764, 564, 6386, 285, 1642, 634, 1953, 13, 285, 309, 1833, 513, 619, 1682, 281, 10073, 368, 15]]\n",
            "Attention mask for this piece of text:  [[1, 1, 1, 1, 1, 1, 1, 1, 1, 1, 0, 0, 0, 0, 0, 0, 0, 0, 0, 0, 0, 0, 0, 0, 0, 0, 0, 0, 0, 0], [1, 1, 1, 1, 1, 1, 1, 1, 1, 1, 1, 1, 1, 1, 1, 1, 1, 1, 1, 1, 1, 1, 1, 1, 1, 1, 1, 1, 1, 1, 1, 1, 1, 1, 1, 1, 1, 1, 1, 1, 1, 1, 1, 1, 1, 1]]\n",
            "Length of the list of tokens: 30\n"
          ]
        }
      ]
    },
    {
      "cell_type": "markdown",
      "source": [
        "To reduce the length of the sequences, you can truncate them by setting the value of the `truncation` argument to `True`. This will truncate all the strings to the length specified by the `max_length` argument."
      ],
      "metadata": {
        "id": "GqjiTrQ5uPbg"
      }
    },
    {
      "cell_type": "code",
      "source": [
        "encoded_texts_truncation = tokenizer(concatenated, max_length = 3, truncation = True)\n",
        "print(\"Using truncation: \", encoded_texts_truncation)"
      ],
      "metadata": {
        "colab": {
          "base_uri": "https://localhost:8080/"
        },
        "id": "W3oQX8dwj8c9",
        "outputId": "df390a14-2d18-4149-9068-601b46ed5676"
      },
      "execution_count": null,
      "outputs": [
        {
          "output_type": "stream",
          "name": "stdout",
          "text": [
            "Using truncation:  {'input_ids': [[19751, 670, 476], [42, 1849, 7192]], 'attention_mask': [[1, 1, 1], [1, 1, 1]]}\n"
          ]
        }
      ]
    },
    {
      "cell_type": "markdown",
      "source": [
        "By default the tokenizer truncates from the right-hand side, but you can specify the direction from which to truncate by setting the value of the `truncation_side` attribute."
      ],
      "metadata": {
        "id": "qN0bOFXju1x0"
      }
    },
    {
      "cell_type": "code",
      "source": [
        "#Left Truncation\n",
        "\n",
        "tokenizer.truncation_side = \"left\"\n",
        "encoded_texts_truncation_left = tokenizer(concatenated, max_length=3, truncation=True)\n",
        "\n",
        "print(\"Using left-side truncation: \", encoded_texts_truncation_left)"
      ],
      "metadata": {
        "colab": {
          "base_uri": "https://localhost:8080/"
        },
        "id": "5LXW3Frdj8fj",
        "outputId": "a0abd68e-0de9-42ea-f5ca-98ce1f66de0c"
      },
      "execution_count": null,
      "outputs": [
        {
          "output_type": "stream",
          "name": "stdout",
          "text": [
            "Using left-side truncation:  {'input_ids': [[13921, 11057, 599], [10073, 368, 15]], 'attention_mask': [[1, 1, 1], [1, 1, 1]]}\n"
          ]
        }
      ]
    },
    {
      "cell_type": "markdown",
      "source": [
        "You can do a combination of both padding and truncation as required by the problem at hand."
      ],
      "metadata": {
        "id": "FUfT_7DHvJnt"
      }
    },
    {
      "cell_type": "code",
      "source": [
        "#Using both Padding & Truncation\n",
        "encoded_texts_both = tokenizer(concatenated, max_length=3, truncation=True, padding = True)\n",
        "\n",
        "print(\"Using both padding and truncation: \", encoded_texts_both[\"input_ids\"])"
      ],
      "metadata": {
        "colab": {
          "base_uri": "https://localhost:8080/"
        },
        "id": "_gyZR-yzj8hm",
        "outputId": "0adae6f1-89a0-494c-b884-b1230122b29c"
      },
      "execution_count": null,
      "outputs": [
        {
          "output_type": "stream",
          "name": "stdout",
          "text": [
            "Using both padding and truncation:  [[13921, 11057, 599], [10073, 368, 15]]\n"
          ]
        }
      ]
    },
    {
      "cell_type": "markdown",
      "source": [
        "You have now seen how to pad and truncate strings while performing tokenization. To prepare the data set to be sent into the LLM, we need to use a prompt template and send our input-output pairs into that prompt template.\n",
        "\n",
        "Let's see how we can do that for one record."
      ],
      "metadata": {
        "id": "XDLPwSJD_hwi"
      }
    },
    {
      "cell_type": "markdown",
      "source": [
        "## Using prompt templates\n",
        "\n",
        "Before tokenizing our question answer pairs and using them for training, we need to wrap them in a prompt so that the model can understand the relationship between the two. We will do that here.\n",
        "\n",
        "From our data set, we will only use the instruction and response columns."
      ],
      "metadata": {
        "id": "uq4AgC93oFzr"
      }
    },
    {
      "cell_type": "code",
      "source": [
        "df_q_a"
      ],
      "metadata": {
        "id": "8N58Lchz6FgA",
        "colab": {
          "base_uri": "https://localhost:8080/",
          "height": 423
        },
        "outputId": "28f576cb-6923-41a1-9d76-a205470a49ea"
      },
      "execution_count": null,
      "outputs": [
        {
          "output_type": "execute_result",
          "data": {
            "text/plain": [
              "       flags                                        instruction category  \\\n",
              "0          B   question about cancelling order {{Order Number}}    ORDER   \n",
              "1        BQZ  i have a question about cancelling oorder {{Or...    ORDER   \n",
              "2       BLQZ    i need help cancelling puchase {{Order Number}}    ORDER   \n",
              "3         BL         I need to cancel purchase {{Order Number}}    ORDER   \n",
              "4      BCELN  I cannot afford this order, cancel purchase {{...    ORDER   \n",
              "...      ...                                                ...      ...   \n",
              "26867     BL  I am waiting for a rebate of {{Refund Amount}}...   REFUND   \n",
              "26868    BIL  how to see if there is anything wrong with my ...   REFUND   \n",
              "26869   BLQZ  I'm waiting for a reimbjrsement of {{Currency ...   REFUND   \n",
              "26870     BL  I don't know what to do to see my reimbursemen...   REFUND   \n",
              "26871     BL  I need to know if there is anything new on the...   REFUND   \n",
              "\n",
              "             intent                                           response  \n",
              "0      cancel_order  I've understood you have a question regarding ...  \n",
              "1      cancel_order  I've been informed that you have a question ab...  \n",
              "2      cancel_order  I can sense that you're seeking assistance wit...  \n",
              "3      cancel_order  I understood that you need assistance with can...  \n",
              "4      cancel_order  I'm sensitive to the fact that you're facing f...  \n",
              "...             ...                                                ...  \n",
              "26867  track_refund  Thank you for sharing your situation regarding...  \n",
              "26868  track_refund  Ensuring the accuracy of your restitution is o...  \n",
              "26869  track_refund  Firstly, I genuinely understand the importance...  \n",
              "26870  track_refund  I've understood you're unsure about how to che...  \n",
              "26871  track_refund  It's completely understandable that you want t...  \n",
              "\n",
              "[26872 rows x 5 columns]"
            ],
            "text/html": [
              "\n",
              "  <div id=\"df-65701f98-1d02-4c25-8638-f6ce2fb94cbe\" class=\"colab-df-container\">\n",
              "    <div>\n",
              "<style scoped>\n",
              "    .dataframe tbody tr th:only-of-type {\n",
              "        vertical-align: middle;\n",
              "    }\n",
              "\n",
              "    .dataframe tbody tr th {\n",
              "        vertical-align: top;\n",
              "    }\n",
              "\n",
              "    .dataframe thead th {\n",
              "        text-align: right;\n",
              "    }\n",
              "</style>\n",
              "<table border=\"1\" class=\"dataframe\">\n",
              "  <thead>\n",
              "    <tr style=\"text-align: right;\">\n",
              "      <th></th>\n",
              "      <th>flags</th>\n",
              "      <th>instruction</th>\n",
              "      <th>category</th>\n",
              "      <th>intent</th>\n",
              "      <th>response</th>\n",
              "    </tr>\n",
              "  </thead>\n",
              "  <tbody>\n",
              "    <tr>\n",
              "      <th>0</th>\n",
              "      <td>B</td>\n",
              "      <td>question about cancelling order {{Order Number}}</td>\n",
              "      <td>ORDER</td>\n",
              "      <td>cancel_order</td>\n",
              "      <td>I've understood you have a question regarding ...</td>\n",
              "    </tr>\n",
              "    <tr>\n",
              "      <th>1</th>\n",
              "      <td>BQZ</td>\n",
              "      <td>i have a question about cancelling oorder {{Or...</td>\n",
              "      <td>ORDER</td>\n",
              "      <td>cancel_order</td>\n",
              "      <td>I've been informed that you have a question ab...</td>\n",
              "    </tr>\n",
              "    <tr>\n",
              "      <th>2</th>\n",
              "      <td>BLQZ</td>\n",
              "      <td>i need help cancelling puchase {{Order Number}}</td>\n",
              "      <td>ORDER</td>\n",
              "      <td>cancel_order</td>\n",
              "      <td>I can sense that you're seeking assistance wit...</td>\n",
              "    </tr>\n",
              "    <tr>\n",
              "      <th>3</th>\n",
              "      <td>BL</td>\n",
              "      <td>I need to cancel purchase {{Order Number}}</td>\n",
              "      <td>ORDER</td>\n",
              "      <td>cancel_order</td>\n",
              "      <td>I understood that you need assistance with can...</td>\n",
              "    </tr>\n",
              "    <tr>\n",
              "      <th>4</th>\n",
              "      <td>BCELN</td>\n",
              "      <td>I cannot afford this order, cancel purchase {{...</td>\n",
              "      <td>ORDER</td>\n",
              "      <td>cancel_order</td>\n",
              "      <td>I'm sensitive to the fact that you're facing f...</td>\n",
              "    </tr>\n",
              "    <tr>\n",
              "      <th>...</th>\n",
              "      <td>...</td>\n",
              "      <td>...</td>\n",
              "      <td>...</td>\n",
              "      <td>...</td>\n",
              "      <td>...</td>\n",
              "    </tr>\n",
              "    <tr>\n",
              "      <th>26867</th>\n",
              "      <td>BL</td>\n",
              "      <td>I am waiting for a rebate of {{Refund Amount}}...</td>\n",
              "      <td>REFUND</td>\n",
              "      <td>track_refund</td>\n",
              "      <td>Thank you for sharing your situation regarding...</td>\n",
              "    </tr>\n",
              "    <tr>\n",
              "      <th>26868</th>\n",
              "      <td>BIL</td>\n",
              "      <td>how to see if there is anything wrong with my ...</td>\n",
              "      <td>REFUND</td>\n",
              "      <td>track_refund</td>\n",
              "      <td>Ensuring the accuracy of your restitution is o...</td>\n",
              "    </tr>\n",
              "    <tr>\n",
              "      <th>26869</th>\n",
              "      <td>BLQZ</td>\n",
              "      <td>I'm waiting for a reimbjrsement of {{Currency ...</td>\n",
              "      <td>REFUND</td>\n",
              "      <td>track_refund</td>\n",
              "      <td>Firstly, I genuinely understand the importance...</td>\n",
              "    </tr>\n",
              "    <tr>\n",
              "      <th>26870</th>\n",
              "      <td>BL</td>\n",
              "      <td>I don't know what to do to see my reimbursemen...</td>\n",
              "      <td>REFUND</td>\n",
              "      <td>track_refund</td>\n",
              "      <td>I've understood you're unsure about how to che...</td>\n",
              "    </tr>\n",
              "    <tr>\n",
              "      <th>26871</th>\n",
              "      <td>BL</td>\n",
              "      <td>I need to know if there is anything new on the...</td>\n",
              "      <td>REFUND</td>\n",
              "      <td>track_refund</td>\n",
              "      <td>It's completely understandable that you want t...</td>\n",
              "    </tr>\n",
              "  </tbody>\n",
              "</table>\n",
              "<p>26872 rows × 5 columns</p>\n",
              "</div>\n",
              "    <div class=\"colab-df-buttons\">\n",
              "\n",
              "  <div class=\"colab-df-container\">\n",
              "    <button class=\"colab-df-convert\" onclick=\"convertToInteractive('df-65701f98-1d02-4c25-8638-f6ce2fb94cbe')\"\n",
              "            title=\"Convert this dataframe to an interactive table.\"\n",
              "            style=\"display:none;\">\n",
              "\n",
              "  <svg xmlns=\"http://www.w3.org/2000/svg\" height=\"24px\" viewBox=\"0 -960 960 960\">\n",
              "    <path d=\"M120-120v-720h720v720H120Zm60-500h600v-160H180v160Zm220 220h160v-160H400v160Zm0 220h160v-160H400v160ZM180-400h160v-160H180v160Zm440 0h160v-160H620v160ZM180-180h160v-160H180v160Zm440 0h160v-160H620v160Z\"/>\n",
              "  </svg>\n",
              "    </button>\n",
              "\n",
              "  <style>\n",
              "    .colab-df-container {\n",
              "      display:flex;\n",
              "      gap: 12px;\n",
              "    }\n",
              "\n",
              "    .colab-df-convert {\n",
              "      background-color: #E8F0FE;\n",
              "      border: none;\n",
              "      border-radius: 50%;\n",
              "      cursor: pointer;\n",
              "      display: none;\n",
              "      fill: #1967D2;\n",
              "      height: 32px;\n",
              "      padding: 0 0 0 0;\n",
              "      width: 32px;\n",
              "    }\n",
              "\n",
              "    .colab-df-convert:hover {\n",
              "      background-color: #E2EBFA;\n",
              "      box-shadow: 0px 1px 2px rgba(60, 64, 67, 0.3), 0px 1px 3px 1px rgba(60, 64, 67, 0.15);\n",
              "      fill: #174EA6;\n",
              "    }\n",
              "\n",
              "    .colab-df-buttons div {\n",
              "      margin-bottom: 4px;\n",
              "    }\n",
              "\n",
              "    [theme=dark] .colab-df-convert {\n",
              "      background-color: #3B4455;\n",
              "      fill: #D2E3FC;\n",
              "    }\n",
              "\n",
              "    [theme=dark] .colab-df-convert:hover {\n",
              "      background-color: #434B5C;\n",
              "      box-shadow: 0px 1px 3px 1px rgba(0, 0, 0, 0.15);\n",
              "      filter: drop-shadow(0px 1px 2px rgba(0, 0, 0, 0.3));\n",
              "      fill: #FFFFFF;\n",
              "    }\n",
              "  </style>\n",
              "\n",
              "    <script>\n",
              "      const buttonEl =\n",
              "        document.querySelector('#df-65701f98-1d02-4c25-8638-f6ce2fb94cbe button.colab-df-convert');\n",
              "      buttonEl.style.display =\n",
              "        google.colab.kernel.accessAllowed ? 'block' : 'none';\n",
              "\n",
              "      async function convertToInteractive(key) {\n",
              "        const element = document.querySelector('#df-65701f98-1d02-4c25-8638-f6ce2fb94cbe');\n",
              "        const dataTable =\n",
              "          await google.colab.kernel.invokeFunction('convertToInteractive',\n",
              "                                                    [key], {});\n",
              "        if (!dataTable) return;\n",
              "\n",
              "        const docLinkHtml = 'Like what you see? Visit the ' +\n",
              "          '<a target=\"_blank\" href=https://colab.research.google.com/notebooks/data_table.ipynb>data table notebook</a>'\n",
              "          + ' to learn more about interactive tables.';\n",
              "        element.innerHTML = '';\n",
              "        dataTable['output_type'] = 'display_data';\n",
              "        await google.colab.output.renderOutput(dataTable, element);\n",
              "        const docLink = document.createElement('div');\n",
              "        docLink.innerHTML = docLinkHtml;\n",
              "        element.appendChild(docLink);\n",
              "      }\n",
              "    </script>\n",
              "  </div>\n",
              "\n",
              "\n",
              "<div id=\"df-5f430b55-0264-4746-af8e-efc48c870bc8\">\n",
              "  <button class=\"colab-df-quickchart\" onclick=\"quickchart('df-5f430b55-0264-4746-af8e-efc48c870bc8')\"\n",
              "            title=\"Suggest charts\"\n",
              "            style=\"display:none;\">\n",
              "\n",
              "<svg xmlns=\"http://www.w3.org/2000/svg\" height=\"24px\"viewBox=\"0 0 24 24\"\n",
              "     width=\"24px\">\n",
              "    <g>\n",
              "        <path d=\"M19 3H5c-1.1 0-2 .9-2 2v14c0 1.1.9 2 2 2h14c1.1 0 2-.9 2-2V5c0-1.1-.9-2-2-2zM9 17H7v-7h2v7zm4 0h-2V7h2v10zm4 0h-2v-4h2v4z\"/>\n",
              "    </g>\n",
              "</svg>\n",
              "  </button>\n",
              "\n",
              "<style>\n",
              "  .colab-df-quickchart {\n",
              "      --bg-color: #E8F0FE;\n",
              "      --fill-color: #1967D2;\n",
              "      --hover-bg-color: #E2EBFA;\n",
              "      --hover-fill-color: #174EA6;\n",
              "      --disabled-fill-color: #AAA;\n",
              "      --disabled-bg-color: #DDD;\n",
              "  }\n",
              "\n",
              "  [theme=dark] .colab-df-quickchart {\n",
              "      --bg-color: #3B4455;\n",
              "      --fill-color: #D2E3FC;\n",
              "      --hover-bg-color: #434B5C;\n",
              "      --hover-fill-color: #FFFFFF;\n",
              "      --disabled-bg-color: #3B4455;\n",
              "      --disabled-fill-color: #666;\n",
              "  }\n",
              "\n",
              "  .colab-df-quickchart {\n",
              "    background-color: var(--bg-color);\n",
              "    border: none;\n",
              "    border-radius: 50%;\n",
              "    cursor: pointer;\n",
              "    display: none;\n",
              "    fill: var(--fill-color);\n",
              "    height: 32px;\n",
              "    padding: 0;\n",
              "    width: 32px;\n",
              "  }\n",
              "\n",
              "  .colab-df-quickchart:hover {\n",
              "    background-color: var(--hover-bg-color);\n",
              "    box-shadow: 0 1px 2px rgba(60, 64, 67, 0.3), 0 1px 3px 1px rgba(60, 64, 67, 0.15);\n",
              "    fill: var(--button-hover-fill-color);\n",
              "  }\n",
              "\n",
              "  .colab-df-quickchart-complete:disabled,\n",
              "  .colab-df-quickchart-complete:disabled:hover {\n",
              "    background-color: var(--disabled-bg-color);\n",
              "    fill: var(--disabled-fill-color);\n",
              "    box-shadow: none;\n",
              "  }\n",
              "\n",
              "  .colab-df-spinner {\n",
              "    border: 2px solid var(--fill-color);\n",
              "    border-color: transparent;\n",
              "    border-bottom-color: var(--fill-color);\n",
              "    animation:\n",
              "      spin 1s steps(1) infinite;\n",
              "  }\n",
              "\n",
              "  @keyframes spin {\n",
              "    0% {\n",
              "      border-color: transparent;\n",
              "      border-bottom-color: var(--fill-color);\n",
              "      border-left-color: var(--fill-color);\n",
              "    }\n",
              "    20% {\n",
              "      border-color: transparent;\n",
              "      border-left-color: var(--fill-color);\n",
              "      border-top-color: var(--fill-color);\n",
              "    }\n",
              "    30% {\n",
              "      border-color: transparent;\n",
              "      border-left-color: var(--fill-color);\n",
              "      border-top-color: var(--fill-color);\n",
              "      border-right-color: var(--fill-color);\n",
              "    }\n",
              "    40% {\n",
              "      border-color: transparent;\n",
              "      border-right-color: var(--fill-color);\n",
              "      border-top-color: var(--fill-color);\n",
              "    }\n",
              "    60% {\n",
              "      border-color: transparent;\n",
              "      border-right-color: var(--fill-color);\n",
              "    }\n",
              "    80% {\n",
              "      border-color: transparent;\n",
              "      border-right-color: var(--fill-color);\n",
              "      border-bottom-color: var(--fill-color);\n",
              "    }\n",
              "    90% {\n",
              "      border-color: transparent;\n",
              "      border-bottom-color: var(--fill-color);\n",
              "    }\n",
              "  }\n",
              "</style>\n",
              "\n",
              "  <script>\n",
              "    async function quickchart(key) {\n",
              "      const quickchartButtonEl =\n",
              "        document.querySelector('#' + key + ' button');\n",
              "      quickchartButtonEl.disabled = true;  // To prevent multiple clicks.\n",
              "      quickchartButtonEl.classList.add('colab-df-spinner');\n",
              "      try {\n",
              "        const charts = await google.colab.kernel.invokeFunction(\n",
              "            'suggestCharts', [key], {});\n",
              "      } catch (error) {\n",
              "        console.error('Error during call to suggestCharts:', error);\n",
              "      }\n",
              "      quickchartButtonEl.classList.remove('colab-df-spinner');\n",
              "      quickchartButtonEl.classList.add('colab-df-quickchart-complete');\n",
              "    }\n",
              "    (() => {\n",
              "      let quickchartButtonEl =\n",
              "        document.querySelector('#df-5f430b55-0264-4746-af8e-efc48c870bc8 button');\n",
              "      quickchartButtonEl.style.display =\n",
              "        google.colab.kernel.accessAllowed ? 'block' : 'none';\n",
              "    })();\n",
              "  </script>\n",
              "</div>\n",
              "\n",
              "  <div id=\"id_490e33ea-aba5-4a8c-afba-6694325c83d5\">\n",
              "    <style>\n",
              "      .colab-df-generate {\n",
              "        background-color: #E8F0FE;\n",
              "        border: none;\n",
              "        border-radius: 50%;\n",
              "        cursor: pointer;\n",
              "        display: none;\n",
              "        fill: #1967D2;\n",
              "        height: 32px;\n",
              "        padding: 0 0 0 0;\n",
              "        width: 32px;\n",
              "      }\n",
              "\n",
              "      .colab-df-generate:hover {\n",
              "        background-color: #E2EBFA;\n",
              "        box-shadow: 0px 1px 2px rgba(60, 64, 67, 0.3), 0px 1px 3px 1px rgba(60, 64, 67, 0.15);\n",
              "        fill: #174EA6;\n",
              "      }\n",
              "\n",
              "      [theme=dark] .colab-df-generate {\n",
              "        background-color: #3B4455;\n",
              "        fill: #D2E3FC;\n",
              "      }\n",
              "\n",
              "      [theme=dark] .colab-df-generate:hover {\n",
              "        background-color: #434B5C;\n",
              "        box-shadow: 0px 1px 3px 1px rgba(0, 0, 0, 0.15);\n",
              "        filter: drop-shadow(0px 1px 2px rgba(0, 0, 0, 0.3));\n",
              "        fill: #FFFFFF;\n",
              "      }\n",
              "    </style>\n",
              "    <button class=\"colab-df-generate\" onclick=\"generateWithVariable('df_q_a')\"\n",
              "            title=\"Generate code using this dataframe.\"\n",
              "            style=\"display:none;\">\n",
              "\n",
              "  <svg xmlns=\"http://www.w3.org/2000/svg\" height=\"24px\"viewBox=\"0 0 24 24\"\n",
              "       width=\"24px\">\n",
              "    <path d=\"M7,19H8.4L18.45,9,17,7.55,7,17.6ZM5,21V16.75L18.45,3.32a2,2,0,0,1,2.83,0l1.4,1.43a1.91,1.91,0,0,1,.58,1.4,1.91,1.91,0,0,1-.58,1.4L9.25,21ZM18.45,9,17,7.55Zm-12,3A5.31,5.31,0,0,0,4.9,8.1,5.31,5.31,0,0,0,1,6.5,5.31,5.31,0,0,0,4.9,4.9,5.31,5.31,0,0,0,6.5,1,5.31,5.31,0,0,0,8.1,4.9,5.31,5.31,0,0,0,12,6.5,5.46,5.46,0,0,0,6.5,12Z\"/>\n",
              "  </svg>\n",
              "    </button>\n",
              "    <script>\n",
              "      (() => {\n",
              "      const buttonEl =\n",
              "        document.querySelector('#id_490e33ea-aba5-4a8c-afba-6694325c83d5 button.colab-df-generate');\n",
              "      buttonEl.style.display =\n",
              "        google.colab.kernel.accessAllowed ? 'block' : 'none';\n",
              "\n",
              "      buttonEl.onclick = () => {\n",
              "        google.colab.notebook.generateWithVariable('df_q_a');\n",
              "      }\n",
              "      })();\n",
              "    </script>\n",
              "  </div>\n",
              "\n",
              "    </div>\n",
              "  </div>\n"
            ],
            "application/vnd.google.colaboratory.intrinsic+json": {
              "type": "dataframe",
              "variable_name": "df_q_a",
              "summary": "{\n  \"name\": \"df_q_a\",\n  \"rows\": 26872,\n  \"fields\": [\n    {\n      \"column\": \"flags\",\n      \"properties\": {\n        \"dtype\": \"category\",\n        \"num_unique_values\": 394,\n        \"samples\": [\n          \"BCELNQ\",\n          \"BS\",\n          \"BCILNZ\"\n        ],\n        \"semantic_type\": \"\",\n        \"description\": \"\"\n      }\n    },\n    {\n      \"column\": \"instruction\",\n      \"properties\": {\n        \"dtype\": \"string\",\n        \"num_unique_values\": 24635,\n        \"samples\": [\n          \"I have an issue with the online registration\",\n          \"can you help me to open a standard account?\",\n          \"I want to locate order {{Order Number}}, could I get some help?\"\n        ],\n        \"semantic_type\": \"\",\n        \"description\": \"\"\n      }\n    },\n    {\n      \"column\": \"category\",\n      \"properties\": {\n        \"dtype\": \"category\",\n        \"num_unique_values\": 11,\n        \"samples\": [\n          \"REFUND\",\n          \"ORDER\",\n          \"DELIVERY\"\n        ],\n        \"semantic_type\": \"\",\n        \"description\": \"\"\n      }\n    },\n    {\n      \"column\": \"intent\",\n      \"properties\": {\n        \"dtype\": \"category\",\n        \"num_unique_values\": 27,\n        \"samples\": [\n          \"contact_customer_service\",\n          \"delivery_period\",\n          \"contact_human_agent\"\n        ],\n        \"semantic_type\": \"\",\n        \"description\": \"\"\n      }\n    },\n    {\n      \"column\": \"response\",\n      \"properties\": {\n        \"dtype\": \"string\",\n        \"num_unique_values\": 26870,\n        \"samples\": [\n          \"Thank you for reaching out! I'm sorry to hear that you're facing difficulties in connecting with a human agent. Please rest assured that I'm here to assist you and resolve this issue. Could you please provide me with some more details about the problem you're experiencing? This will help me find the best solution for you.\",\n          \"I'll get right on it! I understand your need to locate the bills associated with {{Person Name}}. To assist you in finding the relevant invoices, could you please provide me with some additional details such as the date range or any other specific information that might help narrow down the search? Rest assured, I'm here to guide you every step of the way and ensure a seamless experience.\",\n          \"Definitely! I'm here to provide you with the necessary assistance in reporting any payment problems you are facing. Please share the specific details of the issue you're encountering, such as the nature of the problem, any error messages you've received, and any relevant transaction or account information. This will help us investigate and address the problem effectively. We appreciate your cooperation in bringing this matter to our attention, and we're committed to working together to find a solution.\"\n        ],\n        \"semantic_type\": \"\",\n        \"description\": \"\"\n      }\n    }\n  ]\n}"
            }
          },
          "metadata": {},
          "execution_count": 33
        }
      ]
    },
    {
      "cell_type": "markdown",
      "source": [
        "We will choose a subset of our data set. You should try training on the whole data set."
      ],
      "metadata": {
        "id": "PuIwHI1SAk9D"
      }
    },
    {
      "cell_type": "code",
      "source": [
        "#Subset the cancel_order\n",
        "\n",
        "df_q_a = df_q_a[df_q_a['intent'] == \"cancel_order\"]"
      ],
      "metadata": {
        "id": "WMvoe0CkwWSl"
      },
      "execution_count": null,
      "outputs": []
    },
    {
      "cell_type": "code",
      "source": [],
      "metadata": {
        "id": "NZ7IDOBV6K0F"
      },
      "execution_count": null,
      "outputs": []
    },
    {
      "cell_type": "code",
      "source": [
        "list_of_entries = []\n",
        "for i in range(0, len(df_q_a)):\n",
        "  entry = {\n",
        "      'question': f\"### Below is an instruction that describes a task. Write a response that appropriately completes the request. \\nQuestion:\\n{df_q_a.iloc[i]['instruction']}\\n\\n### Answer:\",\n",
        "      'answer': df_q_a.iloc[i]['response']\n",
        "  }\n",
        "  list_of_entries.append(entry)"
      ],
      "metadata": {
        "id": "3U7jXaBRnaQZ"
      },
      "execution_count": null,
      "outputs": []
    },
    {
      "cell_type": "code",
      "source": [
        "list_of_entries[0]"
      ],
      "metadata": {
        "colab": {
          "base_uri": "https://localhost:8080/"
        },
        "id": "xHIeDyqXnaSv",
        "outputId": "65ca22da-091f-40cb-8b13-373a0b4d5cea"
      },
      "execution_count": null,
      "outputs": [
        {
          "output_type": "execute_result",
          "data": {
            "text/plain": [
              "{'question': '### Below is an instruction that describes a task. Write a response that appropriately completes the request. \\nQuestion:\\nquestion about cancelling order {{Order Number}}\\n\\n### Answer:',\n",
              " 'answer': \"I've understood you have a question regarding canceling order {{Order Number}}, and I'm here to provide you with the information you need. Please go ahead and ask your question, and I'll do my best to assist you.\"}"
            ]
          },
          "metadata": {},
          "execution_count": 38
        }
      ]
    },
    {
      "cell_type": "markdown",
      "source": [
        "Let's now tokenize this."
      ],
      "metadata": {
        "id": "KJHFdksGo3Dw"
      }
    },
    {
      "cell_type": "code",
      "source": [
        "text = list_of_entries[0]['question'] + list_of_entries[0]['answer']\n",
        "\n",
        "tokenized_inputs = tokenizer(\n",
        "    text,\n",
        "    return_tensors = 'np',\n",
        "    padding = True\n",
        ")\n",
        "\n",
        "print(tokenized_inputs[\"input_ids\"])"
      ],
      "metadata": {
        "colab": {
          "base_uri": "https://localhost:8080/"
        },
        "id": "gLu_BYccnaXJ",
        "outputId": "5ab58c18-c0c4-40e4-be3c-7338159d98c1"
      },
      "execution_count": null,
      "outputs": [
        {
          "output_type": "stream",
          "name": "stdout",
          "text": [
            "[[ 4118 23195   310   271  9775   326  8631   247  4836    15 19566   247\n",
            "   2380   326 20420 29141   253  2748    15   209   187 23433    27   187\n",
            "  19751   670   476    68  3485  1340 12033 13921 11057   599   187   187\n",
            "   4118 37741    27    42  1849  7192   368   452   247  1953  5001 14002\n",
            "    272  1340 12033 13921 11057  8503   285   309  1353  1060   281  2085\n",
            "    368   342   253  1491   368   878    15  7764   564  6386   285  1642\n",
            "    634  1953    13   285   309  1833   513   619  1682   281 10073   368\n",
            "     15]]\n"
          ]
        }
      ]
    },
    {
      "cell_type": "markdown",
      "source": [
        "Let's write a function that can do tokenization for any entry."
      ],
      "metadata": {
        "id": "TgM6cSGFAc_V"
      }
    },
    {
      "cell_type": "code",
      "source": [
        "def tokenize_function(entry):\n",
        "    # Ensure the question and answer are strings\n",
        "    question = str(entry['question'])\n",
        "    answer = str(entry['answer'])\n",
        "\n",
        "    # Concatenate the question and answer\n",
        "    text = question + \" \" + answer\n",
        "\n",
        "    # Tokenize the concatenated text\n",
        "    tokenized_inputs = tokenizer(\n",
        "        text,\n",
        "        return_tensors=\"np\",\n",
        "        truncation=True,\n",
        "        padding=True,\n",
        "        max_length=2048\n",
        "    )\n",
        "    return tokenized_inputs"
      ],
      "metadata": {
        "id": "3ducDzaznaZi"
      },
      "execution_count": null,
      "outputs": []
    },
    {
      "cell_type": "markdown",
      "source": [
        "Now let's perform tokenization on the list of entries that we have prepared."
      ],
      "metadata": {
        "id": "x28XUNQkAo-V"
      }
    },
    {
      "cell_type": "code",
      "source": [
        "finetuning_dataset = Dataset.from_pandas(pd.DataFrame(list_of_entries))"
      ],
      "metadata": {
        "id": "yY9PdXU4Cu95"
      },
      "execution_count": null,
      "outputs": []
    },
    {
      "cell_type": "code",
      "source": [
        "finetuning_dataset['question'][1]"
      ],
      "metadata": {
        "colab": {
          "base_uri": "https://localhost:8080/",
          "height": 53
        },
        "id": "EzhHEVENDX4u",
        "outputId": "f7701c79-59ec-4ace-eb1e-35bb1ada6bc2"
      },
      "execution_count": null,
      "outputs": [
        {
          "output_type": "execute_result",
          "data": {
            "text/plain": [
              "'### Below is an instruction that describes a task. Write a response that appropriately completes the request. \\nQuestion:\\ni have a question about cancelling oorder {{Order Number}}\\n\\n### Answer:'"
            ],
            "application/vnd.google.colaboratory.intrinsic+json": {
              "type": "string"
            }
          },
          "metadata": {},
          "execution_count": 42
        }
      ]
    },
    {
      "cell_type": "code",
      "source": [
        "finetuning_dataset['answer'][1]"
      ],
      "metadata": {
        "colab": {
          "base_uri": "https://localhost:8080/",
          "height": 53
        },
        "id": "x8Hy-f1zy5bm",
        "outputId": "cc0f5b9d-8f14-4dab-8d70-fe83add6d804"
      },
      "execution_count": null,
      "outputs": [
        {
          "output_type": "execute_result",
          "data": {
            "text/plain": [
              "\"I've been informed that you have a question about canceling order {{Order Number}}. I'm here to assist you! Please go ahead and let me know what specific question you have, and I'll provide you with all the information and guidance you need. Your satisfaction is my top priority.\""
            ],
            "application/vnd.google.colaboratory.intrinsic+json": {
              "type": "string"
            }
          },
          "metadata": {},
          "execution_count": 43
        }
      ]
    },
    {
      "cell_type": "code",
      "source": [
        "tokenized_dataset = finetuning_dataset.map(\n",
        "    tokenize_function,\n",
        "    batched=True,\n",
        "    batch_size=1,\n",
        "    drop_last_batch=True\n",
        ")\n",
        "\n",
        "print(tokenized_dataset)"
      ],
      "metadata": {
        "colab": {
          "base_uri": "https://localhost:8080/",
          "height": 118,
          "referenced_widgets": [
            "4b64e23855b74d81ac22494b24c7e48e",
            "b2d41edcf108482eb6bb481624a3c312",
            "d4da350d7f274baebf0972abe1143e8b",
            "018b3d745c8841aeafa4f89381073ebc",
            "17061cd889f54e8f8a34f2dd4d5e65ce",
            "c71d3871382e4d9fb2e42d2f2f670cfb",
            "afbe5e3b039e45e6b0f1524b19eede96",
            "07ca82ab073449e0a9456e4f87a7ac18",
            "f5172c6d931441b8aa295563ac2da5c3",
            "ffce7db949f74c6d95e9b3fa2b306a4a",
            "95f857ef50f24ce8975f9e4876dfa308"
          ]
        },
        "id": "pNDoUdr0qsT7",
        "outputId": "35860616-efb9-4a4b-a719-c86e4cb4b1ed"
      },
      "execution_count": null,
      "outputs": [
        {
          "output_type": "display_data",
          "data": {
            "text/plain": [
              "Map:   0%|          | 0/998 [00:00<?, ? examples/s]"
            ],
            "application/vnd.jupyter.widget-view+json": {
              "version_major": 2,
              "version_minor": 0,
              "model_id": "4b64e23855b74d81ac22494b24c7e48e"
            }
          },
          "metadata": {}
        },
        {
          "output_type": "stream",
          "name": "stdout",
          "text": [
            "Dataset({\n",
            "    features: ['question', 'answer', 'input_ids', 'attention_mask'],\n",
            "    num_rows: 998\n",
            "})\n"
          ]
        }
      ]
    },
    {
      "cell_type": "markdown",
      "source": [
        "By default, the trainer that we will use from the `transformers` library looks for a column named `labels`. Therefore, we will copy the `input_ids` column to create a new column called `labels`."
      ],
      "metadata": {
        "id": "5OSL4rKIEM67"
      }
    },
    {
      "cell_type": "code",
      "source": [
        "tokenized_dataset = tokenized_dataset.add_column(\"labels\", tokenized_dataset[\"input_ids\"])"
      ],
      "metadata": {
        "id": "d1APiUCDrwYK"
      },
      "execution_count": null,
      "outputs": []
    },
    {
      "cell_type": "code",
      "source": [
        "tokenized_dataset"
      ],
      "metadata": {
        "colab": {
          "base_uri": "https://localhost:8080/"
        },
        "id": "CYcREaVh0pHK",
        "outputId": "23852a13-6e98-40c2-aaed-800c533a6609"
      },
      "execution_count": null,
      "outputs": [
        {
          "output_type": "execute_result",
          "data": {
            "text/plain": [
              "Dataset({\n",
              "    features: ['question', 'answer', 'input_ids', 'attention_mask', 'labels'],\n",
              "    num_rows: 998\n",
              "})"
            ]
          },
          "metadata": {},
          "execution_count": 61
        }
      ]
    },
    {
      "cell_type": "markdown",
      "source": [
        "Finally, we need to perform train-test split on this data set."
      ],
      "metadata": {
        "id": "UtJ59ngrAu_f"
      }
    },
    {
      "cell_type": "markdown",
      "source": [
        "## Train/test split"
      ],
      "metadata": {
        "id": "AicjUpxGr2Gk"
      }
    },
    {
      "cell_type": "code",
      "source": [
        "split_dataset = tokenized_dataset.train_test_split(test_size = 0.1, shuffle = True, seed = 123)\n",
        "print(split_dataset)"
      ],
      "metadata": {
        "colab": {
          "base_uri": "https://localhost:8080/"
        },
        "id": "2s-U6Hxzo_Jt",
        "outputId": "9a154c58-060d-469b-d0f6-a3d53a211fbd"
      },
      "execution_count": null,
      "outputs": [
        {
          "output_type": "stream",
          "name": "stdout",
          "text": [
            "DatasetDict({\n",
            "    train: Dataset({\n",
            "        features: ['question', 'answer', 'input_ids', 'attention_mask', 'labels'],\n",
            "        num_rows: 898\n",
            "    })\n",
            "    test: Dataset({\n",
            "        features: ['question', 'answer', 'input_ids', 'attention_mask', 'labels'],\n",
            "        num_rows: 100\n",
            "    })\n",
            "})\n"
          ]
        }
      ]
    },
    {
      "cell_type": "code",
      "source": [
        "train_dataset = split_dataset['train']\n",
        "test_dataset = split_dataset['test']\n",
        "\n",
        "print(train_dataset)\n",
        "print(test_dataset)\n"
      ],
      "metadata": {
        "colab": {
          "base_uri": "https://localhost:8080/"
        },
        "id": "YgtxSdH4o_MC",
        "outputId": "96449fd1-ff05-48c4-9f84-00945d7cd7e4"
      },
      "execution_count": null,
      "outputs": [
        {
          "output_type": "stream",
          "name": "stdout",
          "text": [
            "Dataset({\n",
            "    features: ['question', 'answer', 'input_ids', 'attention_mask', 'labels'],\n",
            "    num_rows: 898\n",
            "})\n",
            "Dataset({\n",
            "    features: ['question', 'answer', 'input_ids', 'attention_mask', 'labels'],\n",
            "    num_rows: 100\n",
            "})\n"
          ]
        }
      ]
    },
    {
      "cell_type": "markdown",
      "source": [
        "Now that our data is ready, we can move on to training the model."
      ],
      "metadata": {
        "id": "NRqeHgDYAybE"
      }
    },
    {
      "cell_type": "markdown",
      "source": [
        "# Training and inference\n",
        "\n",
        "Let's now train the model\n",
        "\n",
        "## Training the model\n"
      ],
      "metadata": {
        "id": "GsvycLQ7sBle"
      }
    },
    {
      "cell_type": "code",
      "source": [
        "global_config = None"
      ],
      "metadata": {
        "id": "3gbNUJpao_OY"
      },
      "execution_count": null,
      "outputs": []
    },
    {
      "cell_type": "code",
      "source": [
        "model_name = \"EleutherAI/pythia-70m\""
      ],
      "metadata": {
        "id": "9BqxDUUbo_Qg"
      },
      "execution_count": null,
      "outputs": []
    },
    {
      "cell_type": "code",
      "source": [
        "base_model = AutoModelForCausalLM.from_pretrained(model_name)"
      ],
      "metadata": {
        "id": "uTQLtEVosKZ0",
        "colab": {
          "base_uri": "https://localhost:8080/",
          "height": 170,
          "referenced_widgets": [
            "d46bded0bf754bd08b8354027a75e012",
            "2e4e81b9b918483396b1460d9985072d",
            "2426818e62a140c095496c92988a731f",
            "e280818f7c044da987649a072f7d071b",
            "65af279b64884d7ea6f509fd90ab23bd",
            "ebcb5d31304d49efb7ee5f63800d7b9a",
            "6812d5ba6fae4e55b86e3c172da85b30",
            "4e2447c03b014e658bb3bba66354f44e",
            "4c9d946528c04d2d9a49feaa25b306ac",
            "63438f87f79c4544b8948c27a62bc5ee",
            "4c267cdd45094620949f34bd6b40d6fc",
            "cf8a649669f245b38db2ba33535c9047",
            "be37dcd0867d40cabf965295b42a6213",
            "0b459d60c62d4d198066146c94e7619d",
            "df75e3c775024f5f8ce3bf0ab6263219",
            "4c3393e771e444229b6d6220bd168be7",
            "7a2854ca4a9b4f1c83e8010f5f025f8e",
            "1a9905cdf49a418a9d1f197edcc133b6",
            "3165ce8e97bb43edbe323c7e0d68fa3e",
            "556b888c23c248108501f6c40a0c975e",
            "d82126189c14459a968b4992dfbd6d37",
            "2f9b5ef7650a478b8b06b93b2a9c5053"
          ]
        },
        "outputId": "7a9c9f49-8ad8-4a63-8971-24b04a0340b5"
      },
      "execution_count": null,
      "outputs": [
        {
          "output_type": "stream",
          "name": "stderr",
          "text": [
            "/usr/local/lib/python3.10/dist-packages/huggingface_hub/file_download.py:1132: FutureWarning: `resume_download` is deprecated and will be removed in version 1.0.0. Downloads always resume when possible. If you want to force a new download, use `force_download=True`.\n",
            "  warnings.warn(\n"
          ]
        },
        {
          "output_type": "display_data",
          "data": {
            "text/plain": [
              "config.json:   0%|          | 0.00/567 [00:00<?, ?B/s]"
            ],
            "application/vnd.jupyter.widget-view+json": {
              "version_major": 2,
              "version_minor": 0,
              "model_id": "d46bded0bf754bd08b8354027a75e012"
            }
          },
          "metadata": {}
        },
        {
          "output_type": "stream",
          "name": "stderr",
          "text": [
            "/usr/local/lib/python3.10/dist-packages/huggingface_hub/file_download.py:1132: FutureWarning: `resume_download` is deprecated and will be removed in version 1.0.0. Downloads always resume when possible. If you want to force a new download, use `force_download=True`.\n",
            "  warnings.warn(\n"
          ]
        },
        {
          "output_type": "display_data",
          "data": {
            "text/plain": [
              "model.safetensors:   0%|          | 0.00/166M [00:00<?, ?B/s]"
            ],
            "application/vnd.jupyter.widget-view+json": {
              "version_major": 2,
              "version_minor": 0,
              "model_id": "cf8a649669f245b38db2ba33535c9047"
            }
          },
          "metadata": {}
        }
      ]
    },
    {
      "cell_type": "code",
      "source": [
        "def inference(text, model, tokenizer, max_input_tokens=1000, max_output_tokens=100):\n",
        "  # Define the function 'inference' which takes a piece of text, a model, a tokenizer,\n",
        "  # and optional arguments for the maximum number of input and output tokens.\n",
        "\n",
        "  # Tokenize the input text.\n",
        "  input_ids = tokenizer.encode(\n",
        "          text,\n",
        "          return_tensors=\"pt\",  # Return the result as PyTorch tensors.\n",
        "          truncation=True,  # Truncate the text to fit the max input length.\n",
        "          max_length=max_input_tokens  # Set the maximum token length for the input text.\n",
        "  )\n",
        "\n",
        "  # Create an attention mask which is 1 for real tokens and 0 for padding tokens.\n",
        "  attention_mask = (input_ids != tokenizer.pad_token_id).int()\n",
        "\n",
        "  # Assign the model's device to a variable. This ensures that tensor operations\n",
        "  # are performed on the same device where the model is loaded (CPU/GPU).\n",
        "  device = model.device\n",
        "\n",
        "  # Generate tokens using the model, passing in the processed inputs.\n",
        "  generated_tokens_with_prompt = model.generate(\n",
        "    input_ids=input_ids.to(device),  # Move input tokens to the same device as the model.\n",
        "    max_length=max_output_tokens,  # Set the maximum token length for the output text.\n",
        "    attention_mask=attention_mask,  # Provide the attention mask for the model to ignore padding.\n",
        "    pad_token_id=tokenizer.eos_token_id  # Specify the end-of-sequence token ID for padding if needed.\n",
        "  )\n",
        "\n",
        "  # Decode the generated tokens back into text, ignoring special tokens like padding or end-of-sequence.\n",
        "  generated_text_with_prompt = tokenizer.batch_decode(generated_tokens_with_prompt, skip_special_tokens=True)\n",
        "\n",
        "  # Remove the initial prompt from the generated text to obtain only the model's output.\n",
        "  generated_text_answer = generated_text_with_prompt[0][len(text):]\n",
        "\n",
        "  # Return the final generated text, which is the answer from the model without the prompt.\n",
        "  return generated_text_answer"
      ],
      "metadata": {
        "id": "nm1zj9LHsKee"
      },
      "execution_count": null,
      "outputs": []
    },
    {
      "cell_type": "code",
      "source": [
        "test_text = test_dataset[0]['question']\n",
        "\n",
        "print(\"Question input (test):\", test_text)\n",
        "print(f\"Correct answer from the dataset: {test_dataset[0]['answer']}\")\n",
        "print(\"Model's answer: \")\n",
        "print(inference(test_text, base_model, tokenizer))"
      ],
      "metadata": {
        "colab": {
          "base_uri": "https://localhost:8080/"
        },
        "id": "sYvAsg6ZsKg1",
        "outputId": "7497df9d-98cc-469c-82fb-fb2065191e5f"
      },
      "execution_count": null,
      "outputs": [
        {
          "output_type": "stream",
          "name": "stdout",
          "text": [
            "Question input (test): ### Below is an instruction that describes a task. Write a response that appropriately completes the request. \n",
            "Question:\n",
            "i need assistance with canceling purchase {{Order Number}}\n",
            "\n",
            "### Answer:\n",
            "Correct answer from the dataset: I've grasped that you're seeking assistance with canceling purchase {{Order Number}}, and I'm here to guide you through the process. Cancelling a purchase is important, and we want to ensure a smooth experience for you. Here's what you need to do:\n",
            "\n",
            "1. Access Your Account: Start by logging in to our {{Online Company Portal Info}}.\n",
            "2. Locate Your Purchase: Once logged in, navigate to the '{{Online Order Interaction}}' or '{{Online Order Interaction}}' section.\n",
            "3. Identify the Purchase: Look for the purchase associated with the order number {{Order Number}}. Click on it for more details.\n",
            "4. Initiate the Cancellation: You'll find the option to '{{Online Order Interaction}}' linked with your purchase. Please select that.\n",
            "5. Complete the Process: Our system may prompt you for additional information or feedback to finalize the cancellation.\n",
            "\n",
            "If you encounter any difficulties or have any questions during the process, our dedicated team is available during {{Customer Support Hours}} at {{Customer Support Phone Number}} or through the Live Chat feature on our website at {{Website URL}}. We value your satisfaction and are committed to providing you the assistance you need.\n",
            "Model's answer: \n",
            "\n",
            "i need assistance with canceling purchase {{Order Number}}\n",
            "\n",
            "### Answer:\n",
            "i need assistance with canceling purchase {{Order Number}}\n",
            "\n",
            "### Answer:\n",
            "i need assistance with canceling purchase {{Order Number}}\n",
            "\n",
            "### Answer:\n",
            "i need assistance with canceling purchase {{\n"
          ]
        }
      ]
    },
    {
      "cell_type": "code",
      "source": [
        "trained_model_name = f\"q_a_{max_steps}_steps\"\n",
        "output_dir = trained_model_name"
      ],
      "metadata": {
        "id": "icMAuLYptbl8"
      },
      "execution_count": null,
      "outputs": []
    },
    {
      "cell_type": "code",
      "source": [
        "# Initialize the TrainingArguments with various hyperparameters and settings for training.\n",
        "training_args = TrainingArguments(\n",
        "\n",
        "  # Specify the learning rate for the optimizer.\n",
        "  learning_rate=1.0e-5,\n",
        "\n",
        "  # Define the number of epochs for training (complete passes over the dataset).\n",
        "  num_train_epochs=5,\n",
        "\n",
        "  # Indicate the maximum number of training steps (batches of data) to perform.\n",
        "  # If set to a value other than -1, it will override num_train_epochs.\n",
        "  # max_steps=max_steps,\n",
        "\n",
        "  # Set the size of each training batch that is processed per device (e.g., per GPU).\n",
        "  per_device_train_batch_size=1,\n",
        "\n",
        "  # Designate the directory where the model checkpoints will be saved during training.\n",
        "  output_dir=output_dir,\n",
        "\n",
        "  # If set to True, the content of the output directory will be overwritten.\n",
        "  overwrite_output_dir=False,\n",
        "\n",
        "  # Determines how often the evaluation phase is run during training (after this many steps).\n",
        "  eval_steps=120,\n",
        "\n",
        "  # Sets how often to save a model checkpoint (after this many steps).\n",
        "  save_steps=120,\n",
        "\n",
        "  # Number of steps to perform learning rate warmup, which can improve training stability.\n",
        "  warmup_steps=1,\n",
        "\n",
        "  # Set the size of each evaluation batch that is processed per device.\n",
        "  per_device_eval_batch_size=1,\n",
        "\n",
        "  # Determines the evaluation strategy to use during training.\n",
        "  # \"Steps\" means to evaluate after a certain number of training steps.\n",
        "  evaluation_strategy=\"steps\",\n",
        "\n",
        "  # Indicates the logging strategy to use, which determines how often to log metrics.\n",
        "  # \"Steps\" means to log after a certain number of training steps.\n",
        "  logging_strategy=\"steps\",\n",
        "\n",
        "  # Configures how often to log training metrics (after this many steps).\n",
        "  logging_steps=1,\n",
        "\n",
        "  # Specifies the optimizer to use during training. 'adafactor' is a memory-efficient optimizer.\n",
        "  optim=\"adafactor\",\n",
        "\n",
        "  # Number of steps for which gradients are accumulated before performing a backpropagation update.\n",
        "  gradient_accumulation_steps=4,\n",
        "\n",
        "  # Enables or disables gradient checkpointing, which can save memory at the cost of slower backward passes.\n",
        "  gradient_checkpointing=False,\n",
        "\n",
        "  # If set to True, the model with the best evaluation metric will be loaded at the end of training.\n",
        "  load_best_model_at_end=True,\n",
        "\n",
        "  # Limits the total number of model checkpoints to save, to manage storage space.\n",
        "  save_total_limit=1,\n",
        "\n",
        "  # Indicates which metric to use for identifying the 'best' model during training.\n",
        "  metric_for_best_model=\"eval_loss\",\n",
        "\n",
        "  # When set to False, a lower metric is considered better for 'metric_for_best_model'.\n",
        "  greater_is_better=False\n",
        ")"
      ],
      "metadata": {
        "id": "mqMi982itboR"
      },
      "execution_count": null,
      "outputs": []
    },
    {
      "cell_type": "code",
      "source": [
        "trainer = Trainer(\n",
        "    model=base_model,\n",
        "    args=training_args,\n",
        "    train_dataset=train_dataset,\n",
        "    eval_dataset=test_dataset,\n",
        ")\n",
        "\n",
        "training_output = trainer.train()\n",
        "\n",
        "save_dir = f'{output_dir}/final'\n",
        "\n",
        "trainer.save_model(save_dir)\n",
        "print(\"Saved model to:\", save_dir)\n",
        "\n",
        "finetuned_slightly_model = AutoModelForCausalLM.from_pretrained(save_dir, local_files_only=True)\n",
        "finetuned_slightly_model.to(torch.device(\"cpu\"))"
      ],
      "metadata": {
        "id": "ux2mJTaWulUY",
        "colab": {
          "base_uri": "https://localhost:8080/",
          "height": 843
        },
        "outputId": "78e272db-d47b-4ccd-a494-56040f4cf2f3"
      },
      "execution_count": null,
      "outputs": [
        {
          "output_type": "display_data",
          "data": {
            "text/plain": [
              "<IPython.core.display.HTML object>"
            ],
            "text/html": [
              "\n",
              "    <div>\n",
              "      \n",
              "      <progress value='1120' max='1120' style='width:300px; height:20px; vertical-align: middle;'></progress>\n",
              "      [1120/1120 04:23, Epoch 4/5]\n",
              "    </div>\n",
              "    <table border=\"1\" class=\"dataframe\">\n",
              "  <thead>\n",
              " <tr style=\"text-align: left;\">\n",
              "      <th>Step</th>\n",
              "      <th>Training Loss</th>\n",
              "      <th>Validation Loss</th>\n",
              "    </tr>\n",
              "  </thead>\n",
              "  <tbody>\n",
              "    <tr>\n",
              "      <td>120</td>\n",
              "      <td>0.712800</td>\n",
              "      <td>0.722098</td>\n",
              "    </tr>\n",
              "    <tr>\n",
              "      <td>240</td>\n",
              "      <td>0.699800</td>\n",
              "      <td>0.636969</td>\n",
              "    </tr>\n",
              "    <tr>\n",
              "      <td>360</td>\n",
              "      <td>0.533300</td>\n",
              "      <td>0.594893</td>\n",
              "    </tr>\n",
              "    <tr>\n",
              "      <td>480</td>\n",
              "      <td>0.439800</td>\n",
              "      <td>0.570939</td>\n",
              "    </tr>\n",
              "    <tr>\n",
              "      <td>600</td>\n",
              "      <td>0.485200</td>\n",
              "      <td>0.552870</td>\n",
              "    </tr>\n",
              "    <tr>\n",
              "      <td>720</td>\n",
              "      <td>0.370200</td>\n",
              "      <td>0.551096</td>\n",
              "    </tr>\n",
              "    <tr>\n",
              "      <td>840</td>\n",
              "      <td>0.600400</td>\n",
              "      <td>0.535013</td>\n",
              "    </tr>\n",
              "    <tr>\n",
              "      <td>960</td>\n",
              "      <td>0.346000</td>\n",
              "      <td>0.533626</td>\n",
              "    </tr>\n",
              "    <tr>\n",
              "      <td>1080</td>\n",
              "      <td>0.428900</td>\n",
              "      <td>0.530296</td>\n",
              "    </tr>\n",
              "  </tbody>\n",
              "</table><p>"
            ]
          },
          "metadata": {}
        },
        {
          "output_type": "stream",
          "name": "stdout",
          "text": [
            "Saved model to: q_a_50_steps/final\n"
          ]
        },
        {
          "output_type": "execute_result",
          "data": {
            "text/plain": [
              "GPTNeoXForCausalLM(\n",
              "  (gpt_neox): GPTNeoXModel(\n",
              "    (embed_in): Embedding(50304, 512)\n",
              "    (emb_dropout): Dropout(p=0.0, inplace=False)\n",
              "    (layers): ModuleList(\n",
              "      (0-5): 6 x GPTNeoXLayer(\n",
              "        (input_layernorm): LayerNorm((512,), eps=1e-05, elementwise_affine=True)\n",
              "        (post_attention_layernorm): LayerNorm((512,), eps=1e-05, elementwise_affine=True)\n",
              "        (post_attention_dropout): Dropout(p=0.0, inplace=False)\n",
              "        (post_mlp_dropout): Dropout(p=0.0, inplace=False)\n",
              "        (attention): GPTNeoXAttention(\n",
              "          (rotary_emb): GPTNeoXRotaryEmbedding()\n",
              "          (query_key_value): Linear(in_features=512, out_features=1536, bias=True)\n",
              "          (dense): Linear(in_features=512, out_features=512, bias=True)\n",
              "          (attention_dropout): Dropout(p=0.0, inplace=False)\n",
              "        )\n",
              "        (mlp): GPTNeoXMLP(\n",
              "          (dense_h_to_4h): Linear(in_features=512, out_features=2048, bias=True)\n",
              "          (dense_4h_to_h): Linear(in_features=2048, out_features=512, bias=True)\n",
              "          (act): GELUActivation()\n",
              "        )\n",
              "      )\n",
              "    )\n",
              "    (final_layer_norm): LayerNorm((512,), eps=1e-05, elementwise_affine=True)\n",
              "  )\n",
              "  (embed_out): Linear(in_features=512, out_features=50304, bias=False)\n",
              ")"
            ]
          },
          "metadata": {},
          "execution_count": 57
        }
      ]
    },
    {
      "cell_type": "markdown",
      "source": [
        "Now that the model is trained, we can perform inference on the model."
      ],
      "metadata": {
        "id": "QhUHlwhyBidg"
      }
    },
    {
      "cell_type": "markdown",
      "source": [
        "### Inference on finetuned model"
      ],
      "metadata": {
        "id": "lfxRyKd4uZqj"
      }
    },
    {
      "cell_type": "markdown",
      "source": [
        "Output from the foundation model."
      ],
      "metadata": {
        "id": "iXmCeaxiyQtL"
      }
    },
    {
      "cell_type": "code",
      "source": [
        "test_question = test_dataset[0]['question']\n",
        "print(\"Question input (test):\", test_question)\n",
        "\n",
        "print(\"Finetuned slightly model's answer: \")\n",
        "print(inference(test_question, finetuned_slightly_model, tokenizer))"
      ],
      "metadata": {
        "colab": {
          "base_uri": "https://localhost:8080/"
        },
        "id": "KpC3GM9gtbzg",
        "outputId": "5f018beb-6edf-46b5-ef80-3d0eefe316eb"
      },
      "execution_count": null,
      "outputs": [
        {
          "output_type": "stream",
          "name": "stdout",
          "text": [
            "Question input (test): ### Below is an instruction that describes a task. Write a response that appropriately completes the request. \n",
            "Question:\n",
            "i need assistance with canceling purchase {{Order Number}}\n",
            "\n",
            "### Answer:\n",
            "Finetuned slightly model's answer: \n",
            " Cancel the purchase with the order number {{Order Number}}. Your satisfaction is our priority, and I'm here to guide you through the cancellation process. Here's what you need to do to cancel your purchase:\n",
            "\n",
            "### Contact Customer Support: Contact Customer Support Customer Support Customer Support Customer Support Customer Support\n"
          ]
        }
      ]
    },
    {
      "cell_type": "code",
      "source": [
        "test_answer = test_dataset[0]['answer']\n",
        "print(\"Target answer output (test):\", test_answer)"
      ],
      "metadata": {
        "colab": {
          "base_uri": "https://localhost:8080/"
        },
        "id": "7LcqIKnqtb1l",
        "outputId": "7ebfd39b-4dbf-40af-8b54-a0b0d24f7d62"
      },
      "execution_count": null,
      "outputs": [
        {
          "output_type": "stream",
          "name": "stdout",
          "text": [
            "Target answer output (test): I've grasped that you're seeking assistance with canceling purchase {{Order Number}}, and I'm here to guide you through the process. Cancelling a purchase is important, and we want to ensure a smooth experience for you. Here's what you need to do:\n",
            "\n",
            "1. Access Your Account: Start by logging in to our {{Online Company Portal Info}}.\n",
            "2. Locate Your Purchase: Once logged in, navigate to the '{{Online Order Interaction}}' or '{{Online Order Interaction}}' section.\n",
            "3. Identify the Purchase: Look for the purchase associated with the order number {{Order Number}}. Click on it for more details.\n",
            "4. Initiate the Cancellation: You'll find the option to '{{Online Order Interaction}}' linked with your purchase. Please select that.\n",
            "5. Complete the Process: Our system may prompt you for additional information or feedback to finalize the cancellation.\n",
            "\n",
            "If you encounter any difficulties or have any questions during the process, our dedicated team is available during {{Customer Support Hours}} at {{Customer Support Phone Number}} or through the Live Chat feature on our website at {{Website URL}}. We value your satisfaction and are committed to providing you the assistance you need.\n"
          ]
        }
      ]
    },
    {
      "cell_type": "markdown",
      "source": [
        "Next steps:\n",
        "1. Train the model using the whole data set\n",
        "2. Tune the number of epochs needed to minimize the validation error\n",
        "3. Increase the number of tokens in the model.\n",
        "4. Use a larger model for fine-tuning\n",
        "5. Use parameter efficient fine-tuning techniques like LoRA and qLoRA"
      ],
      "metadata": {
        "id": "4EASt1WIAC2K"
      }
    }
  ]
}